{
  "nbformat": 4,
  "nbformat_minor": 0,
  "metadata": {
    "colab": {
      "provenance": [],
      "toc_visible": true,
      "authorship_tag": "ABX9TyOSZdE1mKi3vWmLhCGGOxJU",
      "include_colab_link": true
    },
    "kernelspec": {
      "name": "python3",
      "display_name": "Python 3"
    },
    "language_info": {
      "name": "python"
    }
  },
  "cells": [
    {
      "cell_type": "markdown",
      "metadata": {
        "id": "view-in-github",
        "colab_type": "text"
      },
      "source": [
        "<a href=\"https://colab.research.google.com/github/minnjeee/SWcamp_3project_TextMining/blob/main/3_%EA%B0%90%EC%A0%95%EB%B6%84%EB%A5%98_%EB%AA%A8%EB%8D%B8%EB%A7%81.ipynb\" target=\"_parent\"><img src=\"https://colab.research.google.com/assets/colab-badge.svg\" alt=\"Open In Colab\"/></a>"
      ]
    },
    {
      "cell_type": "code",
      "execution_count": null,
      "metadata": {
        "colab": {
          "base_uri": "https://localhost:8080/"
        },
        "id": "bUQnLFHymB1H",
        "outputId": "57cccaaa-15be-4d80-acd5-9ccbf9385b36"
      },
      "outputs": [
        {
          "output_type": "stream",
          "name": "stdout",
          "text": [
            "Drive already mounted at /content/drive; to attempt to forcibly remount, call drive.mount(\"/content/drive\", force_remount=True).\n"
          ]
        }
      ],
      "source": [
        "from google.colab import drive\n",
        "drive.mount('/content/drive')"
      ]
    },
    {
      "cell_type": "markdown",
      "source": [
        "# 라이브러리 임포트"
      ],
      "metadata": {
        "id": "yRHRMzYee7Yx"
      }
    },
    {
      "cell_type": "code",
      "source": [
        "import pandas as pd\n",
        "import numpy as np\n",
        "from tqdm import tqdm\n",
        "import math\n",
        "import pickle"
      ],
      "metadata": {
        "id": "7J2GSmECe9iB"
      },
      "execution_count": null,
      "outputs": []
    },
    {
      "cell_type": "code",
      "source": [
        "# 텍스트 수치화 관련 라이브러리\n",
        "from sklearn.feature_extraction.text import CountVectorizer\n",
        "from sklearn.feature_extraction.text import TfidfVectorizer\n",
        "from tensorflow.keras.preprocessing.text import Tokenizer # 정수 인코딩\n",
        "from tensorflow.keras.preprocessing.sequence import pad_sequences # 패딩 작업\n",
        "\n",
        "# 워드임베딩 관련 라이브러리\n",
        "from gensim.models import Word2Vec\n",
        "from gensim.models import FastText\n",
        "\n",
        "# 시각화 관련 라이브러리\n",
        "import matplotlib.pyplot as plt\n",
        "import seaborn as sns\n",
        "from IPython.display import Image\n",
        "from PIL import Image\n",
        "from wordcloud import WordCloud\n",
        "\n",
        "# 분석 관련 라이브러리\n",
        "from sklearn.model_selection import train_test_split\n",
        "from sklearn.metrics import accuracy_score, precision_score, recall_score, f1_score, confusion_matrix\n",
        "\n",
        "from sklearn.linear_model import LogisticRegression\n",
        "\n",
        "from tensorflow.keras import Sequential\n",
        "from tensorflow.keras.layers import Dense, Embedding, LSTM, Dropout, Bidirectional, GRU\n",
        "from tensorflow.keras.callbacks import EarlyStopping, ModelCheckpoint\n",
        "\n",
        "from tensorflow.keras.models import load_model\n",
        "from sklearn.metrics import classification_report"
      ],
      "metadata": {
        "id": "zygRqJkVe-Gx"
      },
      "execution_count": null,
      "outputs": []
    },
    {
      "cell_type": "markdown",
      "source": [
        "# 훈련/테스트 데이터 분리"
      ],
      "metadata": {
        "id": "rdJQ52larE9Y"
      }
    },
    {
      "cell_type": "code",
      "source": [
        "data = pd.read_csv('/content/drive/MyDrive/Colab Notebooks/SW캠프 데이터 비즈니스 과정/Re:Source/data_4label.csv')\n",
        "data.columns"
      ],
      "metadata": {
        "colab": {
          "base_uri": "https://localhost:8080/"
        },
        "id": "CErHQ2x82Yxb",
        "outputId": "ce298fbf-3227-4965-8c4e-5fde41074652"
      },
      "execution_count": null,
      "outputs": [
        {
          "output_type": "execute_result",
          "data": {
            "text/plain": [
              "Index(['name', 'star', 'date', 'content', 'utility', 'g_no', 'pre', 'tok',\n",
              "       'no_ad', 'nouns', 'all', 'score', 'weighted_sentiment', 'label'],\n",
              "      dtype='object')"
            ]
          },
          "metadata": {},
          "execution_count": 6
        }
      ]
    },
    {
      "cell_type": "code",
      "source": [
        "# 문자열로 저장된 리스트를 리스트 형태로 다시 저장하기\n",
        "def tolist(string_token):\n",
        "  return eval(string_token)\n",
        "\n",
        "data['tok'] = data['tok'].apply(tolist)\n",
        "data['no_ad'] = data['no_ad'].apply(tolist)\n",
        "data['nouns'] = data['nouns'].apply(tolist)\n",
        "data['all'] = data['all'].apply(tolist)"
      ],
      "metadata": {
        "id": "4STNpthp3hRm"
      },
      "execution_count": null,
      "outputs": []
    },
    {
      "cell_type": "code",
      "source": [
        "train, test = train_test_split(data, test_size = 0.2, random_state=912)\n",
        "print('훈련용 리뷰의 개수 :', len(train))\n",
        "print('테스트용 리뷰의 개수 :', len(test))"
      ],
      "metadata": {
        "colab": {
          "base_uri": "https://localhost:8080/"
        },
        "id": "wgKmUByVrijc",
        "outputId": "06fd1d46-d8c9-4b09-fc52-569776c74d49"
      },
      "execution_count": null,
      "outputs": [
        {
          "output_type": "stream",
          "name": "stdout",
          "text": [
            "훈련용 리뷰의 개수 : 30752\n",
            "테스트용 리뷰의 개수 : 7688\n"
          ]
        }
      ]
    },
    {
      "cell_type": "code",
      "source": [
        "# 훈련용 데이터의 레이블 분포 확인\n",
        "train['label'].value_counts().plot(kind = 'bar')\n",
        "print(train.groupby('label').size().reset_index(name = 'count'))"
      ],
      "metadata": {
        "colab": {
          "base_uri": "https://localhost:8080/",
          "height": 480
        },
        "id": "7BUrOqtPrwSY",
        "outputId": "f19271ff-df58-4e47-8512-05210087fdea"
      },
      "execution_count": null,
      "outputs": [
        {
          "output_type": "stream",
          "name": "stdout",
          "text": [
            "   label  count\n",
            "0      0  15420\n",
            "1      1  15416\n"
          ]
        },
        {
          "output_type": "display_data",
          "data": {
            "text/plain": [
              "<Figure size 640x480 with 1 Axes>"
            ],
            "image/png": "[encoded data removed]"
          },
          "metadata": {}
        }
      ]
    },
    {
      "cell_type": "code",
      "source": [
        "# 긍정/부정에 자주 등장하는 단어들 따로 저장해놓기 (명사,형용사 토큰만 사용)\n",
        "negative_words = np.hstack(train[train.label == 0]['no_ad'].values)\n",
        "positive_words = np.hstack(train[train.label == 1]['no_ad'].values)\n",
        "\n",
        "negative_word_count = Counter(negative_words)\n",
        "print(negative_word_count.most_common(20))\n",
        "\n",
        "positive_word_count = Counter(positive_words)\n",
        "print(positive_word_count.most_common(20))"
      ],
      "metadata": {
        "colab": {
          "base_uri": "https://localhost:8080/"
        },
        "id": "vIGAAqsv2vj7",
        "outputId": "5c8b37d5-8955-4997-8a34-d21c00d2bb3b"
      },
      "execution_count": null,
      "outputs": [
        {
          "output_type": "stream",
          "name": "stdout",
          "text": [
            "[('광고', 6605), ('없다', 2779), ('아니다', 1831), ('진짜', 1212), ('많다', 1182), ('계속', 1155), ('아이템', 1148), ('현질', 1068), ('다시', 992), ('레벨', 950), ('어렵다', 873), ('재밌다', 858), ('재미', 827), ('좋다', 824), ('안되다', 810), ('짜증', 782), ('업데이트', 770), ('이다', 684), ('그냥', 667), ('재미있다', 651)]\n",
            "[('좋다', 6878), ('재밌다', 5567), ('재미있다', 3723), ('광고', 3443), ('정말', 1619), ('많다', 1554), ('귀엽다', 1491), ('없다', 1448), ('캐릭터', 1304), ('이다', 1188), ('진짜', 1166), ('그렇다', 938), ('레벨', 714), ('추천', 706), ('재미', 699), ('계속', 677), ('다시', 654), ('사람', 637), ('아니다', 629), ('좋아하다', 610)]\n"
          ]
        }
      ]
    },
    {
      "cell_type": "code",
      "source": [
        "# 긍정/부정의 길이 분포 확인\n",
        "fig,(ax1,ax2) = plt.subplots(1,2,figsize=(10,5))\n",
        "text_len = train[train['label']==1]['all'].map(lambda x: len(x))\n",
        "ax1.hist(text_len, color='red')\n",
        "ax1.set_title('Positive Reviews')\n",
        "ax1.set_xlabel('length of samples')\n",
        "ax1.set_ylabel('number of samples')\n",
        "print('긍정 리뷰의 평균 길이 :', np.mean(text_len))\n",
        "\n",
        "text_len = train[train['label']==0]['all'].map(lambda x: len(x))\n",
        "ax2.hist(text_len, color='blue')\n",
        "ax2.set_title('Negative Reviews')\n",
        "fig.suptitle('Words in texts')\n",
        "ax2.set_xlabel('length of samples')\n",
        "ax2.set_ylabel('number of samples')\n",
        "print('부정 리뷰의 평균 길이 :', np.mean(text_len))\n",
        "plt.show()"
      ],
      "metadata": {
        "colab": {
          "base_uri": "https://localhost:8080/",
          "height": 549
        },
        "id": "aWhgD-2919mY",
        "outputId": "b36ad710-57ea-41e0-84da-f93710f3e918"
      },
      "execution_count": null,
      "outputs": [
        {
          "output_type": "stream",
          "name": "stdout",
          "text": [
            "긍정 리뷰의 평균 길이 : 11.911666557613033\n",
            "부정 리뷰의 평균 길이 : 11.109625152703659\n"
          ]
        },
        {
          "output_type": "display_data",
          "data": {
            "text/plain": [
              "<Figure size 1000x500 with 2 Axes>"
            ],
            "image/png": "[encoded data removed]"
          },
          "metadata": {}
        }
      ]
    },
    {
      "cell_type": "markdown",
      "source": [
        "# X(독립), y(종속)로 분리"
      ],
      "metadata": {
        "id": "ytfdq44I3nmB"
      }
    },
    {
      "cell_type": "code",
      "source": [
        "X_train = train['all'].values\n",
        "y_train = train['label'].values\n",
        "X_test= test['all'].values\n",
        "y_test = test['label'].values"
      ],
      "metadata": {
        "id": "9oVy2k6p3mhf"
      },
      "execution_count": null,
      "outputs": []
    },
    {
      "cell_type": "markdown",
      "source": [
        "# 로지스틱 회귀 모델링"
      ],
      "metadata": {
        "id": "rsAnlq2bnMr-"
      }
    },
    {
      "cell_type": "markdown",
      "source": [
        "## 1. TF-IDF 벡터화"
      ],
      "metadata": {
        "id": "giXm4IdR7LHJ"
      }
    },
    {
      "cell_type": "code",
      "source": [
        "X_train = [' '.join(x) for x in X_train]\n",
        "X_train[:5]"
      ],
      "metadata": {
        "colab": {
          "base_uri": "https://localhost:8080/"
        },
        "id": "_tl6B9oz7i5F",
        "outputId": "35259aac-2ad1-4a04-86fb-50fe2672e80a"
      },
      "execution_count": null,
      "outputs": [
        {
          "output_type": "execute_result",
          "data": {
            "text/plain": [
              "['정말 재미나 만의 마을 만들다 매력 이고 섬세하다 디테 일이 좋다',\n",
              " '가다 모르다 재미있다 하다 추천 하다',\n",
              " '정말 재미있다 그거 아기 키우다 제작자 감사하다',\n",
              " '그럭저럭 괜찮다',\n",
              " '광고 보다 내용 재밌다 그렇다 알다 재밌다']"
            ]
          },
          "metadata": {},
          "execution_count": 44
        }
      ]
    },
    {
      "cell_type": "code",
      "source": [
        "X_test = [' '.join(x) for x in X_test]\n",
        "X_test[:5]"
      ],
      "metadata": {
        "colab": {
          "base_uri": "https://localhost:8080/"
        },
        "id": "zsqZ8wWH7_Tg",
        "outputId": "02f6c6d3-8522-462d-a0ae-7122f9928c9c"
      },
      "execution_count": null,
      "outputs": [
        {
          "output_type": "execute_result",
          "data": {
            "text/plain": [
              "['정말 정말 재밌다 근데 광고 너무 많이 나오다 주다 이유 마찬가지 예요 광고 정말 많이 나오다 근데 정말 너무 재밌다 중독 성도 강하다 즐겁다 근데 한번 주다 광고 나오다 한번 씻다 광고 나오다 광고 고치다 광고 부탁드리다',\n",
              " '생각 보다 재미 너무 어렵다',\n",
              " '엄청나다',\n",
              " '정말 재밌다 상황 하다 좋다 아쉽다 한국어 돼다 ᅲᅲ 한국판 생기다 좋다',\n",
              " '재미있다 인데 어렵다 짜증 나요']"
            ]
          },
          "metadata": {},
          "execution_count": 22
        }
      ]
    },
    {
      "cell_type": "code",
      "source": [
        "# TF-IDF 벡터화 객체 생성\n",
        "tfidf_vectorizer = TfidfVectorizer()  # max_features=1000 : 원하는 최대 특징 수 설정\n",
        "\n",
        "# 학습 데이터를 TF-IDF 벡터로 변환\n",
        "X_train_tfidf = tfidf_vectorizer.fit_transform(X_train)\n",
        "# 테스트 데이터를 TF-IDF 벡터로 변환\n",
        "X_test_tfidf = tfidf_vectorizer.transform(X_test)\n",
        "\n",
        "# TF-IDF 벡터의 크기 확인\n",
        "print(\"TF-IDF 벡터의 크기 (학습 데이터):\", X_train_tfidf.shape)\n",
        "print(\"TF-IDF 벡터의 크기 (테스트 데이터):\", X_test_tfidf.shape)"
      ],
      "metadata": {
        "colab": {
          "base_uri": "https://localhost:8080/"
        },
        "id": "VNb3nhPE7KX9",
        "outputId": "03d81c73-9e84-4f9a-e32a-9a2ef5b63ff7"
      },
      "execution_count": null,
      "outputs": [
        {
          "output_type": "stream",
          "name": "stdout",
          "text": [
            "TF-IDF 벡터의 크기 (학습 데이터): (30836, 12527)\n",
            "TF-IDF 벡터의 크기 (테스트 데이터): (7710, 12527)\n"
          ]
        }
      ]
    },
    {
      "cell_type": "code",
      "source": [
        "vocab = tfidf_vectorizer.vocabulary_\n",
        "id_to_word = {v: k for k, v in vocab.items()}\n",
        "print(id_to_word)"
      ],
      "metadata": {
        "colab": {
          "base_uri": "https://localhost:8080/"
        },
        "id": "8aZR0mpc8wdg",
        "outputId": "49b85795-4520-431d-d106-942d5ba4074c"
      },
      "execution_count": null,
      "outputs": [
        {
          "output_type": "stream",
          "name": "stdout",
          "text": [
            "{9650: '정말', 9369: '재미나', 4220: '만의', 4134: '마을', 4202: '만들다', 4321: '매력', 8686: '이고', 6244: '섬세하다', 3600: '디테', 9030: '일이', 9914: '좋다', 799: '가다', 4492: '모르다', 9373: '재미있다', 11868: '하다', 10747: '추천', 1889: '그거', 7068: '아기', 11130: '키우다', 9766: '제작자', 971: '감사하다', 1924: '그럭저럭', 1694: '괜찮다', 1668: '광고', 5316: '보다', 2603: '내용', 9379: '재밌다', 1930: '그렇다', 7288: '알다', 7794: '여러', 10848: '친구', 4512: '모이다', 8936: '인데', 7183: '아직', 4508: '모으다', 4764: '미션', 11121: '클리어', 11849: '하고', 8992: '일도', 2573: '낮잠', 9114: '자고', 2864: '느리다', 10281: '진짜', 5463: '부분', 11636: '평가', 8709: '이다', 3520: '드리다', 2377: '끝나다', 4092: '마다', 2458: '나오다', 10199: '지우다', 9273: '잠자다', 4257: '말다', 1294: '겁니다', 9340: '장점', 3033: '단점', 1429: '계속', 6107: '생기다', 5149: '버스', 6208: '선물', 7506: '어떻다', 1018: '강아지', 4687: '물건', 10181: '지면', 1520: '고장', 2445: '나서다', 7996: '오다', 1275: '걸리다', 8253: '요즘', 3548: '들이다', 6548: '순간', 4743: '미니게임', 7284: '않다', 6732: '시간제', 11920: '하트', 5307: '보관', 10008: '주지', 5904: '사용', 2359: '끄다', 11862: '하나요', 11554: '패션', 8978: '인테리어', 12026: '합치다', 4992: '발상', 10554: '처음', 6101: '생각', 7149: '아예', 8586: '으로만', 812: '가든', 3931: '로만', 8713: '이도', 7078: '아니다', 10047: '중구', 2508: '난방', 6662: '스테이지', 5619: '붙잡히다', 5688: '비용', 3543: '들어가다', 10547: '처럼', 2857: '느껴지다', 10175: '지루하다', 10250: '직접', 7132: '아스팔트', 1180: '거도', 2875: '늘리다', 3859: '레벨', 3447: '되어다', 2321: '꾸미다', 11722: '표정', 4247: '많다', 2623: '너무', 4249: '많이', 2962: '다양하다', 10689: '최고', 11778: '프로필', 9784: '젤리', 3677: '떼다', 8540: '유치하다', 8956: '인앱', 1374: '결재', 7179: '아주', 6578: '쉬다', 8492: '유로', 1376: '결제', 6229: '설계', 1765: '구매', 9587: '절대', 12346: '환불', 5556: '불가능하다', 7424: '약관', 4458: '명시', 6901: '실수', 10344: '짧다', 8853: '이용', 8999: '일로', 3462: '두려움', 2858: '느끼다', 9702: '정책', 3204: '대해', 2955: '다시', 11971: '한번', 1475: '고려', 3440: '되다', 11839: '필요', 5459: '부모', 3762: '라면', 4673: '문의', 3092: '답장', 7683: '없다', 10001: '주재', 4514: '모자', 8792: '이벤트', 5347: '보석', 6043: '상자', 4851: '바뀌다', 10286: '진행', 9614: '점점', 12489: '흥미', 3674: '떨어지다', 5744: '빠르다', 9851: '조치', 5504: '부탁드리다', 7718: '에도', 8755: '이렇게', 8102: '올리다', 10030: '줄다', 11797: '플레이', 2514: '난이도', 7514: '어려워지다', 8158: '완전', 10738: '추억', 8841: '이에요', 7981: '옛날', 5932: '사촌', 7627: '언니', 6102: '생각나다', 8550: '유튜브', 5305: '보고', 996: '갑자기', 11681: '포우', 5063: '배고프다', 500: 'ㅋㅋ', 8375: '웃기', 7203: '아프다', 6712: '슬프다', 8706: '이네', 6665: '스토리', 9572: '전체', 1947: '그림', 8803: '이쁘다', 2242: '깨다', 4093: '마다의', 10330: '짜릿하다', 4500: '모션', 5445: '부드럽다', 11486: '파워', 12518: '힐링', 1482: '고맙다', 3535: '들다', 5663: '비등', 6675: '스트레스', 10335: '짜증', 5132: '버리다', 7911: '열심히', 3459: '두다', 1554: '골드', 10071: '중요하다', 2650: '넘다', 887: '가짐', 1023: '강제', 9892: '종료', 5860: '사라지다', 5772: '빡치다', 750: 'ㅡㅡ', 5507: '부턴', 4383: '먼저', 12083: '해주다', 8757: '이렇다', 2217: '깔다', 3436: '돼다', 2585: '내다', 5946: '삭재', 7110: '아무', 2561: '남지', 6977: '싶다', 3130: '대다', 3379: '돌리다', 8834: '이야', 10054: '중독', 2398: '나가다', 11511: '판이', 7668: '업다', 8911: '익다', 12134: '허다', 7169: '아이템', 3545: '들어오다', 1399: '경우', 10800: '취소', 8468: '윈도우', 10112: '즐겻', 2874: '늘다', 4497: '모바일', 561: 'ㅎㅎㅎ', 7029: '쓰레기', 5120: '버그', 1280: '걸이', 9644: '정도', 4037: '리뷰', 5861: '사람', 9948: '주기', 6925: '싫어하다', 6795: '시작', 11867: '하니', 2461: '나요', 3650: '때문', 4968: '받다', 10162: '지다', 7695: '었습니', 8530: '유저', 11619: '편리하다', 8551: '유튭', 10138: '지금', 2808: '누르다', 10327: '짜다', 7933: '영상', 7687: '없애다', 5401: '볶다', 10040: '줍다', 9468: '저만', 1268: '건지다', 9123: '자꾸', 2265: '꺼지다', 8639: '응답', 1925: '그런', 861: '가요', 1870: '귀엽다', 3406: '동물', 6611: '스마트폰', 5856: '사다', 9758: '제일', 7184: '아직도', 7516: '어렵다', 719: 'ㅠㅠ', 3011: '단계', 2653: '넘어가다', 8972: '인지', 3419: '동영상', 9716: '제거', 6051: '상품', 8740: '이라도', 2584: '내놓다', 8747: '이래서', 10048: '중국', 479: 'ㅉㅉ', 11386: '튜토리얼', 2063: '기다', 1698: '괜히', 6723: '승부', 6106: '생기', 10919: '캐릭터', 3439: '되게', 5817: '뿌듯하다', 7569: '어제', 9214: '작동', 12336: '확인', 12158: '헐다', 7187: '아침', 6149: '섀벽', 3740: '라고', 4607: '무섭다', 5312: '보내다', 10043: '중간', 10315: '집중', 9368: '재미', 7688: '없어지다', 4879: '바쁘다', 8810: '이상하다', 4534: '목소리', 9954: '주다', 7972: '예요', 2419: '나라', 7630: '언어', 6777: '시스템', 6238: '설정', 218: 'yf', 6179: '서영이', 5709: '비행기', 1172: '거기', 7691: '엇어', 5792: '빼다', 6647: '스타일', 9919: '좋아하다', 3132: '대단하다', 4183: '막히다', 12213: '현질', 11850: '하고는', 7499: '어딨다', 4226: '만점', 11953: '한글', 11557: '패치', 6085: '색도', 7648: '얼추', 8137: '와우', 3209: '댓글', 9131: '자다', 8122: '옷값', 10726: '추가', 4139: '마이', 9296: '장난', 11186: '탐험', 1992: '근처', 9329: '장애물', 5440: '부다', 7231: '안개', 10980: '컬렉션', 12038: '해결', 11442: '틈틈이', 10930: '캔디', 11218: '터지다', 11042: '쾌감', 2069: '기도', 12059: '해보다', 1984: '근데', 7940: '영어', 3767: '라서', 7584: '어쨌든', 10422: '차다', 4918: '밖에', 4999: '발열', 6956: '심하다', 3719: '뜨겁다', 11950: '한국어', 10201: '지원', 12189: '헬기', 11008: '코너', 11023: '코인', 8701: '이나', 7178: '아저씨', 3720: '뜨다', 1246: '건가', 5203: '벌써', 3068: '달이', 8857: '이유', 9992: '주위', 2282: '꼬박꼬박', 8919: '인가', 9779: '제품', 2876: '늘어나다', 12522: '힘들다', 7071: '아깝다', 308: 'ㄴㄴ', 2967: '다운로드', 4358: '머리', 7001: '써다', 5626: '브러시', 5059: '배경', 7670: '업데이트', 5471: '부스터', 11584: '퍼즐게임', 4231: '만족하다', 7751: '에요', 559: 'ㅎㅎ', 3969: '롭고', 9810: '조로', 8445: '웬만하다', 2380: '끝내다', 1642: '과제', 7480: '어느새다', 5754: '빠지다', 2139: '긴장', 2415: '나다', 5317: '보다는', 8601: '은근', 2327: '꾸준하다', 7469: '어가', 9372: '재미없다', 11588: '퍼펙', 10113: '즐기다', 1105: '개인', 11843: '필요하다', 3408: '동물원', 4017: '리뉴얼', 9125: '자꾸만', 5498: '부추기다', 2860: '느낌', 4209: '만복', 1099: '개요', 5158: '버튼', 9197: '자체', 5168: '번개', 12357: '활성화', 6460: '수가', 6073: '새롭다', 4157: '마찬가지', 1532: '고치다', 4592: '무료', 2064: '기다리다', 2428: '나름', 3748: '라는', 7666: '업글', 5947: '삭제', 686: 'ㅜㅜ', 7104: '아름이', 4848: '바꾸다', 6155: '서다', 2748: '놀다', 12117: '행복', 1943: '그리다', 12426: '후회', 6527: '수준', 2775: '높다', 5862: '사람과', 1292: '겁나다', 884: '가지', 5491: '부족하다', 1477: '고르다', 1999: '글쎄', 3690: '똑바로', 12300: '화면', 11122: '클릭', 9976: '주사위', 1817: '굳다', 2008: '금괴', 8019: '오류', 11294: '토킹', 7270: '안젤라', 8904: '이해', 8707: '이니', 8376: '웃기다', 12517: '힌트', 10414: '차감', 6289: '세다', 6835: '신경', 7041: '쓸다', 986: '감탄', 12521: '힘드다', 10702: '최민주', 8170: '왕비', 9444: '저가', 6387: '소원', 7654: '엄마', 7252: '안되다', 12107: '핸드폰', 6272: '성취', 11884: '하루하루', 10965: '커지다', 11085: '크다', 10651: '초롱초롱', 1072: '개막', 10148: '지나치다', 11696: '포함', 12115: '행동', 4637: '무조건', 6804: '시청', 5041: '방식', 9504: '적용', 7574: '어지간하다', 4991: '발사', 8663: '의심', 944: '갈다', 10706: '최소', 8806: '이상은', 10273: '진작', 5199: '벌다', 8395: '원래', 8493: '유료', 4678: '문제', 10769: '출시', 4485: '모든', 7447: '양산', 10831: '치명', 8779: '이며', 3414: '동시', 7715: '에는', 9867: '존재', 2604: '내용물', 5490: '부족', 8241: '요소', 8982: '인하다', 11663: '포기', 5531: '분명하다', 2136: '기획', 8732: '이라', 9764: '제작비', 10833: '치사량', 2654: '넘어서다', 9257: '잘못', 1077: '개발', 6915: '실패', 688: 'ㅜㅜㅜ', 10110: '즐겜용', 11070: '퀄리티', 7876: '연속', 4211: '만에', 6644: '스킵', 798: '가능하다', 5599: '불편', 11583: '퍼즐', 952: '갈수록', 5604: '불합리', 11161: '타일', 7599: '어쩔', 7689: '없이', 5603: '불필요하다', 10307: '집다', 857: '가야', 5568: '불기', 10103: '즈음', 5506: '부터는', 5361: '보이다', 1938: '그로', 2073: '기르다', 4993: '발생', 835: '가면', 818: '가려진', 846: '가불', 1966: '극심하다', 9498: '적당하다', 1900: '그냥', 11633: '편하다', 10639: '초기', 8646: '의견', 2771: '농작물', 9391: '재배', 6226: '선택', 2061: '기능', 9223: '작업', 2379: '끝내기', 1952: '그만큼', 10186: '지불', 1061: '개다', 4040: '리소스', 3925: '로딩', 5525: '분들', 6406: '소프트웨어', 7801: '여성', 2544: '남고', 1111: '개입', 2779: '놓다', 12288: '화나다', 4305: '맞다', 11912: '하자', 1138: '개판', 4405: '멍청하다', 11769: '프로그래머', 2443: '나쁘다', 10495: '창고', 6568: '순환', 5762: '빡빡', 6017: '상당하다', 10297: '질리', 8322: '우와', 7665: '업그레이드', 6945: '심심하다', 10528: '채우다', 5028: '방금', 4635: '무제한', 5870: '사려', 7523: '어리다', 8013: '오랜', 1063: '개도', 4236: '만큼', 1029: '강츄', 7015: '쏠쏠하다', 1914: '그래픽', 11725: '표현', 8267: '욕먹다', 7249: '안달', 12049: '해대', 5033: '방문', 4380: '먹통', 4395: '멈추다', 12206: '현상', 1025: '강종', 4252: '말고', 5412: '본인', 4652: '무한', 1420: '계단', 2886: '늦다', 511: 'ㅋㅋㅋ', 1866: '귀염', 5674: '비보', 3340: '도중', 2631: '너무하다', 7115: '아무리', 1610: '공짜', 8838: '이어도', 6249: '성격', 11242: '테스트', 8097: '올라가다', 6270: '성질', 753: 'ㅡㅡㅋ', 3250: '던지다', 5802: '뻔하다', 6475: '수두', 1637: '과일', 8345: '운발', 12155: '헌납', 2257: '깨지다', 9651: '정말로', 12436: '훌륭하다', 2765: '농사', 10319: '짓다', 8930: '인기', 7974: '예전', 892: '가챠', 3778: '라이브', 9178: '자유롭다', 10339: '짝짝', 11723: '표지', 4326: '매우', 366: 'ㅁㅅ', 374: 'ㅂㄴㅈㄱㄴㅅ', 307: 'ㄴㄱ', 9906: '종종', 10637: '초과', 10823: '치다', 7024: '쓰다', 6084: '색다르다', 7035: '쓰촨', 7243: '안녕하다', 7889: '연차', 10645: '초등학생', 1489: '고민', 5279: '별로', 7377: '액세서리', 4275: '말풍선', 10463: '착하다', 3652: '때우다', 7306: '알아보다', 6235: '설명', 11268: '토너먼트', 5344: '보상', 9796: '조개', 10512: '찾기', 7738: '에서는', 3381: '돌림', 4505: '모양', 11625: '편이', 1509: '고요', 3226: '더러워지다', 7641: '얼룩', 10320: '징그럽다', 4585: '무늬', 2932: '다르다', 6430: '손대다', 6923: '싫다', 8937: '인도', 4039: '리셋', 6323: '섹스', 8868: '이전', 5153: '버전', 2122: '기존', 3275: '데이터', 2537: '날아가다', 4280: '맘대로', 7422: '야하다', 1743: '구국', 11815: '피드백', 10709: '최악', 11801: '플레인', 7467: '얘기', 9578: '전혀', 1090: '개선', 8674: '의지', 7800: '여서', 5660: '비다', 4586: '무니', 9495: '적다', 5221: '벗기다', 7232: '안경', 3128: '대놓고', 8483: '유도', 4374: '먹다', 4382: '먹히다', 5690: '비우다', 1577: '공격', 7431: '약탈', 3108: '당하다', 8377: '웃다', 9899: '종이', 9805: '조금씩', 1579: '공공', 1262: '건물', 12498: '희다', 5253: '벽돌', 4516: '모자라다', 2126: '기차', 8006: '오래', 5186: '번은', 4706: '물품', 878: '가져다주다', 7945: '영자', 3188: '대책', 6305: '세우다', 7735: '에쁜', 12118: '행복하다', 3870: '레이스', 12032: '항상', 8733: '이라고', 10946: '캡처', 10593: '첨부', 10145: '지나', 11312: '통과', 10447: '차이', 7634: '얻다', 6333: '셔츠', 3053: '달라', 1928: '그렇게', 12221: '협동', 871: '가입', 12238: '혜택', 6082: '색감', 5009: '밝다', 1250: '건너', 3713: '뛰다', 5055: '방해', 2665: '넣다', 8140: '와이파이', 237: 'ᄏᄏ', 10519: '채김감', 11807: '피고', 4155: '마지막', 2960: '다양', 3855: '레벌', 7674: '업도', 1339: '게임사랑', 9620: '접근', 3168: '대요', 9186: '자전거', 3262: '덮개', 12232: '형태', 3783: '라이프', 10450: '차이다', 8464: '위해', 2349: '꿀팁', 8771: '이름', 7717: '에다가', 6801: '시조', 1891: '그걸', 8760: '이로', 12511: '히트', 3426: '동작', 1744: '구글', 10819: '치고', 4019: '리다', 11457: '틱톡', 5350: '보시', 10882: '카메라', 10531: '채팅', 3328: '도움', 4862: '바라다', 2466: '나은', 1601: '공이', 2889: '니까', 3686: '똑같다', 7174: '아이폰', 12062: '해봤다', 6921: '실화', 10117: '증나', 11112: '클럽', 1103: '개월', 6063: '상황', 1603: '공장', 6931: '심다', 9215: '작물', 731: 'ㅡㅅㅡ', 11073: '퀘스트', 5277: '별도', 10917: '캐리', 2417: '나들이', 10878: '카드', 7736: '에서까지', 5793: '빼먹다', 7521: '어른', 3754: '라도', 481: 'ㅉㅉㅉ', 5893: '사서', 11965: '한두', 4381: '먹튀', 7663: '엄청나다', 1195: '거리', 4442: '면서', 723: 'ㅠㅠㅠ', 7913: '열정', 1402: '경쟁', 11004: '켜다', 4418: '메시지', 6044: '상점', 1609: '공지', 3730: '띄우다', 12481: '흘러가다', 3378: '돌려주다', 7505: '어떻', 12334: '확실하다', 1844: '궁금하다', 1213: '거야', 8369: '움직', 9980: '주시', 1176: '거나', 8422: '원하다', 2263: '꺼내다', 11508: '판도', 5371: '보지', 6916: '실패하다', 11999: '한판', 4097: '마디', 872: '가자미', 10449: '차이나타운', 9144: '자리', 4103: '마련', 11219: '터치', 7298: '알림', 3682: '또다시', 5523: '분도', 5600: '불편하다', 5532: '분발', 11490: '파이팅', 2066: '기대', 6583: '쉽다', 1624: '과금', 5437: '부과금', 10788: '충분하다', 9610: '점수', 2210: '까지는', 2571: '낮다', 12444: '휙휙', 10653: '초반', 7662: '엄청', 3837: '러시', 10581: '천천히', 11602: '페이스', 9845: '조절', 3337: '도전', 6239: '설치', 1890: '그건', 278: 'ㄱㄷㅉㄹㅈㅈㄱ', 2132: '기함', 2557: '남요', 1093: '개수', 7034: '쓰이다', 8769: '이르다', 6501: '수시로', 10301: '질색', 4675: '문자', 11289: '토즈', 9362: '재다', 2611: '내포', 795: '가능', 3546: '들어주다', 7865: '연동', 2370: '끊임없다', 8976: '인터넷', 7853: '연결', 8744: '이랑', 4135: '마음', 5321: '보단', 9227: '작용', 10131: '지겹다', 8885: '이쯤', 3231: '더블', 11432: '특히', 4170: '막냇동생', 12077: '해이', 3620: '따르다', 5001: '발전', 12050: '해도', 5701: '비추다', 7545: '어서', 9933: '죄송하다', 1149: '갤럭시', 8365: '울트라', 9624: '접속', 11874: '하라', 7092: '아래', 7042: '쓸데없다', 11404: '트리', 7585: '어쩌', 4928: '반대쪽', 11221: '터트려야', 1892: '그것', 3091: '답임', 4309: '맞추다', 6887: '실력', 3058: '달러', 5966: '살다', 4787: '미치다', 12201: '현금', 8255: '요청', 6872: '신청', 1202: '거부', 4604: '무상', 11960: '한다는', 2957: '다시다', 1299: '것임', 866: '가운데', 5200: '벌레', 9145: '자리다', 5036: '방법', 11881: '하루', 10257: '진도', 9250: '잘나가다', 3230: '더불다', 5683: '비싸다', 9762: '제자리걸음', 10298: '질리다', 9622: '접다', 4525: '목걸이', 5971: '살리다', 9949: '주기도', 1451: '고고싱', 6508: '수없이', 8506: '유성', 9301: '장님', 2594: '내미다', 4730: '미국', 6011: '상극', 8795: '이분', 4172: '막다', 5601: '불평', 1248: '건강하다', 4344: '맨날', 2879: '늙다', 10347: '짬짬이', 8975: '인질', 8694: '이기다', 1963: '극도', 9615: '점주', 927: '간단하다', 6357: '소리', 3240: '더하다', 9842: '조작', 3681: '또는', 5798: '뺑뺑', 12088: '해처', 2281: '꼬박', 6088: '색상', 6207: '선명하다', 11171: '탁하다', 12310: '화소', 3973: '롱패딩', 5571: '불다', 8614: '은하수', 1760: '구름', 448: 'ㅇㅈ', 10754: '축구', 8027: '오른쪽', 1561: '골인', 8210: '왼쪽', 9190: '자주', 4940: '반복', 6684: '스팸', 1439: '계정', 9086: '입력', 5029: '방도', 9940: '주가', 12039: '해고', 10165: '지도', 9979: '주스', 969: '감사', 832: '가만히', 10038: '줄줄이', 1065: '개떡같다', 3647: '때리다', 10836: '치우다', 1953: '그만하다', 11766: '프렌즈', 5905: '사용자', 5292: '별표', 4726: '뮬건', 9280: '잡다', 5782: '빨르다', 11096: '크리스마스', 1359: '겨울', 2890: '니깐', 9828: '조심하다', 8101: '올려주다', 11101: '크크', 2085: '기분', 11381: '튕김', 7645: '얼음', 9619: '점프', 11768: '프로', 1234: '거지', 10133: '지고', 783: '가깝다', 10207: '지인', 6162: '서로', 1600: '공유', 10364: '쩔다', 4574: '무고', 2010: '금도', 12450: '휴대폰', 8009: '오래되다', 9222: '작아지다', 10925: '캐시', 2000: '글씨', 6961: '십만', 6485: '수만', 1786: '구입', 2655: '넘어오다', 3601: '디테일', 8216: '요구', 3222: '더디다', 3227: '더럽다', 6827: '식이', 5315: '보너스', 2056: '기껏', 4216: '만으로는', 1719: '교묘하다', 8657: '의미', 4353: '맺다', 11183: '탈퇴', 3918: '로그아웃', 3498: '드네', 9376: '재믺', 4188: '만나다', 10154: '지내다', 1931: '그렇다고', 9464: '저렴하다', 8866: '이자', 2674: '네이버', 11600: '페이', 11684: '포인트', 12182: '헤프', 8245: '요원', 7403: '야금야금', 8777: '이만', 8292: '용품', 5927: '사지', 8068: '오지', 2015: '금방', 4489: '모로', 776: '가격', 3610: '딥빡', 10877: '카니발', 8608: '은색', 7836: '여행', 11701: '폭발', 10249: '직전', 9740: '제발', 5783: '빨리', 2961: '다양성', 2482: '나타내다', 1877: '귀찮다', 9763: '제작', 349: 'ㄹㅇ', 8539: '유치원', 6790: '시원하다', 853: '가슴', 3711: '뚫리다', 1027: '강추', 8524: '유익하다', 7728: '에만', 5328: '보라', 6093: '색칠', 6552: '순서', 10108: '즐겁다', 3148: '대머리', 7840: '역겹다', 11185: '탐욕', 6603: '스러운', 10782: '춥다', 8000: '오들오들', 3671: '떨다', 12311: '화신', 10310: '집사', 9995: '주인', 6126: '생색', 2721: '노예', 12194: '헷갈리다', 2593: '내면', 11596: '펑펑', 6370: '소비', 9996: '주인공', 12037: '해감', 3547: '들여다보다', 3402: '동네', 8142: '와이프', 4179: '막상', 10356: '째다', 7116: '아무튼', 5091: '배치도', 12416: '후반', 506: 'ㅋㅋㄱㅋㅋ', 8629: '음악', 11740: '풀리다', 6705: '슬램덩크', 11232: '테니스', 8172: '왕자', 8036: '오브', 11489: '파이터', 1860: '귀멸', 10876: '카날', 5061: '배경음악', 9245: '잔잔하다', 12210: '현재', 8352: '운영', 11009: '코드', 5388: '복사', 5615: '붙여넣기', 4307: '맞이', 11882: '하루빨리', 1531: '고치', 5750: '빠져나가다', 5827: '뿐더러', 6774: '시선', 9918: '좋아지다', 4248: '많아지다', 3024: '단순하다', 9609: '점도', 7753: '에이', 7706: '에게는', 8628: '음식', 7164: '아이스크림', 9365: '재료', 5644: '블루베리', 1530: '고추', 11131: '키위', 5894: '사소하다', 8693: '이기', 8685: '이겠다', 4268: '말씀드리다', 1818: '굳이', 2546: '남기다', 11987: '한정', 9211: '작다', 10665: '초인', 9470: '저번', 4471: '몇몇', 6558: '순위', 7159: '아이디어', 7496: '어디서', 6843: '신기하다', 9683: '정원', 5623: '브금', 11623: '편안하다', 12007: '할머니', 10390: '쭈욱', 11643: '평생', 5864: '사랑', 12471: '흐음', 11544: '패가', 9133: '자동', 6202: '섞이다', 12400: '횟수', 10536: '책임지다', 6450: '솔직하다', 955: '갈아입다', 7130: '아쉬움', 10052: '중단', 775: '가게', 1493: '고생', 9108: '잊다', 4377: '먹음', 11137: '킬링타임', 8583: '으로는', 9162: '자서', 4438: '며칠', 11343: '투자', 7131: '아쉽다', 7811: '여유', 4639: '무지', 3129: '대니', 10375: '쪼들리다', 11497: '파탄', 4201: '만들기', 8730: '이딴', 4106: '마르다', 8943: '인벤', 4493: '모름', 4884: '바이러스', 3201: '대한', 7990: '오기', 2213: '까진', 4717: '뭔가', 7275: '안주', 2903: '님들', 1389: '경고', 11724: '표지판', 5897: '사실', 3725: '뜯다', 8243: '요약', 8920: '인가요', 6950: '심장', 10730: '추다', 7125: '아빠', 11708: '폰엄폰', 10828: '치마', 7637: '얼굴', 8242: '요안', 8248: '요전', 10072: '중이', 10505: '창의력', 891: '가창력', 8153: '완성', 2781: '놓치다', 8428: '월간', 11243: '테이', 1024: '강조', 1654: '관리', 11946: '한계', 3611: '딩구', 12229: '형님', 2800: '누나', 1087: '개뿔', 11403: '트로피', 2776: '높아지다', 2974: '다이아', 6643: '스킬', 3190: '대체', 1274: '걸다', 8814: '이성미', 7087: '아들', 8739: '이라니', 10262: '진상', 12248: '호로', 9423: '잼민', 6068: '새끼', 10156: '지는', 581: 'ㅏㅏㅏ', 10940: '캠채', 11996: '한테', 5354: '보여주다', 12243: '호구', 8881: '이진', 11039: '콩가루', 10312: '집안', 8308: '우면', 2591: '내리다', 5657: '비누', 4482: '모도', 6341: '소가', 12240: '호감', 10230: '지폐', 9478: '저장', 6536: '수프', 6595: '스낵', 6473: '수도', 1716: '굉장하다', 11054: '쿠미', 10161: '지닝', 766: 'ㅣㅈㅎ', 6180: '서요', 2827: '눈물', 10036: '줄이다', 8160: '완전하다', 6154: '서너', 10974: '컨탠츠', 8946: '인상', 6958: '심해지다', 8695: '이기도', 8966: '인정', 8039: '오빠', 9703: '정체', 2446: '나선', 10160: '지니어스', 10408: '찡긋', 9986: '주어', 5384: '복구', 7369: '애정', 1354: '겠다', 11542: '팡팡', 7064: '씻다', 10603: '청소', 777: '가구', 11010: '코디', 12316: '화장실', 5421: '볼일', 10416: '차고', 139: 'lvl', 9: '30', 5866: '사랑스럽다', 5191: '번째', 8906: '이해해', 6054: '상하', 3532: '든지', 9026: '일어나다', 10906: '칸디', 3834: '러쉬', 5832: '사가', 1773: '구성', 7910: '열심', 6302: '세상', 10439: '차분하다', 4582: '무난', 8589: '으론', 5512: '부활', 7043: '쓸데없이', 2143: '길다', 12084: '해주시', 3612: '따다', 3771: '라운드', 2795: '누가', 6869: '신작', 6773: '시사', 10478: '참고', 7398: '앵무새', 6802: '시즌', 3382: '돌보다', 9660: '정보', 10300: '질문', 4113: '마무리', 10210: '지저분하다', 12461: '흐름', 2367: '끊다', 11876: '하란', 7993: '오늘', 9230: '작작', 6167: '서버', 1506: '고양이', 2135: '기회', 11423: '특수', 9262: '잠그다', 10826: '치료', 5881: '사면', 10280: '진지하다', 3598: '디전', 9451: '저금', 4385: '멀다', 10859: '친추', 6839: '신규', 4960: '반쨕', 7963: '예쁘다', 2388: '끼다', 9836: '조용하다', 4267: '말씀', 3086: '답답하다', 2041: '긋다', 6384: '소요', 4903: '박자', 12427: '후회되다', 5454: '부로', 8873: '이제', 11675: '포션', 5975: '살수', 2390: '끼리', 12490: '흥미롭다', 3286: '도구', 1907: '그대로', 816: '가량', 3142: '대로', 10550: '처리', 7238: '안내', 5940: '사항', 8993: '일등', 3219: '더더', 7622: '억지', 9249: '잖다', 10656: '초보자', 1498: '고수', 6980: '싸다', 964: '감다', 11851: '하고도', 3336: '도저히', 3877: '레전더', 4015: '리까', 6567: '순항', 10962: '커서', 4334: '매칭', 6466: '수급', 11598: '페북', 9944: '주고받다', 2849: '뉘역뉘역', 10727: '추강', 5981: '살짝', 4780: '미우다', 4245: '만해', 1165: '거가', 7127: '아서', 1140: '개함', 12364: '황금', 11455: '티켓', 3105: '당일', 5530: '분명', 5848: '사기', 11331: '통해', 786: '가꾸다', 7623: '억지로', 2568: '낭비', 788: '가끔', 6425: '속지', 7561: '어이없다', 5082: '배열', 3812: '랜덤', 10914: '캐다', 9595: '절반', 6219: '선인', 2205: '까먹다', 7322: '암튼', 10866: '칠하다', 5365: '보임', 8715: '이동', 1894: '그게', 7598: '어쩐지', 11964: '한동안', 9158: '자빠지다', 6483: '수리', 3567: '등수', 6010: '상관없다', 3161: '대상', 2302: '꼼수', 5458: '부리다', 9324: '장식', 2921: '다다르다', 5131: '버릇', 902: '가치', 10299: '질린다', 3349: '도하', 8910: '이후', 3920: '로는', 6722: '승리', 3383: '돌아가다', 1078: '개발자', 1974: '극하', 3153: '대박', 10791: '충전', 8300: '우려', 6526: '수정', 3360: '돈대', 10256: '진단', 8305: '우린', 12124: '행크', 2659: '넘치다', 1091: '개설', 2625: '너무나', 888: '가짓수', 11948: '한국', 10810: '취향', 6502: '수십', 2852: '늉장', 6538: '수학', 8079: '오프라인', 3387: '돌아오다', 11726: '푸다', 8304: '우리나라', 3202: '대한민국', 3665: '떠오르다', 3001: '다행', 8850: '이왕이면', 4961: '반칙', 9275: '잠재우다', 11556: '패스', 3630: '딱이다', 3951: '로우', 6807: '시초', 2548: '남다', 2566: '낫다', 9094: '입체', 4523: '모형', 11631: '편집', 2704: '노랗다', 6704: '슬라임', 10521: '채다', 2101: '기여', 8353: '운영자', 11435: '틀리다', 12352: '환장하다', 4973: '발견', 7832: '여태', 10200: '지워지다', 4073: '릴리', 7070: '아기자기하다', 5494: '부지런하다', 6123: '생산', 3125: '대기', 10073: '중인', 2648: '넘기다', 7386: '앤젤리나', 3238: '더티', 11229: '털리다', 2678: '네트워크', 4389: '멀쩡하다', 8562: '유혹', 5160: '버티다', 7734: '에뻐', 3280: '데헷', 9084: '입다', 268: 'ㄱㄱㅏ', 5939: '사하다', 571: 'ㅏㄷㄷㅏ', 5293: '별하나', 7022: '쓰기', 1227: '거절', 6240: '설치다', 6002: '삼이', 10336: '짜증나다', 1200: '거미', 10913: '캌퇴이', 12046: '해달라다', 8193: '외국', 5181: '번역', 11800: '플레이어', 10566: '천사', 5397: '복잡하다', 12478: '흔들리다', 2232: '깜빡이다', 10562: '천국', 8921: '인간', 1321: '게스', 11397: '트레스', 7519: '어르다', 10147: '지나다', 4243: '만판', 814: '가라', 2872: '는데', 4606: '무선', 5972: '살벌하다', 5900: '사악하다', 2510: '난생처음', 7031: '쓰뤡', 11649: '평점', 2387: '끝판', 5617: '붙이다', 4196: '만드', 9029: '일으키다', 3313: '도박', 12290: '화남', 1594: '공부', 4553: '몸무게', 9136: '자라', 4412: '메롱', 8797: '이브이', 1169: '거고', 8265: '욕구', 5455: '부르다', 6019: '상대방', 2467: '나이', 9517: '적합하다', 8149: '완료', 4751: '미련', 9430: '잼밌떠', 433: 'ㅇㅇ', 4876: '바바', 5588: '불안정하다', 7820: '여전하다', 2850: '뉴비', 8690: '이군', 10063: '중섭', 8844: '이염', 7142: '아아', 437: 'ㅇㅇㅇㅏ', 9825: '조심', 9319: '장삿속', 6520: '수익', 4540: '목적', 5529: '분만', 11943: '한게임', 7441: '얍삽함', 8110: '옮기다', 1034: '강하다', 1337: '게임머니', 5652: '비교', 3661: '떠나다', 10768: '출석', 10620: '체크', 2430: '나머지', 5597: '불쾌하다', 9410: '재촉', 256: 'ᅲᅲ', 5566: '불구', 2440: '나비', 5379: '보트', 3871: '레이싱', 5187: '번의', 4203: '만들어지다', 2554: '남아', 2569: '낭비하다', 8321: '우연히', 4045: '리얼', 4364: '머릿속', 6014: '상단', 6032: '상시', 11719: '표시', 4515: '모자라', 11466: '파다', 4451: '명도', 7895: '연합', 1740: '구경', 890: '가차', 3104: '당연하다', 1444: '곌제', 10158: '지니', 6129: '생일', 7274: '안죴냐', 6844: '신나다', 2780: '놓이다', 4254: '말고도', 3687: '똑같이', 8523: '유의', 2366: '끊기다', 2068: '기대하다', 2392: '끼우다', 8315: '우승', 7724: '에러', 10139: '지급', 4873: '바르다', 7199: '아틀란티스', 7594: '어쩌실', 4824: '밉다', 11546: '패드', 3424: '동일', 6957: '심해', 5142: '버벅대다', 3618: '따로', 8132: '와도', 11252: '텐데', 10697: '최근', 919: '간격', 1266: '건전하다', 8384: '워드', 10991: '케리', 12514: '히힛', 9057: '잃다', 7909: '열쇠', 1557: '골든', 2381: '끝내주다', 6251: '성공하다', 10308: '집도', 1207: '거슬리다', 8829: '이실', 3934: '로봇', 9847: '조종', 3596: '디자인', 11422: '특성', 4204: '만듭니', 8273: '욥공', 9143: '자르다', 4122: '마쇼', 9875: '졸다', 691: 'ㅜㅠ', 8174: '왕창', 3587: '디스코', 10699: '최대', 6590: '슈퍼', 4640: '무지개', 5634: '블래스트', 9004: '일반', 9728: '제대로', 3843: '런가', 3919: '로그인', 5721: '빈털터리', 5222: '벗다', 4024: '리딩', 10260: '진보', 12397: '획기', 8780: '이면', 7103: '아름답다', 1384: '겸비', 6745: '시대', 7339: '앞서다', 11844: '필자', 4809: '민주', 9704: '정치', 8941: '인문학', 2643: '넓어지다', 1811: '국회의원', 9926: '좌파', 4667: '문명', 10717: '최전선', 3054: '달라지다', 10205: '지은', 2966: '다운', 10762: '출근', 10401: '찍다', 3895: '렙업', 10504: '창의', 10896: '카카오', 7055: '씨앗', 12475: '흑우', 10132: '지경', 8370: '움직이다', 7731: '에바', 4072: '린지', 12212: '현지', 9781: '젠장', 9054: '읽다', 917: '간간이', 3361: '돈독', 8026: '오른', 9605: '절하', 8584: '으로도', 5264: '변신', 5678: '비산', 289: 'ㄱㅊ', 7907: '열리다', 4883: '바이', 5339: '보물찾기', 11313: '통로', 8902: '이하림', 11864: '하늘', 7173: '아이패드', 1540: '고해', 8869: '이점', 7373: '애플', 11782: '프리미엄', 8080: '오픈', 10106: '즐거움', 5332: '보렵니', 4401: '멋지다', 2342: '꿀잼잼', 3143: '대로가', 797: '가능성', 8010: '오래됨', 8933: '인내심', 5505: '부터가', 11078: '큐큐', 2083: '기본', 7393: '앱임', 3956: '로지', 5349: '보스', 332: 'ㄷㄷ', 851: '가스', 4171: '막노동', 1121: '개지', 9613: '점임', 9023: '일시', 9698: '정지', 4160: '마침', 6924: '싫어지다', 6049: '상태', 12108: '핼러윈', 1683: '광산', 11741: '풀림', 10641: '초도', 1954: '그야말로', 9019: '일석이조', 6541: '수확', 9846: '조정', 3049: '달다', 8899: '이프', 3668: '떡칠', 9604: '절차', 10885: '카악', 11373: '튕기더', 1904: '그다음', 6479: '수령', 7816: '여자', 4137: '마음먹다', 9832: '조언', 5641: '블로그', 11677: '포스팅', 9536: '전말', 10999: '케이크', 7207: '악기', 7888: '연주', 7669: '업데', 4611: '무술', 546: 'ㅎㄷㄷ', 9229: '작자', 3276: '데이트', 9424: '잼민쓰님', 11738: '풀다', 4361: '머리카락', 241: 'ᄒᄒ', 12467: '흐에', 7745: '에선', 7253: '안드로이드', 6918: '실행', 11363: '튕겨집니', 9997: '주일', 11012: '코딱지', 5811: '뽑기', 10963: '커스터', 2475: '나중', 6577: '숲속', 3065: '달성', 5513: '부활절', 6842: '신기록', 2071: '기록', 3441: '되돌리기', 6306: '세운', 12325: '화하다', 3442: '되돌리다', 4946: '반영', 10176: '지루함', 2107: '기용', 9418: '재화', 6846: '신년', 3416: '동양', 8905: '이해도', 10051: '중국인', 9009: '일본', 5104: '백인', 8738: '이라는', 1060: '개념', 4659: '묶다', 10887: '카우보이', 3356: '독일어', 9682: '정어리', 11487: '파이', 4424: '메이플', 6752: '시럽', 5820: '뿌리다', 11919: '하키', 7898: '열광하다', 11017: '코스', 8518: '유용하다', 11641: '평범하다', 11933: '학생', 9893: '종류', 2086: '기쁘다', 7964: '예상', 1807: '국어', 9164: '자세하다', 5528: '분리', 4804: '민서', 5921: '사장', 4853: '바낏', 2138: '긴박하다', 12455: '휴식시간', 5442: '부담', 8118: '옵션', 10902: '카페', 10692: '최고봉', 2883: '능력', 4214: '만원', 11558: '패키지', 3560: '등급', 12398: '획득', 11084: '크기', 3075: '닳다', 9465: '저리', 1736: '구간', 4462: '명의', 4577: '무관', 7112: '아무래도', 11838: '필연', 8534: '유지', 6885: '실드', 9719: '제공', 3997: '룰더스카이', 12486: '흡사하다', 874: '가장', 4708: '뭉치', 3352: '독고', 4742: '미니', 11247: '테크닉', 1022: '강의', 5387: '복불복', 12231: '형식', 10225: '지치다', 11585: '퍼지다', 3121: '대결', 3658: '땨릴', 7017: '쑤다', 8952: '인스타', 11406: '트리플', 8035: '오버', 2426: '나르다', 1641: '과정', 6667: '스토어', 2055: '기기', 8427: '원활하다', 3087: '답변', 4290: '망가지다', 5092: '배터리', 6363: '소모', 2782: '놔두다', 10304: '질질', 2372: '끌리다', 11359: '튕겨', 2404: '나기', 848: '가상', 12465: '흐뭇하다', 5310: '보기', 4262: '말르다', 7714: '에너지', 6995: '쌓이다', 10370: '쪼금', 4270: '말입', 11522: '판하', 12404: '효과', 4759: '미미하다', 4241: '만큼의', 9987: '주어지다', 8656: '의문', 12128: '향상', 8396: '원랜', 3235: '더욱', 10244: '직업', 2106: '기욤', 12207: '현실', 6882: '실감', 2183: '김천', 6862: '신양', 6028: '상숙', 2162: '김상', 6546: '숙부', 9674: '정수', 3267: '데도', 4922: '반경', 9611: '점심', 4372: '먹고살다', 3294: '도대체', 10642: '초동', 10096: '쥰내', 3390: '돌파', 6993: '쌓다', 7341: '애가', 2204: '까맣다', 3040: '단축', 5837: '사고', 8415: '원조', 9098: '입히다', 11197: '태어나다', 9815: '조만간', 8689: '이구나', 2429: '나마', 12445: '휠링', 10752: '추하다', 7073: '아낌없이', 3241: '덕분', 6573: '숨다', 2705: '노래', 1983: '근대', 12184: '헤헤', 5062: '배경화면', 1340: '게임상', 10372: '쪼꼬미', 1658: '관심', 2267: '껌닥', 3319: '도아', 11152: '타운', 9093: '입장', 6463: '수계', 1199: '거물', 11539: '팝업', 8778: '이메일', 6015: '상담', 9628: '접시', 1655: '관리자', 8912: '익명', 6262: '성은', 2307: '꼽자면', 11652: '평평하다', 1950: '그만', 9320: '장소', 2645: '넓히다', 12018: '합뉘답', 1026: '강철', 10155: '지네', 11704: '폭탄', 10655: '초보', 11425: '특유', 9354: '잦다', 7065: '아가', 1264: '건설', 5357: '보완', 2730: '노잼', 7026: '쓰래', 3632: '딱하다', 1239: '거짓말쟁이', 2871: '는대', 6266: '성장하다', 4502: '모습', 6654: '스타트', 7038: '쓴다', 5128: '버려지다', 7513: '어려움', 3005: '닥치다', 3139: '대란', 1574: '공간', 5933: '사촌동생', 8389: '원내', 9588: '절대로', 8877: '이주', 10829: '치매', 7961: '예방', 10691: '최고다', 10984: '컴퓨터', 4151: '마작', 10049: '중국산', 11721: '표절', 10226: '지침', 4422: '메이크', 8712: '이던', 11319: '통일', 11253: '텐데요', 6944: '심심', 11743: '풀이', 5137: '버벅거리', 2144: '길드', 8660: '의사소통', 5183: '번역기', 8152: '완벽하다', 4292: '망겜', 11994: '한창', 6559: '순위도', 4819: '밀리', 2610: '내지', 2832: '눈썹', 3192: '대충', 2002: '글자', 7214: '악몽', 12405: '효과음', 6845: '신나요', 5974: '살색', 6769: '시방', 501: 'ㅋㅋㄱ', 10875: '칭찬', 4696: '물방울', 10889: '카운트', 3556: '듯이', 351: 'ㄹㅇㅇㅣ', 1109: '개임', 1721: '교복', 4047: '리요', 7901: '열다', 5359: '보유', 2533: '날리다', 6257: '성별', 11962: '한도', 1289: '검은색', 7761: '엑스', 10228: '지키다', 4246: '만화', 390: 'ㅅㄱ', 7882: '연승', 3949: '로열', 3631: '딱지', 10267: '진심', 11616: '펴다', 4312: '맡기다', 11626: '편임', 12191: '헬로', 11727: '푸드', 5256: '변경', 3484: '뒤쪽', 3544: '들어서다', 11990: '한지', 3051: '달도', 6214: '선생님', 1414: '경험', 4844: '바구니', 2480: '나타나다', 9421: '잭팟', 1450: '고고', 10707: '최소한', 5502: '부탁', 5376: '보타이', 9184: '자잘하다', 2296: '꼴랑', 4683: '묻다', 5024: '밥풀', 3643: '때기', 6031: '상승', 6480: '수로', 1424: '계산', 11902: '하여튼', 6746: '시도', 2457: '나오니', 8736: '이라기', 6928: '심각하다', 10313: '집어넣다', 11954: '한글화', 4672: '문외한', 5090: '배치', 9174: '자유', 2409: '나누다', 8782: '이모티콘', 3475: '뒤끝', 2216: '깔끔하다', 5937: '사탕', 5907: '사운드', 7894: '연한', 8743: '이란', 3029: '단위', 2098: '기억', 9484: '저택', 12090: '해킹', 11993: '한참', 8455: '위서', 2371: '끌다', 2368: '끊어지다', 9208: '작고', 1570: '곳간', 3675: '떨어트려', 3917: '로그', 12437: '훌쩍', 1369: '결과', 5360: '보이', 7620: '억이', 5071: '배드', 7009: '쏘다', 407: 'ㅅㅅ', 2047: '기간', 12337: '확장', 6708: '슬롯', 938: '간혹', 6362: '소멸', 4052: '리지', 4032: '리바이', 2716: '노부', 5822: '뿌시는겄', 8498: '유명하다', 8962: '인위', 9513: '적절하다', 6892: '실망하다', 1684: '광석', 12464: '흐릿합니', 4530: '목록', 11983: '한자', 7931: '영문', 3324: '도와주다', 3814: '랜스', 5923: '사전예약', 3064: '달리다', 1912: '그란', 5779: '빨다', 10242: '직선', 2502: '난도', 6788: '시원시원하다', 5492: '부족함', 8504: '유사', 6038: '상위', 9307: '장만', 3555: '듭니', 7128: '아쉄네', 5064: '배구', 5984: '살찌다', 4378: '먹이', 6304: '세요', 7973: '예의', 4535: '목숨', 4911: '박탈', 1178: '거니', 12492: '흥분하다', 2720: '노영심', 4233: '만지다', 11559: '패턴', 6826: '식상하다', 11630: '편지함', 7045: '쓸모', 2641: '널찍하다', 1911: '그땐', 9044: '일주일', 2264: '꺼리다', 5577: '불만', 8052: '오우', 5912: '사이', 8781: '이모', 1177: '거너', 1056: '개꿀', 9984: '주심', 6024: '상상', 6946: '심심함', 1197: '거만', 11209: '터너', 1839: '궁궁해', 3341: '도지', 6417: '속상하다', 11126: '키라', 8274: '용가리', 5406: '본드', 6969: '싯파', 10396: '찌다', 3521: '드릴', 7361: '애쓰다', 4713: '뭐은', 10685: '촬영', 10400: '찍기', 7813: '여유롭다', 11627: '편입', 1897: '그나마', 8020: '오류로', 1448: '고객', 6328: '센터', 3766: '라비올리', 8150: '완벽', 3427: '동전', 1255: '건데', 10236: '지혜', 3952: '로운', 6464: '수고', 213: 'woowwweee', 189: 'tanns', 8381: '웅장', 10151: '지난번', 6560: '순위표', 11440: '틀임', 2751: '놀래다', 11032: '콘텐츠', 3922: '로돈', 1094: '개쉐', 4150: '마자', 11453: '티셔츠', 867: '가위', 3873: '레이저', 1037: '갖은', 6118: '생명', 10405: '찔리다', 6848: '신다', 3376: '돌다', 6360: '소립', 11644: '평소', 7226: '악플', 7798: '여리다', 885: '가지가지', 11977: '한숨', 7616: '어휴', 11687: '포즈', 725: 'ㅠㅡㅜ', 12504: '흭득', 4892: '바탕화면', 7167: '아이콘', 4227: '만족', 7631: '언제나', 10563: '천리', 4666: '문득', 5699: '비중', 2490: '낚시', 8727: '이따가', 5039: '방송', 3208: '댄스', 7457: '양치', 4541: '목표', 10169: '지듬', 11462: '파가', 10673: '초창', 2197: '깊다', 2124: '기준', 6034: '상실', 4548: '몰려오다', 5488: '부정', 5642: '블록', 8462: '위치', 2843: '눌리', 3482: '뒤지다', 7098: '아령', 8948: '인생', 9559: '전이', 8280: '용량', 10453: '차지', 3318: '도시', 6796: '시장', 5503: '부탁드랴', 10415: '차갑다', 1283: '검다', 2636: '넉넉하다', 5201: '벌리다', 1801: '국기', 5402: '본가', 12302: '화물', 10480: '참다', 2986: '다지', 11779: '프롤', 6650: '스타즈', 3061: '달력', 9392: '재부팅', 11897: '하십쇼잉', 1519: '고작', 9102: '잇다', 6250: '성공', 6761: '시마', 2006: '금고', 3852: '레니', 9168: '자연', 12318: '화장품', 1756: '구려', 10353: '짱짱', 6539: '수행', 1224: '거임', 7862: '연달', 9051: '일해', 10146: '지나가다', 2729: '노재', 4781: '미인', 7036: '쓰촨성', 9792: '져서', 8295: '우기', 9147: '자막', 3458: '두뇌', 12354: '활동', 7372: '애초', 2979: '다인', 1446: '고갈', 554: 'ㅎㅇ', 6083: '색깔', 11509: '판매', 3415: '동심', 5977: '살아나다', 6346: '소꿉놀이', 10486: '참신하다', 8954: '인식', 4302: '망치다', 2907: '다가', 4003: '르네', 12526: '힝힝', 1112: '개정', 1488: '고문', 4490: '모루', 5500: '부치다', 3147: '대마', 6911: '실증', 5612: '붕장어', 7557: '어우랙', 1800: '국가', 11951: '한국인', 7348: '애니', 4953: '반점', 683: 'ㅜㅌ', 11461: '팆디', 322: 'ㄴㅌㄴㄷㄴㄷ', 331: 'ㄷㄴㅌㄴㄷㄴㄷㄴㅌㄴㄷㄴㄷㄱㄷㄱㄷㄴㄷㄴㄷㄴㅌㄴㅌㄴㄷㄴㅌㄴㅌㄴㄷㄴ', 11408: '트릴', 10060: '중복', 9677: '정신', 7787: '여느', 1393: '경로', 6642: '스킨', 4328: '매일', 789: '가끔가다', 3113: '대가', 4511: '모이', 4878: '바보', 7577: '어진', 4554: '몸빵', 4105: '마로', 4816: '밀다', 5093: '배틀', 10611: '체고', 2526: '날개', 7869: '연령', 5472: '부스트', 2574: '낮추다', 1908: '그동안', 7642: '얼른', 6081: '색갈', 11277: '토마토', 8105: '올바르다', 12269: '혼합', 5355: '보엵', 5608: '붉다', 9902: '종일', 4480: '모델', 7283: '앉다', 7421: '야채', 10513: '찾다', 7685: '없습니깕', 8055: '오이', 980: '감자', 7494: '어둡다', 2891: '니깕', 3540: '들리다', 10149: '지난', 2797: '누군가', 7709: '에게서', 9580: '전화', 5025: '밧다', 901: '가출', 5282: '별문제', 4221: '만이', 4626: '무의식', 6144: '샤워', 2595: '내버리다', 10977: '컨펌', 4707: '뭄무', 690: 'ㅜㅜㅡ', 1731: '교통', 5846: '사교', 11203: '태호', 5979: '살이', 10017: '죽다', 10643: '초등', 11930: '학년', 5704: '비치발리볼', 5369: '보조', 11541: '팝콘', 7290: '알람', 3900: '려고', 3799: '랑은', 7119: '아바타', 10634: '초가', 2963: '다양해지다', 11515: '판정', 10075: '중임', 10897: '카탈로그', 8041: '오스틴', 9258: '잘생기다', 5102: '백업', 9032: '일인', 10992: '케릭', 6376: '소소하다', 3645: '때로는', 5796: '뺏다', 9545: '전보', 3597: '디저트', 780: '가기', 10781: '춤추다', 5810: '뽀짝', 12315: '화장', 10723: '최현', 7852: '연간', 8461: '위쪽', 5330: '보라색', 5325: '보드', 8672: '의적', 3820: '랭킹', 2743: '녹화', 12395: '회피', 9220: '작성', 12073: '해외', 5859: '사라', 8855: '이용자', 3588: '디스크', 4700: '물어보다', 1572: '곳도', 4855: '바늘', 6576: '숫자', 726: 'ㅠㅡㅠ', 6832: '식히다', 6077: '새벽', 5150: '버시는', 2076: '기만', 4347: '맵다', 4947: '반응', 11540: '팝업창', 4084: '마나', 8785: '이미', 3443: '되돌아가다', 8162: '완존', 868: '가을', 7797: '여름', 4870: '바랜', 8177: '왜냐면', 5872: '사료', 12382: '회사', 11069: '퀄리', 9652: '정말루', 7739: '에서도', 2314: '꾸다', 4733: '미기', 3111: '당황', 6605: '스럽다', 12265: '혼내다', 5416: '본케', 5501: '부케', 7250: '안대', 2048: '기계', 2262: '꺌았는데', 10867: '칠해', 4783: '미지', 6282: '세계', 2505: '난리', 5519: '분노', 8502: '유발', 11775: '프로세스', 3028: '단연', 2563: '남편', 9276: '잠적', 4854: '바나나', 10454: '차차', 10189: '지속', 10701: '최대한', 6470: '수납', 9647: '정렬', 8878: '이중', 10621: '체크카드', 8894: '이틀', 10764: '출금', 2772: '농장', 7785: '여기다', 895: '가챠랖', 7137: '아시', 4641: '무지무지', 7063: '씻기다', 3007: '닦다', 4649: '무척', 6342: '소개', 3782: '라이트', 4694: '물리', 8566: '육성', 6516: '수월하다', 9665: '정상', 1505: '고양', 5116: '뱉다', 977: '감안', 6371: '소비자', 6620: '스스로', 8827: '이신', 6348: '소녀', 3325: '도용', 7366: '애완동물', 2538: '날아다니다', 3894: '렐레', 9003: '일만', 9305: '장르', 9956: '주도', 9957: '주된', 2423: '나로', 5337: '보물', 5854: '사냥개', 5162: '버프', 4114: '마법', 10771: '출신', 9982: '주식회사', 8800: '이비엠', 4856: '바다', 6660: '스테이', 9371: '재미밌', 12048: '해당', 4014: '리기', 11451: '티브이', 8835: '이야기', 7269: '안젤', 5726: '빌리다', 3191: '대체로', 10676: '초콜릿', 12236: '혜자', 10227: '지켜보다', 3114: '대가리', 1905: '그다지', 10020: '죽이다', 5787: '빵집', 10989: '컵케이크', 2289: '꼬집다', 4826: '밋밋하다', 1182: '거들다', 262: 'ᅳᅳ', 7445: '양반', 1917: '그랬는데', 10079: '중지', 8195: '외국인', 11367: '튕기', 228: 'ᄃᄃ', 2937: '다마곳치', 2975: '다이아몬드', 4813: '믿다', 11733: '푸우', 1332: '게이지', 11916: '하진', 9433: '잼일', 3592: '디오', 1973: '극치', 4311: '맞춤법', 6609: '스릴', 2215: '깐깐하다', 8092: '온라인', 10039: '줌그', 1940: '그룹', 9518: '적히다', 11629: '편지', 950: '갈색', 5378: '보통', 5775: '빨간색', 2897: '닉네임', 5928: '사진', 6910: '실제', 4840: '밑쪽', 7040: '쓸겜욤', 4937: '반말', 9963: '주리다', 467: 'ㅈㅅㅈㅅ', 5606: '불현', 10795: '충천', 7550: '어어', 11087: '크러시', 6891: '실망', 1671: '광고지', 3063: '달리기', 7515: '어렴', 10180: '지망', 9943: '주거', 6267: '성적', 7818: '여자애', 11273: '토록', 3034: '단정', 8159: '완전초괴', 3716: '뛰어넘다', 2195: '깉아', 3515: '드령', 11240: '테마', 3849: '레가타', 8851: '이외', 11162: '타임', 886: '가지다', 3157: '대부분', 10034: '줄어들다', 1522: '고정', 8723: '이득', 8270: '욕심', 6041: '상인', 1511: '고용', 12208: '현자', 9557: '전원', 2030: '금화', 1537: '고하', 4564: '몽땅', 6030: '상습범', 10995: '케시', 5096: '배하', 2707: '노력', 1243: '거품', 6739: '시기', 3994: '루틴', 6926: '싫증', 7237: '안남', 8016: '오랫동안', 6955: '심플', 1824: '굴릴', 10122: '증상', 12286: '화가', 5017: '밤새다', 1428: '계세', 12505: '흰색', 4690: '물다', 845: '가보다', 6274: '성하다', 65: 'erm', 3571: '등장', 12454: '휴식', 10807: '취한', 5069: '배다', 66: 'evry', 11637: '평가전', 10456: '차트', 8705: '이냐', 11353: '툭하면', 9732: '제멋대로', 1723: '교수', 6920: '실험실', 2407: '나날이', 4806: '민원', 5841: '사골', 1805: '국물', 2375: '끓이다', 4185: '만고', 6426: '손가락', 8344: '운동', 1667: '광겜', 7870: '연말', 11417: '특별', 11307: '톰기톰', 10960: '커버', 4718: '뭔갈', 11526: '팔다', 10340: '짝퉁', 9239: '잔소리', 4132: '마왕', 10142: '지기', 2212: '까지의', 3120: '대게', 4410: '메뉴', 2861: '느낌표', 8648: '의도', 11038: '콧수염', 2441: '나비넥타이', 3653: '때임', 8473: '윙크', 2081: '기변', 7554: '어요', 2401: '나가야', 3347: '도통', 3904: '려다가', 4297: '망설이다', 3437: '돼지', 10440: '차서', 4777: '미완료', 7190: '아케이드', 6381: '소실', 10363: '쩐다', 9879: '졸리다', 7899: '열기', 12321: '화질', 6087: '색맹', 6255: '성도', 8359: '울다', 12172: '헤어', 9807: '조급하다', 1951: '그만두다', 716: 'ㅠㅜ', 8702: '이나마', 229: 'ᄅᄋ', 4433: '멘탈', 12252: '호박', 7062: '씹히다', 6216: '선약', 5121: '버근', 2626: '너무나도', 1380: '결합', 6472: '수단', 5056: '방향', 5157: '버트', 2958: '다실', 8822: '이스터에그', 1939: '그루', 5831: '삥뽕', 2695: '노노', 4714: '뭐임', 5047: '방지', 4768: '미술', 9750: '제안', 3923: '로드', 8729: '이따위', 3753: '라던가', 1095: '개식', 9505: '적응', 2179: '김주연', 1132: '개취', 1036: '갖다', 4711: '뭐라다', 8836: '이야말로', 3968: '롤플레잉', 7495: '어드벤처', 5394: '복원', 6992: '쌍둥이', 11029: '콘셉트', 5399: '복제', 6551: '순삭', 11820: '피부색', 9118: '자극', 11500: '파티', 1626: '과는', 7248: '안다', 1472: '고량', 7450: '양심', 10271: '진입', 9315: '장벽', 5318: '보다도', 9969: '주문', 3317: '도수', 1421: '계란', 3557: '듯함', 3912: '렵니', 11936: '학원', 2917: '다니다', 9721: '제기', 6794: '시일', 1575: '공감', 8505: '유사하다', 8487: '유독', 4223: '만인', 4423: '메이크업', 11212: '터단', 11082: '크게', 7828: '여지', 3472: '둘째', 9231: '작작하다', 3062: '달리', 8448: '위기', 3141: '대련', 9027: '일어나서', 6040: '상이', 4108: '마리', 8233: '요리', 5851: '사납다', 8741: '이라든지', 5077: '배송', 9751: '제약', 8767: '이루어지다', 5858: '사도', 9046: '일찍', 8168: '왕국', 9618: '점차', 5268: '변하다', 2929: '다람쥐', 10629: '쳇바퀴', 1565: '골패', 12419: '후지', 3473: '둥글다', 4123: '마술', 11036: '콤보', 5786: '빵빵', 6234: '설마설마', 4009: '리가', 11488: '파이널', 11259: '템빨', 7002: '써주다', 2236: '깜찍하다', 9156: '자본주의', 3044: '닫다', 4963: '반표', 9797: '조건', 9780: '제한', 4129: '마시다', 4866: '바람', 2151: '길이', 3302: '도로', 4537: '목욕', 2586: '내려가다', 1287: '검색', 1222: '거인', 1260: '건만', 6423: '속인', 11804: '플립', 6190: '서툴다', 8046: '오싹하다', 454: 'ㅇㅓ', 3310: '도못', 9502: '적어도', 2558: '남자', 9090: '입술', 6806: '시체', 8099: '올라오다', 12071: '해오다', 3083: '답글', 5175: '번만', 10740: '추이', 3023: '단순', 8301: '우롱', 8219: '요귀', 3254: '덥다', 3954: '로이', 11742: '풀어지다', 7351: '애니팡', 9690: '정작', 1652: '관련', 12388: '회원', 9705: '정해', 10177: '지르다', 9575: '전판', 9011: '일부러', 5136: '버벅거려', 10198: '지우', 2332: '꿀르르릉잼', 4795: '믹스', 9657: '정미', 5161: '버퍼링', 8250: '요점', 7297: '알리다', 11272: '토로', 11976: '한순간', 7301: '알바', 3662: '떠다니다', 8451: '위로', 7948: '영향', 1832: '굿굿', 10212: '지점', 1848: '궈여웠는데', 10808: '취할', 11603: '페이스북', 1438: '계절', 2536: '날씨', 5270: '변화', 5013: '밤낮', 880: '가족', 1888: '그간', 7051: '씨름', 9138: '자라다', 2755: '놀이', 9277: '잡고', 4212: '만요', 11477: '파밍', 12329: '확률', 1738: '구걸', 7046: '쓸모없다', 6919: '실험', 5107: '밸런스', 5555: '불가능', 1422: '계발', 2211: '까지만', 3315: '도배', 953: '갈아', 8527: '유일하다', 6132: '생존자', 11957: '한낱', 6308: '세월', 9033: '일일', 6398: '소진', 5367: '보장', 10388: '쫙쫙', 10932: '캔디크러쉬사가', 9185: '자재', 6629: '스캔들', 3806: '래스터', 11705: '폭탄주', 4578: '무광', 1445: '고가', 6018: '상대', 4400: '멋있다', 7379: '액션', 5682: '비슷', 12392: '회전', 1175: '거꾸로', 3616: '따라오다', 3395: '동갑', 2581: '내기', 6543: '수회', 6181: '서운하다', 8772: '이리', 461: 'ㅈㄱㅇㅂㄹ', 483: 'ㅊㄷㄷ', 485: 'ㅊㅊ', 1432: '계시다', 9711: '정확하다', 1427: '계선', 9663: '정비', 12173: '헤어스타일', 4580: '무기', 7458: '양치질', 9400: '재우다', 2214: '깎다', 7979: '예티', 4684: '묻히다', 7482: '어니', 5099: '백만이', 11821: '피쉬', 3938: '로블', 2741: '녹스', 9477: '저작권', 924: '간다', 8229: '요랑', 6765: '시뮬', 9993: '주의', 3810: '랙걸리', 8326: '우울증', 10436: '차별', 11407: '트릭', 5103: '백원', 3412: '동생', 2239: '깨끗', 5460: '부모님', 9139: '자랑', 8742: '이라서', 4754: '미리', 3164: '대신', 4222: '만이라도', 8341: '욱일기', 12230: '형상', 8786: '이미지', 10407: '찝찝하다', 660: 'ㅗㅓㅎ', 624: 'ㅓㅗ', 5209: '범고래', 4288: '맛있다', 822: '가르다', 4921: '반갑다', 4021: '리도', 10942: '캠퍼스', 2523: '낞아', 960: '감감', 4609: '무소식', 2268: '껍데기', 8139: '와이', 10921: '캐맀터', 4136: '마음껏', 935: '간절하다', 5119: '버겁다', 6884: '실내', 4230: '만족스럽다', 1370: '결과물', 945: '갈라', 6531: '수출', 5771: '빡치겍', 1334: '게인', 10749: '추쳔드름', 9210: '작년', 3394: '돕다', 11547: '패딩', 875: '가정', 10430: '차례', 8863: '이익', 5711: '비호감', 2374: '끍겨', 7847: '역시', 7293: '알록달록', 11958: '한눈', 10757: '축소', 8971: '인증', 10650: '초록색', 2609: '내주다', 12351: '환영', 6756: '시름', 11855: '하곤', 5385: '복귀', 4679: '문제점', 8675: '의하다', 839: '가발', 8256: '요추', 9297: '장난감', 5295: '병맛', 3599: '디즈니', 7770: '엘사', 5548: '분하다', 9678: '정신건강', 1366: '겪다', 1232: '거중', 1038: '갖추다', 6812: '시한', 9765: '제작사', 3708: '뚤잼', 9983: '주신', 11498: '파트', 9950: '주네', 2220: '깔리다', 1092: '개성', 9326: '장신구', 10761: '축하', 10386: '쫓기다', 3140: '대략', 2498: '난감하다', 9457: '저러다', 463: 'ㅈㄷㄹㅂ', 734: 'ㅡㅈㅈㅅㄷㅅㄱㄴㄷㄱㄴㄷㄴㅌㄴ', 1705: '괴물', 2559: '남자친구', 7867: '연락', 7621: '억제시키다', 6006: '삽입', 1628: '과도', 9188: '자제', 7528: '어마', 4612: '무시', 3363: '돈벌이', 3770: '라야', 6414: '속도', 5956: '산장', 8531: '유전', 9200: '자캐', 12067: '해소', 6515: '수용', 7454: '양은', 3124: '대구', 9503: '적어지다', 11878: '하래', 9761: '제자리', 809: '가득', 9265: '잠도', 5842: '사과', 7337: '앞머리', 4499: '모비즌', 4079: '마감', 5114: '뱅글', 5169: '번거롭다', 4628: '무작위', 4041: '리스트', 1996: '글로벌', 6853: '신발', 3503: '드디어', 7367: '애용', 1551: '골고루', 7019: '쑥쑥', 6380: '소식', 3534: '듣다', 7675: '업로드', 81: 'gachya', 45: 'club', 53: 'dbition', 142: 'mod', 162: 'raneunge', 220: 'youtube', 211: 'wise', 75: 'fox', 133: 'ligament', 1887: '균형', 1774: '구성은', 5135: '버벅', 4858: '바닥', 6522: '수입', 8880: '이지', 5073: '배려', 9293: '장기', 3013: '단기간', 8558: '유행', 2241: '깨나', 1588: '공략', 5216: '법도', 7796: '여럿', 8240: '요새', 1967: '극악', 2082: '기보', 1534: '고통', 11771: '프로그램', 2022: '금액', 12324: '화폐', 9638: '정기', 1582: '공구', 4901: '박스', 6264: '성인', 2273: '께요', 2935: '다리', 248: 'ᅮᅮ', 1838: '굿잼', 1813: '군데', 8889: '이치', 6879: '싢어', 4304: '망하다', 3174: '대음', 773: '가가', 1070: '개리', 911: '각도', 9479: '저절로', 4315: '매너', 4264: '말리다', 963: '감기', 7854: '연결하다', 2339: '꿀재', 877: '가져가다', 10557: '처지다', 11991: '한지호', 757: 'ㅡㅡㅡ', 11576: '퍼센트', 3374: '돌고래', 10243: '직설', 8012: '오래전', 1252: '건너다', 7858: '연구실', 4703: '물의', 2778: '높이다', 4570: '묘실', 1267: '건조', 6719: '습하다', 6740: '시끄럽다', 8949: '인생게임', 5613: '붙다', 9397: '재수', 6405: '소프트', 11140: '킹톰', 8789: '이민주', 2040: '급하다', 4062: '리플', 9973: '주변', 6791: '시위', 1771: '구색', 2291: '꼭꼭', 10209: '지장', 4642: '무지하다', 9573: '전투', 5812: '뽑다', 2759: '농구공', 4428: '메일', 858: '가열', 10374: '쪼끔', 10217: '지지', 6385: '소용', 10081: '중첩', 3152: '대미지', 3505: '드라마', 12520: '힘내다', 10640: '초대', 11001: '케인', 3880: '레카', 8961: '인원', 12205: '현명하다', 5042: '방안', 6059: '상해', 6837: '신고', 11604: '페이지', 9169: '자연스럽다', 6982: '싸우다', 4484: '모드', 3460: '두더지', 5564: '불과', 840: '가방', 6726: '승인', 7498: '어딜', 3584: '디바이스', 12126: '행해', 281: 'ㄱㅂ', 4794: '믹서기', 9748: '제스처', 2452: '나아지다', 7590: '어쩌다', 12411: '후기', 10710: '최애', 5473: '부시', 5717: '빈번', 8754: '이런저런', 7624: '억지스럽다', 2878: '늘어지다', 1413: '경향', 5955: '산업', 10291: '진흥', 11358: '튀어나오다', 4421: '메이커', 1245: '걱정', 1566: '곰곰', 4187: '만기', 9496: '적당', 11928: '학교', 1009: '강력', 8750: '이러니', 7612: '어텋', 7526: '어린이', 7819: '여자친구', 1881: '귕엽', 9082: '입금', 1709: '괴었', 7152: '아우', 2644: '넓이', 10899: '카톡', 4432: '멘붕', 95: 'good', 2384: '끝없이', 9134: '자동차', 8285: '용수철', 4734: '미끄러지다', 1759: '구르다', 2656: '넘어지다', 9929: '좔라', 12386: '회수', 7388: '앨범', 8278: '용도', 11654: '평화롭다', 6942: '심시티', 782: '가까이', 6451: '솔찬', 1555: '골드바', 1216: '거여', 8484: '유도라', 1842: '궁금', 3305: '도르다', 9499: '적도', 2361: '끄적', 2340: '꿀잼', 1515: '고이', 1507: '고여', 10141: '지긋지긋하다', 6760: '시리즈', 2150: '길어지다', 1778: '구애', 9776: '제트', 6316: '세터', 9491: '적극', 4927: '반대', 9489: '저화질', 1994: '글램', 10393: '쮸비', 11715: '폴로', 6225: '선크림', 2057: '기내', 4949: '반입', 5554: '불가', 10159: '지니다', 5687: '비요', 10927: '캑디', 12096: '핵꿀', 3365: '돈으냇는데', 11609: '페인트', 7544: '어색하다', 4830: '밌네', 2945: '다발', 7163: '아이스', 9254: '잘만', 10713: '최음', 10178: '지리', 5049: '방치', 1548: '곤란하다', 2942: '다물다', 10332: '짜임새', 11174: '탄력', 4189: '만난', 3689: '똑똑하다', 10529: '채원', 0: '00', 40: 'ceci', 1458: '고깔', 9928: '좍자', 12183: '헤헣', 8318: '우아', 11044: '쾌변', 12200: '혁신', 11548: '패러다임', 5261: '변비', 9759: '제입', 6422: '속이다', 9945: '주관', 10152: '지난주', 2023: '금요일', 9608: '점검', 830: '가만두다', 9699: '정직', 9163: '자세', 4365: '머모', 7158: '아이디', 7652: '엄대', 8892: '이토', 10171: '지렁이', 1946: '그릴', 9132: '자도', 3218: '더니', 5283: '별반', 7680: '업적', 12081: '해제', 9285: '잡아먹다', 11503: '팍팍', 7754: '에인절', 620: 'ㅓㅓ', 6744: '시달리다', 9589: '절도', 11940: '한가하다', 10343: '짤랑', 5938: '사태', 9308: '장면', 1442: '계해', 9876: '졸라', 10542: '챗봇', 1919: '그러다가', 3916: '로고', 948: '갈리다', 3669: '떡하니', 4785: '미첬어', 1256: '건드리다', 7849: '역할', 2018: '금색', 7885: '연월일', 7013: '쏟아지다', 3864: '레알', 9930: '좔좔', 7180: '아주아주', 1958: '그중', 3512: '드럼', 2888: '늦어지다', 9500: '적립', 3206: '대화', 4141: '마이크', 4874: '바리', 8244: '요요', 11265: '토끼', 8264: '요한', 7764: '엔도르핀', 11013: '코로나', 9584: '전환', 6751: '시라', 9016: '일산', 2014: '금발', 7886: '연장', 12040: '해골', 954: '갈아엎다', 9364: '재도', 4080: '마구', 1787: '구조', 8495: '유리하다', 1646: '관계', 4770: '미스', 12147: '허전하다', 4293: '망겜임', 4634: '무제', 7312: '알차다', 4522: '모험', 3497: '드감', 8929: '인구', 10115: '증가', 5260: '변별', 3909: '력도', 9583: '전화하다', 4090: '마늘', 2856: '느깜', 8812: '이서', 2338: '꿀잠', 3995: '루프', 6395: '소중하다', 4913: '박하다', 11866: '하늘정원', 11361: '튕겨져', 11176: '탄탄하다', 9062: '임도', 2455: '나야', 6248: '섭종', 3234: '더없이', 7205: '아해', 6734: '시계', 3100: '당분간', 1980: '극협', 2049: '기계로', 7995: '오니', 928: '간략하다', 8995: '일러스트', 6607: '스럽지도', 9199: '자칫', 11910: '하이', 4720: '뭠추', 11211: '터넷', 10614: '체력', 5989: '살피다', 3522: '드림', 368: 'ㅁㅊ', 8061: '오전', 10506: '창의성', 3422: '동이', 6763: '시무룩하다', 1647: '관계자', 12119: '행사', 10888: '카운터', 6399: '소진하', 5901: '사양', 6254: '성능', 4744: '미달', 10517: '찾아보다', 7268: '안정', 9524: '전과', 6477: '수량', 10091: '쥐똥', 12480: '흔하다', 2664: '넣기', 2998: '다한', 3998: '룰렛', 7222: '악질', 4253: '말고는', 1464: '고도', 7260: '안사면', 9627: '접슺니', 6687: '스페이스', 11399: '트레일', 9203: '자폭', 10609: '체감', 3151: '대미', 440: 'ㅇㅇㅇㅝ', 2753: '놀리다', 8655: '의무감', 10232: '지하철', 7236: '안나', 6359: '소릴', 4427: '메인보드', 9269: '잠수복', 7872: '연못', 1589: '공룡', 9233: '작정', 9953: '주니', 9757: '제인', 1822: '굴룰', 9045: '일지', 1599: '공원', 6493: '수사', 654: 'ㅗㅇㅇㅗ', 7781: '여고', 7614: '어필', 791: '가나', 10044: '중간광고', 5134: '버버벅되', 8600: '은괝찮아', 12055: '해먹', 11074: '퀴즈', 4688: '물고기', 9989: '주얼리', 4162: '마케팅', 2694: '노골', 6604: '스럽게', 4282: '맙니', 4316: '매년', 2512: '난온', 7975: '예정', 12279: '홍보', 12011: '할인', 5016: '밤새', 9520: '전개도', 6823: '식물', 10023: '준비', 7381: '액자', 8129: '옹졸하다', 6080: '새해', 8849: '이왕', 12516: '힌시', 9891: '종도', 6857: '신선하다', 8512: '유아', 4750: '미래', 11638: '평균', 1608: '공중', 7210: '악랄', 1544: '곡간', 6713: '슬픔', 7602: '어찌나', 11151: '타요', 11746: '품목', 11925: '하향', 3158: '대비', 6698: '스피디해', 8156: '완저', 7242: '안녕', 8458: '위인', 6445: '손해', 5713: '빅토리아', 841: '가버리다', 10235: '지형', 10649: '초록', 9861: '존경', 12462: '흐리다', 6589: '슈팅', 5232: '베리', 5700: '비쥬', 5032: '방명록', 2266: '꺾다', 4772: '미스트', 5752: '빠져들다', 1170: '거고요', 12192: '헬리콥터', 4674: '문의사항', 8474: '유감', 1581: '공관', 6798: '시절', 3466: '두시', 4018: '리니지', 3045: '닫히다', 4463: '명인', 9218: '작사', 9209: '작곡', 1431: '계시', 8644: '응원', 6263: '성의', 2058: '기네', 254: 'ᅲᅮ', 1265: '건의', 4130: '마약', 7460: '양털', 5585: '불쌍하다', 12245: '호당', 3050: '달달', 6350: '소도', 12306: '화사하다', 5915: '사이버', 3428: '동정', 6265: '성장', 3348: '도트', 10487: '참여', 6033: '상식', 3551: '들통', 5808: '뽀록', 12141: '허무하다', 10135: '지그', 4504: '모야', 3746: '라나', 5618: '붙잡다', 2149: '길래', 2726: '노인', 10179: '지리다', 9459: '저렇게', 5951: '산더미', 9889: '좁다', 8246: '요인', 3046: '달걀', 3163: '대서', 1797: '구해', 5070: '배달', 8940: '인력', 1580: '공공기관', 238: 'ᄏᄏᄏ', 11861: '하나로', 10998: '케이스', 6201: '섞다', 7508: '어란', 9829: '조아', 8082: '오해', 10121: '증발', 1886: '규칙', 7699: '엉망', 1398: '경영', 8611: '은커녕', 2405: '나나', 3097: '당기다', 11434: '틀다', 10760: '축척', 6170: '서비스', 1910: '그딴', 3673: '떨어뜨리다', 7955: '예고', 4244: '만하', 4933: '반라', 865: '가운', 6462: '수건', 825: '가리다', 1988: '근본', 11384: '튜브', 7855: '연관', 6710: '슬슬', 9359: '재는', 8199: '외로', 1906: '그대', 4426: '메인', 6581: '쉬움', 11055: '쿠션', 8751: '이러니까', 10714: '최저', 4661: '묶음', 4124: '마술사', 2093: '기술', 5294: '병들다', 4314: '매끄럽다', 10086: '줗겟내', 6783: '시오', 8724: '이든', 3595: '디자이너', 6204: '선글라스', 10704: '최선', 6315: '세탁소', 6646: '스타', 9002: '일링', 2516: '난장판', 6597: '스노', 3774: '라이더', 4997: '발암', 9085: '입도', 5727: '빌리버', 10143: '지껄이다', 1909: '그따위', 1903: '그니까', 1851: '권리', 3026: '단어', 8371: '움직임', 87: 'gavha', 132: 'life', 5605: '불행하다', 3966: '롤링', 5658: '비눗방울', 1697: '괜춘입니', 6434: '손바닥', 9237: '잔뜩', 7212: '악마', 10567: '천사처럼', 2044: '긔약', 1751: '구독', 10197: '지옥', 7846: '역병', 11737: '풀기', 10976: '컨트롤', 3805: '래서', 9621: '접기', 8768: '이뤄지다', 6153: '서나', 6983: '싸움', 10664: '초이스', 998: '갑툭튀', 7186: '아치', 6490: '수백', 12399: '획득량', 10425: '차라', 8194: '외국어', 377: 'ㅂㅂ', 5899: '사악', 2004: '긁다', 11043: '쾌락', 11109: '클래식', 478: 'ㅉㅂㅈㅂㄷㄱㅂㅌ', 334: 'ㄷㄷㅋ', 382: 'ㅂㅈㅂ', 464: 'ㅈㅂㅈㅂㄷㅈㅅㄷㅂㄷㅈ', 384: 'ㅂㅌㅂㅈㅇ', 383: 'ㅂㅊㅂㅈㅂㅊㅂㅈㅂㅊㅂㅈㅂㅌㅂㅈㅂㅌㅂㄷㅂㅊㅂㅈㅂㅊㅂㅊㅂㅈㅂㅊㅂㅈㅂㅌㅂㅈㅂㅈ', 4584: '무너지다', 1585: '공도', 9603: '절제', 2970: '다음밨', 5192: '번쩍', 10711: '최원', 9039: '일정', 1968: '극악하다', 5223: '벗어나다', 5646: '블루투스', 8131: '와는', 8460: '위주', 9648: '정리', 6146: '샴푸', 10213: '지정', 11837: '필수', 10865: '칠판', 4089: '마는', 11799: '플레이스토어', 11061: '쿠폰', 1371: '결론', 12366: '황급', 5589: '불안하다', 7224: '악취', 8667: '의외로', 3714: '뛰어나다', 1802: '국내', 8839: '이어지다', 8843: '이여', 9458: '저런', 5743: '빠뜨리다', 10830: '치면', 10615: '체리', 2600: '내야', 8403: '원상', 9202: '자투리', 3060: '달려오다', 4630: '무재', 4871: '바로바로', 4199: '만드나', 7592: '어쩌란', 5766: '빡셈', 9261: '잘해주다', 1573: '공가', 9975: '주사', 409: 'ㅅㅅㅗㅗㅓㅗㅌㅌㅊㄹㄹㅇㅋㅁㅁㅁㄴㅁㅁㄴㄴㅇㄹㄹㅎㅎㅁㅇㅇㄴㅊ', 2873: '는커녕', 1122: '개짬', 1081: '개별', 3726: '띄다', 4842: '바겐세일', 8182: '왜왜왜', 7935: '영수증', 3638: '딸내미', 10524: '채미', 10821: '치기', 1211: '거애', 11657: '폐기물', 2127: '기차역', 3519: '드르', 5465: '부서', 8045: '오십', 2278: '꼬리', 11366: '튕겼어', 11377: '튕긴', 5238: '베이커리', 8169: '왕귀', 6145: '샤워실', 5806: '뽀득뽀득', 4376: '먹여주다', 6110: '생김새', 3944: '로서', 6602: '스도쿠', 4559: '몹시', 5803: '뻗다', 1997: '글릭하', 10973: '컨베이어', 5250: '벨트', 11533: '팔이', 7856: '연구', 5242: '베토', 11647: '평이', 4200: '만드심', 4486: '모라', 1392: '경기', 4144: '마이키', 1715: '굉장', 10582: '천하다', 10150: '지난달', 5204: '벌어지다', 6069: '새다', 10964: '커엽', 11872: '하든', 2026: '금전', 11817: '피로', 1328: '게으름', 10604: '청소년', 7957: '예나', 1298: '것일', 4430: '메커니즘', 4902: '박아', 1329: '게이', 6039: '상의', 6366: '소박', 8014: '오랜만', 2777: '높이', 2035: '급상승', 8708: '이니까', 9109: '잊어버리다', 3067: '달아나다', 11818: '피로하다', 1762: '구리다', 2931: '다루다', 10352: '짱쟁밋어욤', 469: 'ㅈㅈ', 8324: '우우', 11300: '토템', 6861: '신앙', 4431: '메타', 5188: '번인', 10317: '짓거리', 9564: '전작', 1263: '건방지다', 4923: '반기다', 5451: '부랑', 6811: '시트', 3434: '돵고', 11275: '토리', 1794: '구토', 9753: '제외', 8967: '인정이', 7223: '악착같이', 11776: '프로젝트', 7350: '애니메이션', 5952: '산뜻하다', 781: '가까워지다', 10816: '층수', 10045: '중간층', 7817: '여자아이', 687: 'ㅜㅜㅋㅋㅋ', 5018: '밤새우다', 1564: '골탕', 4379: '먹이다', 8263: '요하', 5327: '보디', 3311: '도무지', 6951: '심정', 2815: '누적', 4167: '마톰', 3133: '대답', 11365: '튕겼다', 7619: '억울하다', 12335: '확연', 3565: '등반', 6116: '생략', 5236: '베이스', 7638: '얼다', 8294: '용해', 8643: '응용', 10600: '청구', 3358: '독창', 2528: '날다', 2630: '너무줗해', 5057: '밭았', 8490: '유럽', 9291: '장군', 9049: '일터', 9566: '전쟁', 6356: '소름', 3371: '돋다', 5836: '사건', 2577: '낳다', 499: 'ㅋㅅ', 7558: '어울리다', 9552: '전수', 12422: '후토스', 7276: '안중', 7944: '영원하다', 1189: '거르겠음', 9824: '조속', 7838: '여행자', 12297: '화려하다', 4238: '만큼만', 1693: '괜찬치', 10025: '준수', 10348: '짭짤하다', 3710: '뚫다', 1533: '고치시', 10809: '취해', 12479: '흔적', 12006: '할로윈', 8791: '이벤', 137: 'luni', 5: '18', 80: 'gacha', 52: 'dayamilbangetxd', 10729: '추기', 10223: '지체', 12085: '해지', 5278: '별러', 5302: '병원', 11899: '하야', 9786: '젬나', 12082: '해주', 6336: '셧음', 5098: '백만', 5443: '부담스럽다', 9480: '저조', 12237: '혜정', 1864: '귀어', 8386: '워욤', 5205: '벌이', 9035: '일자', 10451: '차이점', 3749: '라니', 9533: '전략', 8819: '이수현', 9941: '주간', 8457: '위안', 12218: '혈압', 7027: '쓰러지다', 2582: '내내', 8002: '오라', 11255: '텐테', 4886: '바지', 5499: '부츠', 8011: '오래오래', 11898: '하아', 2113: '기음', 10589: '철철', 10059: '중반', 7285: '않음렙', 7107: '아마', 10971: '커피', 4128: '마시기', 6930: '심기', 2564: '납득', 9967: '주머니', 10540: '챌린지리그', 3364: '돈빨임', 10543: '챙기다', 6610: '스마트', 11712: '폴더', 5835: '사각형', 2134: '기호', 1188: '거르', 5083: '배우다', 10397: '찌르다', 5949: '삭함', 11785: '프사', 1317: '게망겜', 2733: '노트', 57: 'dhjdgzueh', 8109: '올해', 11634: '펼쳐지다', 926: '간단명료', 9370: '재미나다', 12105: '핵잼', 11107: '클라우드', 8073: '오케이', 11414: '트이다', 11201: '태일', 9901: '종이컵', 3082: '담판', 17: '865', 183: 'spins', 6778: '시시', 3644: '때때로', 12513: '히히히', 12091: '해피', 4333: '매치', 2393: '끼치다', 12220: '혐오', 2555: '남아도', 1361: '격감', 1893: '그겄많', 9548: '전서연', 6813: '시합', 12227: '협찬', 10670: '초조하다', 12045: '해달', 3756: '라든지', 10928: '캔드', 11086: '크러쉬', 12270: '홀라당', 4006: '르잼', 2601: '내염', 10772: '출연', 8638: '응급처치', 7859: '연극', 11098: '크리에이터', 9860: '조회', 10377: '쪼암뇨', 7124: '아비', 5404: '본계', 7767: '엔터테인먼트', 422: 'ㅆㄹㄱㄱㅔ', 9074: '임임', 3016: '단돈', 8393: '원도', 5516: '분개', 547: 'ㅎㄷㄷㄷ', 7595: '어쩌자', 2949: '다비', 7428: '약속', 2432: '나무', 8625: '음성', 9760: '제자', 8021: '오류메시지', 747: 'ㅡㅜㅡㅜ', 4301: '망치', 115: 'inc', 11819: '피부', 3768: '라스트', 8654: '의무', 7061: '씹다', 7008: '쎅히', 9165: '자식', 9990: '주요', 3830: '러루', 3978: '루러룰월우럴', 6429: '손님', 5198: '벌겋다', 4550: '몰입', 12493: '흥이', 10599: '첫째', 3055: '달라짐', 12144: '허사', 5696: '비일비재하다', 9264: '잠기다', 287: 'ㄱㅇ', 904: '가카', 10545: '챠틀럽', 3261: '덪좋네', 1932: '그레', 4986: '발리다', 11469: '파란', 3346: '도토리', 12394: '회차', 1776: '구슬', 2422: '나란하다', 9661: '정복', 11333: '퇴근', 2919: '다다다', 8147: '완공', 1656: '관문', 9317: '장사', 4596: '무리', 12383: '회상', 6894: '실바', 1453: '고고학', 7758: '에피소드', 2943: '다미', 9306: '장마', 9434: '잼임', 5480: '부엌', 10868: '침대', 4399: '멋대로', 4284: '맙시', 552: 'ㅎㅅ', 12258: '호텔', 4657: '무효', 9302: '장단점', 3550: '들쭉날쭉하다', 539: 'ㅌㅌ', 8327: '우울하다', 9360: '재니', 7857: '연구소', 11840: '필요성', 5197: '번호', 4283: '맙소사', 6098: '샘플', 2221: '깔맞츔', 6300: '세부', 1567: '곰돌이', 9868: '존잼', 9272: '잠옷', 10460: '착용', 1235: '거지같다', 11832: '피하', 12146: '허위', 11659: '폐인', 2798: '누군지', 5272: '별개', 2495: '낚이', 6486: '수많다', 8901: '이하', 10838: '치유', 2209: '까지나', 3663: '떠들다', 7432: '약하다', 7556: '어우', 10035: '줄열', 8185: '왠지', 5338: '보물섬', 1790: '구축', 5807: '뽀로로', 11092: '크롱', 11673: '포비', 11291: '토크', 11327: '통통하다', 7721: '에디', 10015: '주황색', 2666: '네네', 9395: '재생', 9756: '제이', 12499: '희망', 843: '가볍다', 4407: '멍하다', 9978: '주소', 12393: '회정', 4063: '리플레이', 4028: '리만', 8465: '위험', 8251: '요정', 7772: '엘프', 5648: '블링', 4959: '반짝반짝', 3655: '땡글땡글', 5165: '벅차다', 8320: '우연', 5468: '부수', 7258: '안부', 6186: '서지', 1270: '건축', 2208: '까지가', 8824: '이시고', 4958: '반짝거리다', 7546: '어설프다', 12293: '화니', 3531: '득템', 9117: '자국', 6908: '실음', 6121: '생물', 9706: '정해지다', 3958: '로켓', 11703: '폭죽', 1242: '거치다', 3523: '드물다', 8875: '이제야', 5718: '빈복', 11810: '피기', 8058: '오잉', 6566: '순탄', 4753: '미루다', 8984: '인화', 8040: '오세영', 2167: '김수지', 7791: '여동생', 6296: '세린', 12507: '히어로', 2606: '내일', 1247: '건강', 2978: '다이어트', 4569: '묘미', 10202: '지원이', 7879: '연습', 3757: '라라', 6664: '스토', 7985: '오가다', 1987: '근래', 6438: '손상', 6437: '손보기', 9670: '정석', 4012: '리그', 8316: '우승하다', 11141: '타가', 7280: '안타깝다', 8239: '요사', 11809: '피곤하다', 8665: '의아', 9314: '장발', 7968: '예술가', 5229: '베다', 11762: '프란시스', 2749: '놀람', 3099: '당당하다', 3074: '닮다', 11441: '틈나다', 12051: '해두', 8449: '위대하다', 5863: '사람인', 7530: '어마어마하다', 11464: '파괴', 5980: '살인', 10005: '주제가', 7705: '에게나', 1856: '권하다', 3247: '던데', 3032: '단절', 11880: '하렵니', 6439: '손쉽다', 11371: '튕기내', 8514: '유연성', 180: 'soo', 77: 'fun', 1394: '경매', 10891: '카운팅', 9266: '잠들다', 6557: '순식간', 6820: '식다', 4373: '먹기', 8774: '이마', 11847: '핑크', 9816: '조명', 4210: '만세', 7311: '알짝', 8717: '이동수', 1244: '거핵꿀잼임', 9738: '제밌엉', 2442: '나빠지다', 8826: '이시은', 10395: '쯧쯧', 3533: '듣기', 4051: '리즈', 12177: '헤이데', 8015: '오랫', 6392: '소장', 4976: '발달', 4739: '미네', 413: 'ㅅㅈㄷㄴㅅ', 8297: '우당', 2699: '노동', 6810: '시킴', 6677: '스티커', 9151: '자물쇠', 1627: '과대', 8939: '인듯', 3207: '대회', 2855: '느긋하다', 1487: '고무나무', 6914: '실크', 6347: '소나무', 10423: '차단', 7708: '에게만', 5651: '비공개', 4498: '모방', 1238: '거짓말', 10588: '철저하다', 5218: '법적', 2540: '날짜', 10000: '주장', 8112: '옳다', 10239: '직거립', 9010: '일부', 42: 'chomper', 6871: '신지', 7984: '옝유', 10465: '찬성', 233: 'ᄋᄌ', 317: 'ㄴㅇㅈ', 8650: '의뢰인', 10742: '추잡하다', 5074: '배리', 3464: '두르다', 9176: '자유로', 9052: '일회용', 11447: '티끌', 6317: '세트', 11496: '파크', 8623: '음료수', 3155: '대변', 6368: '소변', 492: 'ㅋㄱㅋㅋ', 3071: '달콤하다', 1970: '극장', 3425: '동일하다', 8329: '우유', 11058: '쿠키', 10844: '치즈', 8441: '웨딩드레스', 50: 'da', 84: 'game', 120: 'iz', 104: 'guyz', 2835: '눈옷', 6164: '서리', 11430: '특징', 1768: '구별', 297: 'ㄱㅎㄷㄷㅑ', 3824: '랴퍄태', 1803: '국도', 9014: '일분', 8338: '우편함', 6523: '수작', 4357: '머더', 11586: '퍼킨', 1569: '곱다', 6517: '수위', 12497: '희귀', 1106: '개인정보', 6529: '수집', 3421: '동의', 7175: '아이피', 6374: '소셜', 813: '가뜩이나', 470: 'ㅈㅈㅏ', 2378: '끝내', 9401: '재일', 6401: '소통', 553: 'ㅎㅅㅎ', 5959: '산책', 8360: '울리다', 12421: '후치', 8862: '이이', 10576: '천재', 9725: '제다', 11150: '타령', 12142: '허브', 7765: '엔딩', 7399: '야간', 6672: '스튜디오', 7307: '알아주다', 785: '가꼬', 6781: '시야', 2642: '넓다', 6029: '상술', 11445: '틩겨', 5248: '벤트', 11833: '피해', 8237: '요별', 3043: '단호', 12244: '호기심', 10004: '주제', 4278: '맑다', 6404: '소품', 6659: '스텀', 11338: '투명', 5364: '보이지', 7969: '예스', 1815: '군요', 7188: '아카데미', 12401: '횡단보도', 5552: '분홍색', 5510: '부품', 5087: '배지', 9838: '조음', 7404: '야다', 9282: '잡바', 1494: '고서', 7003: '썩다', 4219: '만을', 7740: '에서만', 9826: '조심스럽다', 9593: '절망', 9514: '적정', 718: 'ㅠㅜㅠ', 6386: '소용없다', 4060: '리프', 6966: '십지', 10474: '찰싹', 5496: '부처', 9263: '잠금장치', 5659: '비닐', 6986: '싸인', 3398: '동그랗다', 10674: '초코', 175: 'skdox', 1508: '고영', 8223: '요나', 1810: '국제', 89: 'gg', 4671: '문어', 3481: '뒤죽박죽', 7048: '씁쓸하다', 10728: '추구', 7809: '여우', 3189: '대처', 6378: '소스', 10718: '최종', 1020: '강요', 11420: '특별하다', 7527: '어린이집', 3438: '됀겄같아', 879: '가져오다', 6792: '시윤', 4205: '만렙', 1863: '귀신', 7803: '여신', 8491: '유령', 10219: '지지다', 1576: '공개', 802: '가도', 10404: '찔끔', 8895: '이팅', 10961: '커브', 11210: '터널', 947: '갈래', 10441: '차선', 4331: '매초', 11100: '크아', 11739: '풀라', 4664: '문구', 3501: '드닝', 7197: '아트', 2760: '농담', 1113: '개제', 5466: '부서지다', 6301: '세분', 2982: '다재', 260: 'ᅲᅳᅲ', 10265: '진실', 11506: '판다', 1872: '귀요미', 4329: '매주', 3984: '루비', 2011: '금동', 427: 'ㅇㄷㅁ', 949: '갈비뼈', 12491: '흥미진진', 9321: '장수', 6686: '스페셜', 5449: '부딪치다', 8447: '웹사이트', 10509: '창좀', 3354: '독성', 4296: '망망', 2807: '누르기', 4077: '링크', 6696: '스플릿', 2414: '나니', 7356: '애물', 5333: '보록', 4557: '몸짓', 2918: '다다', 8117: '옵니다', 2633: '너뮤복잡햐', 696: 'ㅜㅡㅜ', 4472: '몇번', 697: 'ㅜㅡㅠ', 5484: '부자', 4859: '바닥나다', 1382: '결혼', 8703: '이남', 2911: '다곤', 1143: '개화', 5167: '번갈아', 4938: '반면', 8658: '의복', 10195: '지역', 1884: '규정', 4240: '만큼은', 3628: '따지다', 10520: '채널', 7710: '에겐', 12359: '활용', 12322: '화창', 3863: '레시피', 8211: '요가', 7166: '아이즈', 817: '가려지다', 11494: '파츠', 3784: '라이프엔', 3229: '더미', 7587: '어쩌고저쩌고', 8704: '이내', 9240: '잔액', 9561: '전임', 9429: '잼밌네', 8679: '이개', 11205: '탠대', 8032: '오밀조밀하다', 1367: '견고하다', 3160: '대사', 12121: '행운', 10559: '처피', 11857: '하기는', 9560: '전인', 6555: '순수', 5995: '삼고', 9008: '일보', 2301: '꼼꼼하다', 10241: '직관', 4388: '멀어지다', 11894: '하샸으', 918: '간걸', 5720: '빈자리', 11428: '특이하다', 9834: '조오오', 7989: '오금', 5958: '산지', 3744: '라기', 7983: '옜다', 12482: '흘리다', 4411: '메다', 1173: '거길', 7435: '얀데레', 6211: '선배', 10975: '컨텤츠', 9243: '잔인하다', 1460: '고난', 5833: '사가다', 1440: '계정은', 8805: '이상미', 8716: '이동만', 1381: '결합도', 3807: '래야', 10157: '지능', 3683: '또뎅', 12331: '확산', 4085: '마냥', 6383: '소액', 4710: '뭉텅이', 8668: '의욕', 12078: '해적', 11159: '타이어', 6402: '소파', 8916: '익숙해지다', 8942: '인물', 4619: '무언가', 7072: '아끼다', 7667: '업글해', 12373: '황토색', 9038: '일절', 12409: '효율', 6293: '세련되다', 8947: '인색하다', 9985: '주야장천', 9508: '적임', 2750: '놀랍다', 3642: '땅콩', 2231: '깜빡깜빡', 8351: '운수', 5196: '번하다', 4638: '무좋아욯', 11713: '폴드', 11875: '하락', 5694: '비율', 11549: '패러디', 7711: '에구', 10573: '천이', 202: 'tx', 1185: '거래', 11391: '트랙', 11191: '태극기', 8603: '은동', 9787: '젬쏘', 2735: '노현', 7873: '연사', 3590: '디아블로', 6313: '세지', 10130: '지게', 2884: '능률', 5273: '별거', 8064: '오조오억', 6987: '싸잡다', 2474: '나주', 7925: '엽기', 10635: '초강추', 2276: '꼬꼬', 8673: '의존', 2201: '까딱', 7316: '알파카', 9398: '재시', 7081: '아닥', 2164: '김소현', 11482: '파악', 558: 'ㅎㅋ', 6830: '식품', 4828: '밋음', 10822: '치네다', 6260: '성숙하다', 7722: '에디팅', 11753: '풍부하다', 8548: '유튜버들', 4561: '못생겄는데', 2312: '꽃미남', 4864: '바라지', 6325: '섹시하다', 11731: '푸른', 4740: '미녀', 9970: '주민', 7868: '연락처', 9977: '주서', 1326: '게요', 7878: '연쇄', 5030: '방만', 2810: '누리다', 12104: '핵인', 2131: '기하', 2038: '급수', 4601: '무브', 708: 'ㅠㅋㅋ', 11829: '피치', 2065: '기다림', 8752: '이러다가', 1614: '공평하다', 5562: '불공평', 8535: '유지됨', 7604: '어차피', 12143: '허비하다', 12042: '해내다', 7942: '영영', 9880: '졸업', 11835: '픽스', 1412: '경품', 6565: '순차', 2444: '나사', 10032: '줄무늬', 9852: '조카', 3946: '로스트', 11656: '폐기', 8959: '인연', 9558: '전의', 7951: '영화관', 4046: '리얼리티', 3761: '라며', 11997: '한텐', 11266: '토끼다', 11352: '툭툭', 12378: '회로', 3296: '도도', 8661: '의상', 12353: '활기차다', 11465: '파기', 6185: '서인', 5267: '변태', 4086: '마네킹', 5356: '보옹', 3860: '레볠', 847: '가사', 1286: '검사', 8753: '이러하다', 2244: '깨달', 11075: '퀼도좋', 8378: '웃음', 10623: '체험', 1048: '개구리', 1135: '개킴', 8214: '요것', 1096: '개심', 1752: '구동', 1726: '교육', 10630: '쳐다보다', 10719: '최준용', 1922: '그러하다', 10193: '지심', 10608: '청하면', 4065: '리하', 2812: '누시', 3879: '레진', 11015: '코믹스', 2732: '노출', 6545: '숙면', 3225: '더러', 8818: '이수', 939: '갇아요재밎', 10666: '초입', 9994: '주의력', 1712: '굉고', 4647: '무차별', 8932: '인내력', 2095: '기신', 6062: '상확', 2169: '김숙자', 6428: '손녀', 6183: '서윤', 10613: '체라', 6641: '스키', 6584: '슈나', 5746: '빠빠', 11590: '퍼프', 8585: '으로라도', 3263: '덮다', 3073: '닭장', 8204: '외양간', 10851: '친목', 2987: '다지다', 5193: '번창', 8856: '이웃', 5140: '버벅거림', 3649: '때마침', 11158: '타이밍', 1181: '거두다', 6800: '시정', 4518: '모조리', 199: 'ttu', 1397: '경신', 11148: '타도', 4790: '미터', 12423: '후퇴', 5735: '빙빙', 7282: '안해', 3706: '뚝딱', 8337: '우편', 5535: '분수', 1281: '걸치다', 1595: '공사', 2248: '깨뜨리다', 3397: '동그라미', 11561: '패티', 10196: '지연', 8100: '올려놓다', 2572: '낮아지다', 7959: '예리', 1054: '개껌', 5896: '사시', 12068: '해수면', 1735: '교훈', 9022: '일순간', 7821: '여정', 9088: '입문', 5447: '부들하다', 4057: '리터칭', 3942: '로비', 3975: '루니', 7936: '영아', 11949: '한국말', 7582: '어쨌거', 8567: '육아', 1521: '고전', 5252: '벼룩시장', 9127: '자낮', 7617: '억만', 8480: '유니', 2323: '꾸밈', 10278: '진정하다', 11973: '한복', 8330: '우정', 9961: '주로', 6550: '순발력', 353: 'ㄹㅈㄷ', 174: 'sijinping', 7533: '어머니', 12276: '홈쇼핑', 5448: '부디', 7649: '얼핏', 1846: '궁예', 2315: '꾸르르를르', 3308: '도망가다', 10518: '찾아오다', 6424: '속임수', 7113: '아무렇다', 3833: '러브', 12137: '허락', 6671: '스퇄', 92: 'gh', 4193: '만단', 9058: '잃어버리다', 2761: '농락', 3175: '대응', 11234: '테두리', 3456: '두껍다', 7122: '아보', 1995: '글러브', 4251: '말갛다', 1857: '권한', 3198: '대표', 10958: '커뮤니티', 5475: '부실', 6111: '생년', 8437: '월일', 9863: '존망', 3700: '똥망겜', 9059: '임광', 3660: '떠나가다', 2784: '놨네', 2326: '꾸역꾸역', 11328: '통틀어', 5398: '복장', 216: 'wubbox', 179: 'sonic', 9377: '재민', 9952: '주노', 4920: '반감', 150: 'omg', 4161: '마침내', 937: '간편하다', 1097: '개썁', 8212: '요강', 2020: '금세', 10444: '차요', 5391: '복숭아', 3637: '딸기', 11667: '포도', 7346: '애꿎', 1780: '구역', 9255: '잘맞다', 12328: '확대', 5673: '비번', 5671: '비밀번호', 2253: '깨욥', 7603: '어찌어찌', 3802: '래도', 610: 'ㅓㅎ', 648: 'ㅗㄱㅎ', 3295: '도덛더', 3914: '로거', 7084: '아더', 1153: '갸갸', 1982: '근거', 641: 'ㅕㅏ', 7486: '어더', 3901: '려녀', 1447: '고개', 12052: '해드리다', 736: 'ㅡㅊㄸㅈ', 728: 'ㅡㄴ', 9579: '전형', 347: 'ㄹㄹㄹ', 4276: '말하몀', 5973: '살살', 4996: '발악', 235: 'ᄍᄍ', 7487: '어덩', 9999: '주작', 8281: '용법', 2764: '농부가', 7660: '엄지', 4044: '리액션', 9460: '저렇다', 8090: '온대', 11292: '토큰', 12171: '헤비', 9036: '일자리', 10803: '취업', 12341: '환가', 6230: '설날', 4888: '바치다', 2619: '너거', 5649: '블쌍', 2084: '기부', 1350: '겜캐', 6505: '수야', 8571: '윤숙', 5583: '불숙', 3715: '뛰어나오다', 78: 'funfunfun', 10016: '죽겠네', 9708: '정혜린', 6757: '시리', 6448: '솔솔', 4048: '리자도', 10790: '충실하다', 1183: '거듭', 5610: '붕괴', 5911: '사의', 9643: '정당하다', 10820: '치고는', 8096: '올드', 1443: '계획', 2283: '꼬셨으', 3372: '돋보기', 6215: '선수', 36: 'blacki', 3755: '라든가', 10700: '최대로', 6753: '시력', 4285: '맛보기', 9596: '절실', 3510: '드러나다', 4064: '리필', 1598: '공업', 1710: '괴옥', 10252: '직하다', 8279: '용돈', 11646: '평온하다', 1123: '개쩌', 7471: '어감', 7950: '영화', 5144: '버범임', 11900: '하얀색', 587: 'ㅐㅑㅛ', 11207: '턓턓용', 649: 'ㅗㄴ', 594: 'ㅑㅇ', 4000: '류무', 2188: '김현애', 3195: '대통령', 2171: '김승준', 140: 'matchmaster', 9718: '제격', 2745: '논리', 2199: '까다롭다', 4140: '마이너스', 9554: '전압', 4164: '마크', 5515: '북한', 215: 'wth', 15: '600', 6700: '스핀', 2341: '꿀잼띠', 10539: '챌랜', 4474: '모나', 11617: '편도', 8621: '음란물', 11689: '포켓몬', 11823: '피아노', 11754: '풍선', 9288: '잡탕', 1365: '격투기', 1640: '과장하다', 10258: '진동', 10434: '차리다', 8328: '우웩', 6855: '신비롭다', 9037: '일전', 7462: '양평', 10127: '즵징', 10293: '질기', 9413: '재킷', 12031: '항목', 1814: '군복', 11781: '프리', 1660: '관절', 10716: '최적화', 11780: '프롭', 6634: '스케일링', 9343: '장착', 9809: '조끼', 8207: '외투', 6295: '세리', 12266: '혼동', 1434: '계열', 2051: '기관단총', 1854: '권총', 6442: '손잡이', 10586: '철모', 7416: '야시', 8119: '옵스', 11022: '코어', 12193: '헬멧', 11484: '파우치', 5050: '방탄', 7478: '어깨', 6433: '손목', 991: '갑바', 12432: '훈련', 6045: '상처', 4143: '마이크로소프트', 8951: '인수', 1876: '귀이개', 6847: '신념', 7842: '역다', 5703: '비치', 46: 'cood', 4473: '몇십', 9637: '정글', 4603: '무빙', 1571: '곳곳', 7209: '악독하다', 7572: '어주', 1779: '구여', 11288: '토일렛', 9286: '잡음', 4583: '무너', 3992: '루종일헤', 1942: '그리기', 6873: '신체', 8258: '요키', 11459: '팀전', 10939: '캠든', 2234: '깜짝', 12169: '헤매다', 8374: '웁니', 6115: '생뚱맞', 5438: '부글부글', 2360: '끄덕', 11202: '태초', 8801: '이빨', 9486: '저학년', 987: '감회', 7319: '암시', 6178: '서영', 2597: '내부', 8203: '외부', 9931: '죄다', 10126: '증축', 11992: '한쪽', 2556: '남아돌다', 3568: '등신', 9510: '적재', 3646: '때론', 3743: '라곤', 3558: '듯해', 6727: '승자', 4437: '멤버', 8808: '이상자', 8770: '이를', 2067: '기대다', 6511: '수영복', 4860: '바닷가', 11711: '폰트', 10712: '최원호', 1591: '공무원', 936: '간접', 8602: '은데', 10525: '채색', 11192: '태도', 3738: '라가', 9449: '저그', 5331: '보람', 10275: '진전', 8042: '오승민', 1730: '교체', 9581: '전화기', 9047: '일차', 12129: '향수', 2936: '다리다', 8120: '옶는', 5890: '사상', 10792: '충전기', 9526: '전기', 1853: '권장', 4558: '몸통', 2227: '깜놀', 5934: '사춘기', 3502: '드다', 2980: '다자', 2925: '다드', 3581: '디디', 7099: '아롱', 9122: '자기야', 12312: '화요일', 2133: '기해', 5474: '부시다', 3368: '돈줄', 6283: '세계관', 838: '가뭄', 1732: '교환', 9629: '접지', 10796: '충해', 3056: '달랑', 7833: '여태껏', 3342: '도착', 4436: '멜로디', 2541: '날카롭다', 1209: '거실', 3401: '동기화', 9048: '일치', 934: '간의', 2193: '깃발', 6688: '스페이스바', 11678: '포심', 7511: '어럽다', 4488: '모레', 7600: '어쩜', 1253: '건담', 1006: '강구', 8662: '의식', 12415: '후련하다', 11006: '켜지다', 7653: '엄두', 2868: '늑흼', 7069: '아기자기', 7802: '여성향', 9303: '장담', 7562: '어이없이', 5708: '비행', 7233: '안고', 8847: '이예', 3796: '랍시고', 5764: '빡세', 11097: '크리스털', 5395: '복임', 7239: '안내면', 1823: '굴리', 7786: '여기저기', 11194: '태블릿', 4985: '발렌', 9747: '제생', 2711: '노면', 10055: '중독되버러', 2270: '께르륵', 10116: '증거', 11325: '통쾌하다', 9697: '정중하다', 5351: '보신', 5748: '빠이', 1290: '검정', 325: 'ㄴㅓ', 1717: '교류', 11748: '품위', 7618: '억울', 7151: '아요', 10080: '중창', 6232: '설레다', 8127: '옷장', 6412: '속눈썹', 5226: '베개', 1770: '구분', 9428: '잼밌', 9639: '정기권', 6447: '솔로', 3183: '대전', 11923: '하필', 8903: '이함', 10421: '차기', 10696: '최공', 5922: '사전', 3563: '등록', 10283: '진창', 6994: '쌓이네', 2228: '깜박', 3224: '더라고요', 9519: '전개', 5127: '버러지', 7327: '압박', 1467: '고등학생', 5439: '부끄럽다', 6898: '실세', 3614: '따라가다', 7982: '옛적', 2099: '기억나다', 941: '갇히다', 4689: '물길', 1347: '겜은괞춘', 2345: '꿀젬', 6766: '시뮬레이션', 8343: '운니', 4798: '민감하다', 10735: '추리', 12053: '해롭다', 4727: '믕겜', 1867: '귀염둥이', 3485: '뒤통수', 2028: '금지선', 12342: '환경', 10923: '캐봣자', 3626: '따오다', 5707: '비판', 9025: '일어나고', 6161: '서럽다', 907: '가하다', 4705: '물질', 3072: '닭살', 1162: '갸챠', 4556: '몸집', 1163: '갸챠라브', 3765: '라브', 5581: '불미', 1754: '구라', 12004: '할러', 3179: '대입', 6881: '싣다', 1411: '경쾌하다', 8973: '인지도', 9988: '주얼', 9316: '장비', 12239: '호가', 3702: '똥파리', 9041: '일제', 9543: '전범', 3666: '떠올리다', 8205: '외우다', 12369: '황당하다', 727: 'ㅡㄱ', 9571: '전채', 11492: '파자마', 6222: '선전', 1664: '괄련', 3329: '도움말', 2848: '눕다', 10090: '쥐다', 10843: '치중', 4695: '물리엔진', 7033: '쓰시', 11317: '통신사', 9971: '주민등록', 9864: '존버', 5553: '분후', 1254: '건대', 8310: '우산', 3787: '라지', 5987: '살포시', 2588: '내려앉다', 5012: '밟다', 2865: '느릿느릿', 1879: '귀하다', 11368: '튕기거', 1322: '게스트', 7371: '애착', 3685: '또래', 9591: '절레절레', 10626: '첼린', 6109: '생기지', 7892: '연필', 10031: '줄달', 4055: '리타', 11888: '하므다', 6736: '시국', 8391: '원대', 5374: '보컬', 6009: '상관', 3299: '도둑', 10938: '캘린더', 5139: '버벅거릴', 2708: '노리', 6836: '신경질', 4544: '몰다', 3020: '단번', 5011: '밝히다', 8790: '이반', 671: 'ㅛㅗㅕㅑㅑ', 579: 'ㅏㅏ', 3804: '래라러러처추', 733: 'ㅡㅇㄴ', 7841: '역경', 9556: '전용', 11798: '플레이도', 1615: '공포', 4250: '많쪼', 11280: '토미', 3939: '로블록스', 8008: '오래도록', 12211: '현저', 7707: '에게도', 2736: '노화', 3084: '답니', 4699: '물약', 1074: '개망겜', 6494: '수색', 10783: '충격', 9664: '정산', 2806: '누락', 6640: '스크린숏', 12474: '흑역사', 11931: '학대', 11707: '폭행', 11340: '투신', 5352: '보아', 7522: '어른거리다', 1703: '괴로움', 11640: '평범', 4845: '바글바글', 160: 'qq', 2914: '다날', 9886: '좀비', 1466: '고등학교', 7690: '엇갈리다', 9020: '일수', 12066: '해석', 2229: '깜박깜박', 8580: '으레', 2230: '깜빡', 4417: '메모리', 12343: '환경문제', 1205: '거스', 10944: '캠핑카', 5681: '비스름', 5551: '분홍', 3042: '단풍', 2433: '나무라다', 4682: '문화', 10406: '찜찜하다', 2365: '끈질기다', 3723: '뜬금없이', 7011: '쏟다', 3009: '닦이다', 7676: '업무', 9067: '임시', 6227: '선하다', 8598: '으음', 8477: '유기', 12428: '후후', 8787: '이민아', 340: 'ㄷㅊ', 484: 'ㅊㄹㅈㅅㅊㄷㅈㅅㅈㅇㅃㄴㄷㅉㅁㅈㅉㄸ', 286: 'ㄱㅅㅈㅌㄹ', 344: 'ㄹㄷ', 462: 'ㅈㄷㄴㅈ', 5804: '뻗치다', 4685: '물가', 9527: '전달', 4149: '마임', 2319: '꾸리다', 10918: '캐릭', 3115: '대각', 1388: '경계', 3772: '라이', 11772: '프로도', 5964: '살구색', 982: '감정', 11824: '피에르', 394: 'ㅅㄱㅅㄷㄱㅅㄷㄱ', 10900: '카트', 7848: '역전', 1753: '구두', 9636: '정규', 8065: '오졹', 7896: '연희', 8111: '옰발', 7326: '압류', 4443: '면지', 951: '갈수', 9103: '잇숩미', 11182: '탈출', 7887: '연재', 2284: '꼬실', 7971: '예여', 9207: '작가', 257: 'ᅲᅲᅮ', 154: 'pls', 5957: '산적', 9818: '조바심', 8745: '이랑은', 4836: '밌을겄', 1166: '거간', 819: '가로', 8466: '위험하다', 5616: '붙이', 10170: '지라', 9017: '일상', 12289: '화난', 2032: '급땅겨', 4545: '몰두하다', 10467: '찬찬하다', 4966: '반했어', 10316: '집착', 4159: '마치다', 3037: '단짝', 5231: '베르나르', 11536: '팔찌', 8220: '요금', 6258: '성북', 4977: '발달장애', 372: 'ㅂㄴㄷ', 1926: '그런대로', 9669: '정서', 7826: '여주면', 10084: '중학생', 4218: '만은', 5742: '빠듯함', 5741: '빠듯하', 1623: '과고', 4979: '발동', 1915: '그랜드', 4126: '마스터', 4656: '무현', 7086: '아득바득', 9068: '임신', 2517: '난중', 3463: '두렵다', 8766: '이루다', 11103: '큰딸', 1852: '권유', 8544: '유토피아', 2243: '깨닫다', 6209: '선박', 4807: '민정', 9334: '장이', 4058: '리트', 3781: '라이토', 12203: '현달', 7573: '어주쎠', 4303: '망토', 1666: '광거', 1042: '갚다', 3112: '닿다', 6907: '실으', 6122: '생물체', 10365: '쩜재밌쩜', 9357: '재고', 1028: '강추임', 4387: '멀미', 12477: '흔들다', 828: '가림', 11144: '타고', 11773: '프로듀서', 7067: '아가씨', 5383: '복고', 7181: '아줌마', 11448: '티나', 7395: '앵강', 9998: '주자', 1305: '겋리네', 156: 'plz', 176: 'skeleton', 187: 'stighs', 7155: '아웃', 4386: '멀리', 381: 'ㅂㅈㄷㄱ', 642: 'ㅕㅑㅐㅔㅁㄴㅇㄹ', 615: 'ㅓㅏㅣㅋㅌㅊ', 695: 'ㅜㅡㅂㅈㄷㄱ', 643: 'ㅕㅑㅐㅔㅁㄴㅇㄹㅎ', 10500: '창문', 7504: '어떡하다', 6984: '싸이', 5470: '부숴', 2376: '끔찍하다', 5693: '비위', 6057: '상함', 1675: '광굽', 6492: '수빈', 2900: '닐닐', 732: 'ㅡㅇ', 5244: '베트남인', 10443: '차야', 9844: '조장', 1812: '군것질', 5909: '사유', 6290: '세대', 5228: '베끼', 1632: '과소', 1008: '강도', 1741: '구경해', 12017: '함정', 10041: '줏같은겜임', 661: 'ㅗㅜㅑ', 11105: '큰일', 2738: '녹다', 5698: '비주', 1978: '극혐', 2620: '너구리', 9325: '장식품', 12438: '훔치다', 6060: '상향', 5768: '빡씬데', 10533: '책임', 5112: '뱀파이어', 6741: '시나', 11016: '코브라', 8183: '왜인', 10534: '책임감', 7463: '양하다', 3258: '덩어리', 1403: '경쟁력', 6108: '생기며', 6697: '스피드', 2870: '는가', 6780: '시시하다', 5691: '비운', 1745: '구글플레이', 6572: '숨기다', 2770: '농작', 981: '감점', 11794: '플러스', 10261: '진부하다', 8254: '요지', 10066: '중심', 6134: '생코', 11200: '태인', 8141: '와이퍼', 8692: '이글', 7733: '에보니', 2941: '다모아', 7877: '연속성', 1596: '공시', 11795: '플레', 12307: '화살', 8044: '오신', 7843: '역대', 9483: '저축', 5286: '별의별', 1066: '개똥', 3384: '돌아다니다', 1552: '골다', 8955: '인심', 11163: '타입', 565: 'ㅎㅎㅎㅣ', 11128: '키스', 387: 'ㅃㅇ', 849: '가성', 2317: '꾸르잼', 965: '감당', 10968: '커플', 5266: '변질', 6772: '시비', 4166: '마토', 6311: '세입', 5561: '불공정', 7389: '앰비', 516: 'ㅋㅋㅋㅎㅎㅋ', 8074: '오타', 123: 'jhwheieheh', 9175: '자유도', 2318: '꾸르잼임', 3167: '대여섯', 9646: '정돈', 4125: '마스크', 5902: '사연', 7144: '아악', 7700: '엉터리', 8813: '이서윤', 3293: '도달', 6580: '쉬엄쉬엄', 1855: '권태기', 8891: '이탈', 12057: '해몽', 4765: '미셸', 1935: '그레타', 10970: '커플링', 3444: '되돌아보다', 509: 'ㅋㅋㄹㅃㅃ', 6618: '스빱멈거', 357: 'ㄹㅍ', 12502: '희숙', 10860: '친하다', 6104: '생겨나다', 4127: '마스트', 4020: '리더', 6941: '심슨', 5826: '뿌잉쁘', 9594: '절묘하다', 3888: '렉너무싶혜', 9555: '전어', 458: 'ㅇㅣ', 1512: '고욯', 9680: '정신없이', 2104: '기와', 12000: '한편', 3377: '돌라', 11483: '파업', 1272: '걷기', 2112: '기원후', 2725: '노이로제', 11917: '하차', 1976: '극할', 9344: '장창', 7756: '에프', 7198: '아틀라스', 10793: '충전지', 900: '가축', 6210: '선반', 12308: '화살표', 2840: '눌려', 4261: '말로', 4899: '박수', 9782: '젤귀', 10780: '출혈', 11980: '한심하다', 5287: '별일', 8556: '유하', 1789: '구질구질하다', 4327: '매우돟라룡', 4352: '맹입', 6036: '상업', 11178: '탈락', 8277: '용다', 6061: '상호작용', 10134: '지구', 5723: '빌다', 1031: '강퇴', 11458: '팀원', 7726: '에를', 6127: '생생하다', 11138: '킹덤', 9000: '일루', 7342: '애고', 7344: '애긔들', 3200: '대학', 1476: '고려대', 5125: '버니', 10274: '진저', 6182: '서울', 7977: '예체능', 8918: '익히다', 9289: '잡히다', 7576: '어지르다', 3106: '당첨', 7732: '에버', 11034: '콜라겐', 3517: '드롭률', 4709: '뭉치다', 10417: '차곡차곡', 4102: '마력', 3993: '루트', 9034: '일일이', 10514: '찾아가다', 10184: '지미', 10736: '추방', 8925: '인계', 6738: '시급하다', 2024: '금은', 5614: '붙들다', 8636: '읍니', 1681: '광보', 11060: '쿠팡', 12303: '화병', 3959: '로테이션', 2596: '내보내다', 11734: '푸잉', 5825: '뿌잉', 6904: '실어', 4941: '반비례', 8478: '유난히', 10856: '친절하다', 8323: '우왕', 10489: '참을성', 7589: '어쩌나', 2235: '깜찍', 7427: '약밥', 9770: '제조', 3077: '담날', 6622: '스웨터', 10027: '줄곧', 3575: '딀때', 5545: '분제', 6998: '쌤쌤', 110: 'humm', 4195: '만두', 534: 'ㅋㅡㅋ', 1075: '개미', 5405: '본능', 3811: '랜던', 1559: '골르다', 7698: '엉뚱하다', 7723: '에라도', 7829: '여쭈다', 33: 'bb', 11382: '튕깁니', 8007: '오래간만', 8858: '이윤', 6246: '섭섭하다', 7309: '알았늠데', 6303: '세수', 10294: '질도', 2287: '꼬우', 6859: '신스', 4083: '마구잡이', 7560: '어음', 1230: '거존잼', 8143: '와전', 4232: '만주', 442: 'ㅇㅇㅈ', 1578: '공고', 10358: '째밎', 3691: '똑았', 11136: '킬링', 9112: '자게', 9384: '재및', 10389: '쬐다', 11274: '토르투가', 2182: '김지하', 7489: '어도', 1481: '고만', 11879: '하련다', 811: '가득하다', 157: 'poe', 6086: '색맥입', 7492: '어두워지다', 502: 'ㅋㅋㄱㄱ', 488: 'ㅋㄱㄱ', 9455: '저따위', 11806: '플스', 3694: '똥겜', 3699: '똥망', 10841: '치자', 8620: '음가', 417: 'ㅅㅋ', 9741: '제방', 1957: '그제야', 10648: '초로', 10827: '치르다', 6626: '스카이', 2110: '기울이다', 10077: '중재', 8414: '원정', 7230: '안감', 5666: '비롯', 6344: '소규모', 8394: '원동력', 8494: '유리', 6200: '석회', 11236: '테러', 128: 'killa', 11320: '통장', 10606: '청장', 12224: '협박', 863: '가용', 11952: '한국판', 7303: '알새', 8433: '월레데', 10068: '중요', 11410: '트립', 6042: '상임', 6893: '실무', 11395: '트럼', 5393: '복싱', 7580: '어짼', 2668: '네마', 1622: '과거', 1139: '개편', 11351: '투표', 8154: '완수', 4724: '뮤직', 11341: '투어', 10492: '찹쌀떡', 11545: '패가망신', 12098: '핵꿀잼', 703: 'ㅠㅇㅍ', 5265: '변역', 10594: '첨부파일', 9310: '장문', 8407: '원어민', 8546: '유투', 11786: '프토', 10618: '체적', 9915: '좋리욯', 2320: '꾸미닌', 9087: '입맛', 10466: '찬스', 4384: '먼지', 11179: '탈모', 12365: '황금돼지', 2492: '낚였네', 1923: '그럭', 12185: '헤헷', 3411: '동색', 8030: '오리', 689: 'ㅜㅜㅠ', 1955: '그이', 763: 'ㅣㄴㄱㄷㅊㅅ', 2737: '녹늦', 403: 'ㅅㄹ', 465: 'ㅈㅅ', 2450: '나아가다', 4392: '멈멈', 2275: '껬는데', 5495: '부쩍', 3022: '단설', 7928: '엽습', 3819: '랭커', 12043: '해년', 1462: '고다', 6365: '소문', 11285: '토안', 2147: '길드장', 2647: '넘겨주다', 10458: '착각', 11215: '터뜨리다', 2427: '나른하다', 3514: '드레스', 11014: '코르셋', 1187: '거려', 8945: '인사', 4793: '미흡하다', 3845: '런데', 11120: '클리', 7566: '어전', 4820: '밀리다', 1461: '고는', 3797: '랏어', 11394: '트럭', 8116: '옴짝', 3066: '달싹', 8231: '요령', 10491: '참치', 2309: '꽁치', 837: '가문', 6532: '수치', 2906: '닝러그리', 4801: '민딜히', 4408: '멍헔니디', 8213: '요건', 11220: '터트려', 10797: '취급', 3281: '뎃즘', 4402: '멍멍', 4551: '몰입도', 1514: '고유', 8420: '원클릭', 1964: '극복', 912: '각드기', 6415: '속마음', 1634: '과열', 6314: '세탁기', 11655: '평화스럽다', 11589: '퍼펙트', 10799: '취미', 3940: '로블뿐', 11427: '특이', 11699: '폭력', 11729: '푸르다', 11813: '피다', 10215: '지주', 4618: '무언', 1869: '귀염이', 6954: '심쿵', 11624: '편의', 6681: '스틸', 9447: '저격', 4984: '발랄하다', 9819: '조빈', 10448: '차이나', 11599: '페스티벌', 3670: '떨구다', 424: 'ㅇㄱㄹㅇ', 378: 'ㅂㅂㅂㄱ', 385: 'ㅃㅂㅍㅌ', 1750: '구도', 11429: '특정', 10934: '캔슬되더', 538: 'ㅌㅋㅋㅋ', 4621: '무오', 11765: '프레임', 1541: '고혈압', 10787: '충분', 7418: '야옹', 1677: '광도', 2334: '꿀르잼', 7918: '열흘', 5177: '번성', 1225: '거임돈', 4225: '만전', 9843: '조잡하다', 2766: '농사짓다', 5068: '배너', 1633: '과언', 8426: '원활', 8659: '의사', 854: '가시', 10475: '찰지다', 10431: '차례대로', 20: '99', 6471: '수년', 3542: '들쑥날쑥하다', 10255: '진급', 7365: '애완견', 9850: '조직', 8413: '원점', 7194: '아탬쓴거', 1859: '귀가', 7927: '엽사', 4723: '뮤비', 2299: '꼴찌', 2841: '눌렸는데', 1129: '개척', 94: 'goo', 151: 'ood', 4027: '리릭', 4434: '멘트', 3926: '로또', 5728: '빌어', 4778: '미용', 2411: '나눠지다', 2096: '기아', 11938: '학적', 7338: '앞서', 4390: '멀티', 11796: '플레기', 30: 'appe', 1692: '괘씸하다', 3078: '담다', 9907: '종훈', 12056: '해명', 5202: '벌린다', 3580: '디도', 10644: '초등학교', 7835: '여학생', 11286: '토요일', 2788: '놨더', 11250: '텍스처', 9672: '정성', 1763: '구림', 3696: '똥구멍', 850: '가세', 11173: '탄도', 9598: '절었네', 10445: '차원', 264: 'ㄱㄱ', 11653: '평화', 2431: '나머진', 11658: '폐비', 7083: '아대', 6962: '십분', 1331: '게이조', 1134: '개코', 8509: '유스', 932: '간식', 8622: '음료', 1828: '굶주리다', 6294: '세로', 1415: '경험치', 12120: '행성', 9278: '잡기', 9972: '주방', 8269: '욕실', 5609: '붓다', 9743: '제보', 11088: '크로마키', 12111: '햄스터', 11438: '틀어주다', 8983: '인형', 1545: '곡괭이', 3606: '딜러', 9375: '재미쩌', 2724: '노음', 3865: '레어', 1130: '개체', 11863: '하내', 4360: '머리색', 2785: '놨는', 5751: '빠져나오다', 11751: '풍년', 2866: '느슨하다', 10839: '치의', 8607: '은빛', 3399: '동글동글', 6997: '쌘척하', 1619: '공해', 3932: '로망', 10018: '죽여주다', 12170: '헤봐용', 8557: '유해하다', 3300: '도드라지다', 9551: '전송', 7534: '어머머', 12435: '훌륭', 8164: '완충', 3641: '딸아이', 10527: '채식', 11528: '팔라펠', 8908: '이혜', 7052: '씨방', 2464: '나웅', 3688: '똑땅해', 7503: '어떡', 7540: '어보', 8804: '이사', 10901: '카트라이더', 994: '갑인', 10924: '캐쉬', 5230: '베르', 529: 'ㅋㅎ', 4776: '미안하다', 11693: '포프', 7864: '연도', 1160: '갸차', 153: 'perk', 10392: '쭉쭉', 3017: '단말', 11922: '하품', 9592: '절로', 8257: '요코', 8927: '인과', 724: 'ㅠㅡ', 12079: '해적선', 9367: '재맜어', 2752: '놀러와', 3452: '두건', 12347: '환산', 9848: '조종도', 999: '갑툭티', 4289: '맛춤버', 12109: '핼러윈데이', 8271: '욕조', 5257: '변기', 1375: '결정', 6579: '쉬쉬', 10092: '쥐루', 9947: '주구', 5124: '버는데', 7360: '애석하다', 4552: '몸매', 3136: '대두', 12476: '흑인', 9298: '장난꾸러기', 4896: '박사', 5712: '빅사', 2912: '다그', 6194: '서황', 1742: '구굥', 11852: '하고만', 9840: '조이다', 242: 'ᄒᄒᄒ', 2027: '금지', 8957: '인어', 3000: '다해', 9361: '재닜어', 493: 'ㅋㄲㅋ', 2484: '나흘', 6079: '새우다', 8029: '오름', 9414: '재탕', 8886: '이찬원', 11028: '콘서트', 1769: '구북구', 4007: '른거', 9884: '좀더', 899: '가추', 9260: '잘알다', 2476: '나진', 10766: '출발', 7795: '여러가지', 10802: '취양', 989: '감히', 11000: '케이프', 3194: '대치', 2940: '다모', 158: 'pou', 9965: '주말', 10076: '중입', 4924: '반나절', 10272: '진자', 429: 'ㅇㅁ', 3057: '달래다', 3197: '대폭', 9654: '정면샷', 11567: '팬티', 7406: '야릇하다', 9427: '잼밋어', 2819: '눈곱', 4573: '무겁다', 6655: '스탈', 11436: '틀림', 5297: '병심', 5126: '버락', 5969: '살로', 11027: '콘도', 11099: '크림', 11510: '판수', 8063: '오조', 11077: '큐브', 9040: '일정하다', 1630: '과부', 8288: '용이', 5992: '삼각김밥', 7824: '여종', 12466: '흐엉흐엉', 2233: '깜씨', 2251: '깨어나다', 2799: '누굴', 6228: '선호', 1529: '고체', 6588: '슈트', 3593: '디오네', 3594: '디오르', 997: '갑작스럽다', 10636: '초고', 1019: '강압', 9060: '임나', 7769: '엘리베이터', 4366: '머무르다', 8896: '이펙트', 3846: '런처', 1391: '경관', 10622: '체포', 10279: '진지', 12160: '헛돈', 5886: '사방', 10473: '찰스', 8568: '육질', 6418: '속성', 5481: '부여', 7417: '야야', 2173: '김아영', 2191: '김희영', 4756: '미망인', 113: 'im', 1327: '게으르다', 111: 'id', 8547: '유튜버', 1821: '굴려', 3454: '두근두근', 7396: '앵그리버드', 11901: '하얗다', 10338: '짝사랑', 9801: '조국', 1775: '구속', 4677: '문재인', 7147: '아애', 4142: '마이크로', 1120: '개쥤어', 6128: '생업', 5855: '사느랗다', 4912: '박하', 4593: '무료함', 4070: '린스', 7763: '엔간하다', 9159: '자산', 10321: '징글징글', 5729: '빌어먹을', 5159: '버티고', 7470: '어간', 11321: '통조림', 3513: '드럽다', 11426: '특유하다', 7497: '어딘가', 10296: '질료', 4741: '미노', 2089: '기선', 9934: '죄책감', 1587: '공동체', 4964: '반하다', 5444: '부드러움', 5450: '부딪히다', 3623: '따분하다', 7615: '어해', 10947: '캡쳐', 6003: '삼일', 3508: '드래건', 11111: '클러버', 9461: '저렙', 12271: '홀랑', 1835: '굿둣', 11360: '튕겨나감', 11593: '펌웨어', 12034: '항아리', 5217: '법인', 9216: '작법', 3562: '등등하다', 5777: '빨갛다', 8056: '오이나', 8865: '이입', 12356: '활발해지다', 4335: '매크로', 933: '간신히', 10794: '충족', 10089: '쥐꼬리', 1896: '그나', 10187: '지붕', 5999: '삼박자', 3410: '동상', 2412: '나뉘다', 6648: '스타일리시', 7299: '알맞다', 9454: '저능', 7037: '쓱쓱', 6989: '싹싹', 12448: '휴대', 10264: '진수', 6271: '성찬', 12299: '화만', 6782: '시어머니', 7520: '어르신', 4013: '리그전', 12361: '홧병나', 2702: '노란색', 3357: '독자', 11208: '터갓', 2924: '다동', 8893: '이트', 9015: '일빠', 7725: '에로', 7111: '아무개', 11816: '피땀', 9234: '작품', 10801: '취습', 7228: '악플러', 11443: '틔우다', 9113: '자격', 5486: '부적격', 6935: '심리', 8649: '의뢰', 3285: '도곽', 12235: '혜영', 4547: '몰래', 522: 'ㅋㅋㅎㅎ', 705: 'ㅠㅇㅠ', 8508: '유수민', 5240: '베카', 4721: '뭡니까', 2483: '나하', 10164: '지대', 1491: '고사', 12035: '항의', 6020: '상대편', 5675: '비비다', 1620: '곶감', 249: 'ᅮᅮᅮ', 8438: '월척', 10337: '짜증스럽다', 6459: '쇼핑', 3187: '대지', 7893: '연하다', 3409: '동반', 3874: '레인보', 2589: '내려오다', 4882: '바위', 10303: '질의', 5895: '사슈', 5849: '사기꾼', 6917: '실하다', 4908: '박지', 4893: '박다', 4633: '무적', 1933: '그레이', 4887: '바짝', 8148: '완급', 1159: '갸좋', 6598: '스노보드', 3617: '따라잡다', 1257: '건들', 10276: '진절머리', 7220: '악의', 3048: '달기', 2820: '눈높이', 3089: '답신', 12161: '헛소리', 10314: '집어치우다', 10638: '초광', 9120: '자기개발', 4475: '모녀', 6139: '생활', 5714: '빈곤하다', 721: 'ㅠㅠㅋㅋ', 5834: '사각', 5026: '방과', 4894: '박만', 1484: '고모', 408: 'ㅅㅅㅅ', 12519: '힘겹다', 2813: '누에', 4146: '마인', 4483: '모되', 4625: '무의미하다', 3420: '동원', 8249: '요절', 10804: '취저', 8037: '오브젝트', 2718: '노아', 11072: '퀄임', 9812: '조리', 1767: '구멍', 11261: '템창', 3842: '럭셔리', 9312: '장미선', 8560: '유혈', 1816: '군용', 7443: '양도', 10682: '총동원', 255: 'ᅲᅮᅳ', 12372: '황충', 7141: '아씨', 4895: '박박', 4565: '몽실', 5246: '벤츠', 2437: '나방', 7729: '에메랄드', 3039: '단추', 11911: '하이힐', 7429: '약오르다', 8950: '인성', 1033: '강하니', 9755: '제의', 4591: '무려', 9803: '조그만', 6615: '스무', 3528: '드하', 9181: '자의', 11154: '타의', 8634: '음향', 12009: '할아버지', 11744: '풀타임', 5540: '분임', 5898: '사십분', 8206: '외전', 376: 'ㅂㄷㅂㄷ', 7075: '아내', 221: 'youtuber', 1291: '검토', 11669: '포동포동', 2565: '납치', 3279: '데코', 7525: '어리석다', 4691: '물들다', 9475: '저을', 8398: '원만', 7502: '어떠하다', 1648: '관고', 405: 'ㅅㅁㅋㅋㅈ', 2802: '누노', 1820: '굴러가다', 5661: '비도', 10770: '출시일', 2689: '년이므', 10331: '짜이다', 11632: '편파', 7262: '안성맞춤', 4313: '맡다', 1229: '거조', 7805: '여야', 2037: '급속도', 2511: '난시', 8023: '오륜가', 7716: '에다', 11578: '퍼주', 11858: '하나같이', 11467: '파도', 6613: '스머프', 11059: '쿠키런', 5214: '범인', 5567: '불균형', 5538: '분위기', 10703: '최상', 6731: '시간대', 1602: '공임', 3002: '다행하다', 8595: '으악', 9935: '죔죔', 7330: '압정', 8200: '외롭다', 2108: '기운', 1590: '공률', 6431: '손동작', 7378: '액세스', 2667: '네다섯', 8536: '유찬', 9366: '재맜긴헌데', 10874: '칫솔', 4076: '립스틱', 9462: '저렙때', 6816: '시험', 2303: '꼼짝', 4719: '뭘랐', 6488: '수명', 5800: '뻐금', 4916: '박혜빈', 1607: '공주', 4111: '마마', 10461: '착착', 1406: '경주', 11416: '특기', 11555: '패션쇼', 9126: '자꾸자꾸', 12418: '후속작', 1714: '굉고보', 3474: '뒈지다', 1713: '굉고만아', 8135: '와쓰', 1549: '곤지', 4148: '마인크래프트', 5715: '빈도', 1834: '굿굿굿', 10979: '컬러', 9707: '정해진', 7712: '에까지', 6159: '서든', 3268: '데리', 12332: '확신', 9746: '제사', 5172: '번다', 9574: '전파', 9735: '제밌', 9742: '제법', 2290: '꼭꺈세', 2219: '깔르셈', 5207: '벌점', 166: 'rnt', 10571: '천원', 10237: '직거려', 12228: '혓바닥', 5544: '분전', 10592: '첨도', 11553: '패셔너블', 8128: '옷차림', 7294: '알록달록하다', 375: 'ㅂㄷ', 335: 'ㄷㅂ', 10498: '창렬', 3910: '렬도', 4067: '릭스', 1798: '구현', 436: 'ㅇㅇㅅㅇ', 367: 'ㅁㅅㅁ', 9083: '입깆등', 8576: '융딩', 11944: '한결같다', 8574: '윤지', 4375: '먹보', 6136: '생태계', 5420: '볼법', 4023: '리듬게임', 1000: '갓겜', 11056: '쿠쿠', 3985: '루삥뽕', 9453: '저녁', 10694: '최곱', 11332: '통화', 102: 'gud', 5621: '뷰티', 6913: '실컷', 6905: '실업', 10846: '치킨', 12133: '허니', 8500: '유물', 9793: '조가', 9837: '조원', 739: 'ㅡㅎ', 3582: '디렉터', 2344: '꿀쟁', 9777: '제페토', 9894: '종마', 10708: '최신', 7426: '약물', 10616: '체온계', 5147: '버세', 1058: '개꿀젬입니닷', 1528: '고창', 2294: '꼴등', 497: 'ㅋㄹㅋㅋㅅㅋㅅㄴ', 12162: '헛소문', 2690: '년차', 4367: '머물다', 2402: '나가요', 5818: '뿌뤵', 7939: '영양', 9783: '젤라', 9754: '제우', 2254: '깨우다', 517: 'ㅋㅋㅋㅠㅠㅠ', 1948: '그림자', 4229: '만족도', 913: '각력', 11090: '크롤', 3613: '따뜻하다', 11908: '하은', 4598: '무무', 2804: '누눠', 2473: '나제', 363: 'ㅁㅁㅁㅣ', 4758: '미미', 4791: '미티', 12348: '환상', 7613: '어파', 3897: '렙이군', 10863: '칠이', 6361: '소매', 3619: '따로따로', 6556: '순수하다', 6340: '셰벽', 1325: '게시판', 6252: '성과', 11155: '타이', 1364: '격차', 12384: '회색', 9311: '장미', 9204: '자홍', 4152: '마젠타', 8151: '완벽주의자', 1116: '개존잼', 5695: '비음', 7759: '에혀', 966: '감독', 2485: '낙동강', 5867: '사래', 5046: '방전', 1755: '구래', 5541: '분자', 823: '가르치다', 10679: '촌스럽다', 6474: '수동', 2486: '낙서', 11153: '타워', 3529: '득점', 5085: '배정', 11339: '투성이', 7039: '쓴소리', 1783: '구요', 10351: '짱잼', 11003: '케케', 4068: '릭터', 5031: '방망이', 10499: '창망', 2130: '기프트카드', 11421: '특색', 3307: '도리어', 3270: '데뷔', 6427: '손길', 9910: '좇아졌', 6586: '슈렉', 1104: '개이득', 4746: '미도', 9242: '잔인성', 6948: '심의', 6119: '생명력', 4616: '무안', 4843: '바고', 11264: '토기', 2893: '니야', 6278: '성형', 11527: '팔다리', 1708: '괴안음', 3937: '로브습니', 5630: '브롤', 1041: '같잖다', 4773: '미스티', 9078: '임채민', 7737: '에서나', 5636: '블랙스크린', 2385: '끝임', 6284: '세고', 7500: '어따', 9069: '임업', 1119: '개중', 1761: '구리', 9065: '임수민', 5763: '빡빡이', 2090: '기성전', 4269: '말아먹다', 5755: '빠트려', 6856: '신비하다', 1146: '객지', 8313: '우수하다', 3465: '두번째', 1171: '거구', 8758: '이렣게', 10277: '진정', 5573: '불럭', 5773: '빢침', 4823: '밀치다', 3150: '대문', 10715: '최적', 8577: '융통성', 8284: '용수', 4627: '무자비하다', 8144: '와중', 12380: '회복', 10739: '추월', 6669: '스톱', 6512: '수영장', 2973: '다이빙', 8963: '인임', 5876: '사리', 9007: '일방', 2009: '금금', 5814: '뽷돌아', 3516: '드롭', 11691: '포트', 4369: '머치', 11491: '파일', 2225: '깜깜', 4712: '뭐애', 96: 'gooddd', 2605: '내의', 1899: '그날', 2021: '금속', 8830: '이십', 12287: '화끈하다', 4632: '무쟈', 3722: '뜬금', 4524: '모호하다', 1285: '검불', 2300: '꼴찌임', 8453: '위만', 1108: '개일', 4831: '밌는', 4945: '반신반의', 11660: '폐지', 11834: '피해자', 10597: '첫돌', 8815: '이세', 12163: '헛웃음', 3388: '돌이', 11615: '펭귄', 7966: '예서', 12138: '허리', 5916: '사이즈', 976: '감싸다', 44: 'clap', 177: 'slap', 86: 'gatcha', 197: 'toon', 6221: '선장', 5477: '부어', 9689: '정이', 2478: '나침반', 2539: '날자', 9382: '재밍', 5346: '보색', 10284: '진하다', 12275: '홀쭉하다', 10302: '질서', 10003: '주정', 11372: '튕기네', 10595: '첨으로', 7451: '양안', 2449: '나아', 575: 'ㅏㅇㅇㅏ', 2451: '나아아', 3769: '라아', 631: 'ㅔㅇ', 11767: '프렌치', 12174: '헤어지다', 2952: '다소곳', 9271: '잠실', 7401: '야권', 6297: '세모', 2833: '눈알', 9091: '입양', 1012: '강령', 364: 'ㅁㅁㅕ', 2172: '김시현', 7335: '앞두다', 2118: '기적', 9053: '일후', 6929: '심경', 8545: '유통', 5850: '사나', 9856: '조합', 432: 'ㅇㅅㅇ', 10109: '즐겜', 7287: '알고리즘', 11147: '타깃', 1772: '구석', 7397: '앵두', 1276: '걸볼때', 6416: '속병', 9332: '장업뎃', 4265: '말세', 9528: '전도', 10064: '중수', 4069: '린다', 6013: '상금', 8436: '월요일', 4215: '만으로', 8424: '원함', 5918: '사이트', 10850: '친등', 5021: '밥값', 8467: '윈도', 12377: '회도', 9405: '재주', 1650: '관락', 9549: '전설', 3283: '도감', 245: 'ᅧᅧ', 9833: '조오', 9835: '조온', 8401: '원망하다', 1436: '계임', 9018: '일상생활', 1757: '구로', 2050: '기고', 6133: '생쥐', 7436: '얄밉다', 9794: '조각', 12234: '형평성', 5769: '빡지', 9632: '젔으', 4043: '리안', 9383: '재밎겠다', 2087: '기쁨', 1107: '개인화', 5154: '버즈', 6699: '스피커', 5809: '뽀뽀', 978: '감염', 5880: '사망', 4972: '받침', 1941: '그르렁', 10402: '찍찍', 8590: '으르렁', 1383: '결혼식', 4503: '모시다', 8513: '유엔', 9467: '저림', 7949: '영혼', 4409: '멎다', 8332: '우주선', 9710: '정확도', 5479: '부엉이', 8884: '이질', 12122: '행위', 7575: '어지럽다', 6874: '신축', 333: 'ㄷㄷㄷ', 7844: '역도', 11030: '콘테스트', 5656: '비난', 35: 'bishes', 217: 'xd', 11479: '파서', 7313: '알콩달콩', 8222: '요긴', 4325: '매시간', 1618: '공항', 2916: '다는데', 9323: '장시간', 9599: '절었다', 6046: '상치', 7277: '안질리다', 2053: '기괴하다', 7452: '양양', 8232: '요로', 10462: '착취', 7607: '어캅', 10668: '초점', 11019: '코스튬', 12041: '해금', 8579: '으러', 7336: '앞마당', 10870: '침실', 3487: '뒷마당', 11418: '특별나다', 2001: '글씨체', 5799: '뺨치', 9942: '주객전도', 3451: '될것깉아', 5323: '보더', 8155: '완잼나', 673: 'ㅛㅛㅛ', 915: '각하', 3733: '띠밤', 3090: '답일', 4234: '만지작거리다', 10490: '참작', 920: '간곡히', 5883: '사무실', 12282: '홍콩', 7647: '얼척', 6768: '시반', 4929: '반대편', 8642: '응애', 5081: '배액', 5208: '벌주다', 2703: '노랑', 3035: '단조롭다', 7757: '에피', 675: 'ㅜㄱ', 1454: '고괄러서', 7553: '어옫', 10916: '캐럿', 9630: '젔습', 6338: '셨나', 1878: '귀하', 11676: '포스', 10678: '촉박하다', 4192: '만년', 1167: '거갓', 3027: '단언', 12259: '호핑', 2198: '깊이', 3986: '루스', 11981: '한없이', 5493: '부지', 9119: '자급자족', 11582: '퍼줘', 2306: '꼽자', 6767: '시민', 11685: '포장', 7271: '안젤리나', 10612: '체공', 7134: '아슬아슬하다', 8456: '위아래', 5296: '병선', 6196: '석고', 6160: '서랍', 1827: '굶다', 8985: '일간', 2988: '다짐', 6850: '신랑', 7834: '여하튼', 9921: '좋은엡', 5145: '버블', 894: '가챠라이프엡', 12186: '헤헿', 10967: '커튼', 421: 'ㅆㄹㄱ', 655: 'ㅗㅇㅎㅎㅇㅎㄱㅎ', 556: 'ㅎㅇㅎㅎ', 3627: '따윈', 12488: '흡혈귀', 5919: '사인', 5780: '빨대', 5736: '빙산', 3553: '듬뿍', 9731: '제로', 693: 'ㅜㅠㅠ', 5115: '뱅뱅', 1043: '개각', 4470: '명확하다', 7108: '아마도', 10660: '초심', 490: 'ㅋㄱㅋ', 1080: '개방', 4942: '반사', 10522: '채도', 2329: '꿀꺽', 11356: '튀다', 11402: '트려', 1659: '관전', 4330: '매직', 6639: '스크린', 9820: '조사', 7080: '아다리', 2995: '다크', 3850: '레게', 2075: '기막히다', 10488: '참으로', 5079: '배신', 7050: '씨땡존땡', 5174: '번땡망겜', 9152: '자미', 3656: '땡땡', 9347: '장파', 2598: '내비게이션', 5753: '빠져듭니', 4370: '머핀', 790: '가끔가다가', 1368: '견디다', 7746: '에스', 10881: '카리나', 8840: '이어폰', 8001: '오디오', 5418: '볼륨', 9667: '정상화', 11710: '폰제', 5509: '부팅', 6481: '수록', 9871: '존중', 5705: '비키니', 10094: '쥬만지', 8125: '옷버', 4536: '목요일', 8915: '익숙하다', 905: '가타', 1441: '계좌', 9649: '정립', 12376: '회덕', 3742: '라고요', 11181: '탈주', 6587: '슈정', 9733: '제목', 9694: '정정', 2845: '눌립니', 11091: '크롬', 7355: '애매하다', 925: '간단', 271: 'ㄱㄴㄱ', 498: 'ㅋㅂㄱ', 371: 'ㅂㄱㅂ', 6599: '스늣느', 359: 'ㄹㅎㄴㄷ', 2811: '누북', 1830: '굽늤능늣느', 316: 'ㄴㅅㄴㅅ', 406: 'ㅅㅂ', 5340: '보부', 5425: '봉느', 370: 'ㅂㄱ', 11102: '큰곱늡늡늡느', 373: 'ㅂㄴㅂ', 311: 'ㄴㄷㄱ', 5415: '본질', 5829: '뿜뿜', 5774: '빤짝', 8687: '이굉', 5914: '사이드', 2258: '깻는', 3135: '대도', 12112: '햄찌', 10009: '주차장', 2527: '날기', 3788: '라쿤', 1430: '계수', 172: 'shxx', 48: 'cus', 76: 'freakin', 136: 'luck', 8004: '오락가락', 8764: '이룡일', 5353: '보안', 8028: '오를슈록', 8383: '워낙', 7191: '아쿠아리움', 10986: '컴퓨턴가', 7459: '양탄자', 7986: '오거', 3737: '띵하다', 6247: '섭외', 4274: '말투', 3844: '런겜', 2036: '급속', 3047: '달구', 9160: '자살', 7291: '알레르기', 11697: '폭격', 5575: '불리다', 1098: '개열', 8430: '월동', 6454: '송뿡씨', 494: 'ㅋㄷㅋㄷ', 9736: '제밌내', 2157: '김민성', 6530: '수천', 7875: '연상', 10437: '차별상', 10485: '참석', 9642: '정답', 7408: '야말로', 1057: '개꿀젬임', 423: 'ㅆㅇㅈ', 10270: '진의', 5546: '분지', 4575: '무과', 2012: '금로', 8914: '익숙', 11924: '하해', 4589: '무더위', 11543: '팥빙수', 11871: '하드', 10391: '쭈쭈바', 6016: '상당', 4435: '멜로', 2100: '기업', 3343: '도처', 9601: '절절이', 4286: '맛보다', 9729: '제도', 3251: '덜다', 6449: '솔직', 11513: '판임', 6702: '슬때', 9541: '전반', 3927: '로라', 7380: '액수', 1785: '구이', 3102: '당시', 530: 'ㅋㅎㅋㅎ', 3345: '도킹', 8578: '으니', 3889: '렉리', 6841: '신기', 6890: '실만', 722: 'ㅠㅠㅜ', 7481: '어는', 3875: '레일', 9195: '자질구레하다', 2599: '내시', 2608: '내주', 6066: '새기다', 4319: '매달', 3264: '덮이다', 7861: '연꽃', 8852: '이요', 2363: '끈낌', 1190: '거르긴', 525: 'ㅋㅋㅠ', 8366: '욽때', 990: '갑갑하다', 7318: '암만', 11222: '터트려줘', 2613: '냅다', 12016: '함안', 8098: '올라서다', 9141: '자료', 3430: '동한', 4513: '모임', 9378: '재믾', 4829: '밌긴', 8346: '운발임', 4194: '만대', 2671: '네버', 2734: '노트북', 4906: '박준우', 10354: '짱짱맨', 9105: '있읐', 4914: '박한별', 908: '가해', 2933: '다른사람', 897: '가챠히트', 2062: '기니', 1606: '공조', 8136: '와아아', 6623: '스위치', 11865: '하늘색', 8069: '오지현', 9374: '재미잏', 8084: '오후', 7093: '아래쪽', 7491: '어두움', 923: '간니닌', 9898: '종은', 10951: '캬챠', 5067: '배꼽', 2981: '다잡다', 8710: '이대', 7383: '액체', 6286: '세균', 10124: '증식', 9727: '제대', 12327: '화형', 1516: '고인', 9416: '재한', 9713: '젛습니', 3848: '렁증', 3249: '던전', 10477: '참가', 7682: '업체', 7529: '어마나', 4190: '만날', 130: 'lele', 170: 'ruii', 41: 'ch', 222: 'yt', 149: 'okkk', 7168: '아이큐', 1395: '경보기', 6403: '소포', 7755: '에잇', 11611: '펜트하우스', 8202: '외모', 11759: '프나펑', 474: 'ㅈㅏㅣ', 1396: '경선', 8977: '인터페이스', 8746: '이래도', 8188: '외가', 11907: '하위', 5306: '보고서', 4184: '맊는', 4459: '명심', 1804: '국말이', 5580: '불문', 12223: '협력', 9917: '좋아욬', 2224: '깔앗드', 10720: '최초', 275: 'ㄱㄷㄱ', 8828: '이신가', 10610: '체계', 3494: '듀율', 707: 'ㅠㅋ', 3948: '로어', 9300: '장년', 8236: '요물', 11454: '티슈', 3885: '레프트', 1513: '고우리', 3883: '레트', 6173: '서안', 2796: '누구세요', 11228: '털다', 9955: '주더', 11433: '틀니', 10098: '쥴째', 1407: '경찰', 1956: '그저께', 11970: '한밤중', 1639: '과장', 4728: '미가', 5457: '부리고', 5452: '부러', 9535: '전만', 6973: '싱글벙글', 6818: '식구', 4623: '무은', 1055: '개꼴', 7413: '야박하다', 11814: '피드', 985: '감칠맛', 10247: '직장', 8938: '인들', 9841: '조이스틱', 9745: '제비', 418: 'ㅅㅌ', 5409: '본사', 10733: '추로', 8171: '왕실', 7221: '악인', 4429: '메추리', 12500: '희망고문', 7215: '악성', 4: '123', 11: '321', 10890: '카운트다운', 5542: '분잡', 4004: '르늣느븐구', 6382: '소심하다', 6379: '소시민', 2824: '눈뜨다', 182: 'speedor', 1040: '같이도', 338: 'ㄷㅆㄴㅉㅇㅅㅊ', 770: 'ㅣㅣㄴ', 8721: '이드', 12515: '힌들', 5950: '산다', 12180: '헤치다', 12222: '협동조합', 4579: '무궁무진', 3785: '라인', 6553: '순서대로', 165: 'rn', 9563: '전자기기', 3564: '등말', 9129: '자네', 2635: '너프', 4957: '반짝', 10479: '참내', 10403: '찍히다', 3847: '럴빠', 8230: '요렇게', 9339: '장전', 6432: '손맛', 2140: '긴장감', 1309: '게노', 535: 'ㅋㅣㅂㄷ', 9431: '잼밌쪄', 8960: '인용', 787: '가꾸어지다', 4066: '리해', 2662: '넝수', 10022: '준남', 7333: '앙하다', 3335: '도장', 3375: '돌기', 7591: '어쩌라고', 5007: '발휘', 9523: '전공', 11966: '한때', 922: '간낭', 8262: '요피', 6793: '시인', 8883: '이진희', 10438: '차별성', 2913: '다기', 889: '가짜', 6213: '선생', 10806: '취하', 8953: '인스타그램', 11525: '팔궆', 8472: '윗몸일으키기', 2097: '기어', 2837: '눈코', 4359: '머리띠', 6631: '스케', 5879: '사만', 5631: '브루', 4865: '바란', 8372: '움츠리다', 8276: '용기', 11789: '플래', 8357: '운지', 8049: '오오', 3893: '렐라', 11873: '하디', 5034: '방밥', 10672: '초집', 6934: '심력', 10987: '컵도', 1920: '그러데이션', 5375: '보케', 11383: '튜버', 12036: '핮니', 9140: '자로', 3228: '더럽히다', 487: 'ㅋㄱ', 2946: '다방면', 6854: '신분', 2951: '다세', 3808: '래요', 2448: '나시', 1198: '거만하다', 9522: '전곡', 10994: '케바케', 3149: '대면', 8696: '이기만', 1131: '개최', 11110: '클랜', 5847: '사귀다', 2237: '깝깝', 11848: '핑크색', 4506: '모양새', 11238: '테르', 3962: '론도', 2403: '나경', 5730: '빗다', 7334: '앞길', 9511: '적재적소', 3446: '되살리다', 11682: '포욷', 2421: '나라말', 700: 'ㅠㅁㅠ', 3488: '뒷모습', 896: '가챠른', 2079: '기미', 9900: '종이비행기', 7814: '여음', 9381: '재밌슴', 12257: '호완', 4526: '목격', 8224: '요다음', 8238: '요부', 9299: '장낝아님', 1323: '게슴츠레하다', 5692: '비웃다', 11198: '태우다', 8554: '유트', 8794: '이보', 5887: '사보다', 6198: '석상', 3760: '라마', 6707: '슬로모션', 11755: '풍선껌', 8714: '이도현', 4943: '반성', 4087: '마녀', 3006: '닥터', 314: 'ㄴㅁㄹ', 4121: '마샘', 6455: '송해', 6268: '성주', 5788: '빼곡', 510: 'ㅋㅋㅃㅃ', 11891: '하버드대', 1483: '고맙슘다', 5517: '분광기', 2616: '냉정하다', 6809: '시크릿가든', 11690: '포토', 2602: '내외', 7920: '염병', 12156: '헌신', 88: 'gd', 1895: '그깟', 10322: '징징대다', 8431: '월드', 10118: '증남', 2862: '느닷', 11577: '퍼잘', 11062: '쿨타임', 10569: '천여', 8043: '오시', 4294: '망고', 11969: '한반도', 12263: '혹평', 1221: '거이얺', 10510: '창해', 5487: '부적절하다', 1539: '고함', 184: 'spoureer', 6824: '식물원', 2972: '다이너마이트', 11668: '포동', 3471: '둘이서', 7646: '얼음판', 11825: '피우다', 12110: '햄버거', 2742: '녹음', 11518: '판타스틱', 5235: '베이비', 6175: '서어', 2628: '너무싢음', 1945: '그린', 2463: '나용', 7076: '아뇨', 10574: '천이백', 10318: '짓거릴', 395: 'ㅅㄱㅇ', 1961: '극단', 12003: '할랫더', 10911: '칼라', 10633: '쳣스', 11501: '파파', 12344: '환경설정', 855: '가시다', 4952: '반절', 5794: '빼앗다', 6168: '서번', 12260: '호한', 10107: '즐거이', 2547: '남녀', 6714: '습관', 4340: '맥스', 8561: '유형', 8115: '옴니아', 3872: '레이아웃', 6775: '시설', 8186: '왤다', 9073: '임의', 7161: '아이러니', 7331: '았징', 13: '555', 8515: '유연하다', 1452: '고고씽', 1179: '거대', 1479: '고리', 11854: '하고프다', 2853: '느그', 11396: '트레블', 10667: '초자연적', 11231: '텃밭', 7218: '악스', 10468: '찮아다', 6288: '세기', 5543: '분재', 1918: '그랴', 5146: '버섯', 4602: '무비', 8565: '육백', 12028: '핬는데', 6936: '심리전', 6140: '생활용품', 8067: '오줌', 12267: '혼란', 5258: '변동', 7606: '어처구니없다', 6902: '실시간', 3499: '드니', 5072: '배랑', 2829: '눈사람', 3215: '더군요', 5037: '방사', 11831: '피폭', 6000: '삼성', 290: 'ㄱㅊㄱㅊ', 2709: '노리다', 6742: '시늉', 8051: '오오오배', 7363: '애액', 5593: '불지', 7279: '안타', 11157: '타이머', 3431: '동해', 11456: '티톡', 8817: '이솽임돠', 11354: '퉁퉁', 11369: '튕기긴', 10744: '추점', 3312: '도바', 3976: '루디', 3314: '도발', 4631: '무잼', 8832: '이안', 251: 'ᅮᅲ', 566: 'ㅎㅎㅏ', 9251: '잘나다', 8890: '이케', 5685: '비어', 9849: '조준', 7044: '쓸리다', 2953: '다스', 1486: '고무', 6981: '싸매다', 6833: '신가', 11293: '토키', 7053: '씨보랄', 7987: '오구', 7448: '양상', 597: 'ㅑㅑ', 2493: '낚였다', 975: '감수', 8549: '유튜버입니', 10056: '중동', 12525: '힘트주는', 5403: '본격', 3468: '두운', 1288: '검열', 6709: '슬롯들', 6633: '스케일', 10224: '지출', 11883: '하루아침', 1629: '과로', 8926: '인공', 10607: '청춘', 2350: '꿈꾸다', 761: 'ㅢㅢㅡㅡㅣ', 760: 'ㅢㅡㅡㅣㄸ', 746: 'ㅡㅜㅜ', 662: 'ㅗㅡㅡㄷ', 9474: '저었기', 3639: '딸리다', 7304: '알아내다', 9290: '장갑', 11534: '팔지', 6627: '스카프', 6838: '신구', 7774: '엤어', 1315: '게로', 1669: '광고인', 5482: '부위', 5596: '불쾌감', 7464: '양해', 8197: '외다', 4110: '마릴', 3763: '라모', 1764: '구마로', 4078: '마가', 4496: '모모', 3930: '로마', 4567: '묏옹', 4737: '미끌미끌', 5386: '복도', 11929: '학교폭력', 2355: '꿑나', 258: 'ᅲᅲᅲ', 11523: '팔고', 3791: '락스', 247: 'ᅭᅭ', 7170: '아이템풀', 2256: '깨줌', 3775: '라이드', 10123: '증세', 7997: '오덕', 6875: '신통', 5052: '방통', 4346: '맴돎', 2352: '꿈일', 2499: '난관', 4897: '박살', 4237: '만큼도', 4147: '마인드', 3080: '담당자', 10368: '쪼개다', 2638: '넏는', 12524: '힘없다', 8647: '의당', 5563: '불공평하다', 8354: '운용', 3764: '라벨', 12135: '허다해', 11793: '플랫폼', 3856: '레베', 212: 'wls', 5885: '사물', 4702: '물음표', 1722: '교사', 1725: '교실', 4587: '무단', 10871: '침입', 7109: '아만다', 7049: '씌우다', 6319: '세팅될', 6863: '신용', 5101: '백수', 9259: '잘쓰다', 6729: '시가', 9817: '조모', 2078: '기모찌', 5118: '버거', 9471: '저서', 3096: '당근', 2129: '기특하다', 9991: '주원', 6217: '선영', 6312: '세준', 6521: '수임', 2552: '남발', 3809: '래햐', 2899: '닌던냥잰쟌', 3185: '대정', 3892: '렌즈', 3906: '려면', 11024: '코코', 8167: '왕관', 11903: '하염없이', 4478: '모니터링', 1237: '거짓', 7234: '안과', 9679: '정신과', 6410: '소화기', 2580: '내과', 6409: '소화', 9328: '장애', 11119: '클론', 7960: '예민하다', 10568: '천안', 10067: '중앙', 6478: '수련', 11651: '평창', 1543: '고흥', 8331: '우주', 2178: '김제', 2769: '농업', 5334: '보류', 6829: '식탁', 7292: '알려지다', 11379: '튕길', 11777: '프로즌', 6758: '시리다', 5084: '배율', 5926: '사주다', 11297: '토킹안젠', 6933: '심란하다', 482: 'ㅉㅐ', 4519: '모처럼', 11803: '플렉스', 9726: '제다이', 1030: '강탈', 9390: '재발', 9482: '저주받다', 11133: '키프', 8334: '우지', 6372: '소비자고발', 9625: '접수', 4698: '물속', 7923: '염장', 12396: '회하', 191: 'the', 4926: '반년', 11135: '킬로', 4782: '미제', 9547: '전생', 717: 'ㅠㅜㅜ', 12249: '호로도', 10111: '즐겨찾기', 5732: '빙고게임', 1510: '고요하다', 9540: '전문가', 5737: '빙의', 11565: '팬덤', 4258: '말다툼', 6393: '소재', 11909: '하의', 11237: '테러리스트', 1808: '국외', 12145: '허용', 8469: '윈도즈', 9873: '졸궈', 2851: '뉴스', 4339: '맥빠지다', 1073: '개망', 2297: '꼴리다', 11389: '트라우마', 12413: '후딱', 2123: '기종은', 10840: '치이다', 3266: '데님', 1310: '게놈', 5166: '번가', 11021: '코앞', 1979: '극혐임', 5745: '빠릿', 9341: '장정', 8130: '와냐하몀', 8691: '이근', 204: 'uumm', 1934: '그레이드', 7593: '어쩌면', 748: 'ㅡㅠ', 10144: '지끈', 11188: '탕진', 4242: '만큼이나', 2739: '녹색', 11470: '파란색', 1015: '강석희', 10192: '지식', 5997: '삼다', 4539: '목장', 3801: '래그', 8664: '의심스럽다', 3747: '라네', 10775: '출첵', 8446: '웬일', 10776: '출퇴근', 10721: '최최', 11926: '하향조절', 9590: '절뚝', 12449: '휴대전화', 7744: '에서의', 6071: '새록새록', 7929: '영강', 8336: '우튭', 8553: '유튭레', 1665: '괄호', 5358: '보우', 6074: '새마을', 8641: '응몬님', 12345: '환급', 2325: '꾸벅꾸벅', 8974: '인지력', 2700: '노드', 12094: '해협', 7609: '어택', 1386: '겹친', 8635: '읍거', 3891: '렉좀', 4636: '무조', 3085: '답답', 7912: '열의', 7512: '어럽었습니', 8591: '으면', 6171: '서서', 6469: '수나', 8293: '용하다', 8722: '이드를', 7251: '안도', 9808: '조기', 10432: '차로', 3490: '뒹굴뒹굴', 10658: '초비상', 361: 'ㅁㅁ', 3256: '덩굴', 5467: '부설', 7321: '암툰', 5767: '빡셉니', 6999: '쌥니', 11241: '테스', 7420: '야욕', 5594: '불참', 3145: '대리', 10469: '찮은데', 3339: '도제', 10955: '커닝', 206: 'vip', 99: 'google', 16: '76701632', 7: '2022', 3: '12', 5309: '보그', 3306: '도리', 3109: '당한', 9700: '정직하다', 6852: '신명', 12460: '흐르다', 979: '감옥', 8235: '요명', 3884: '레퍼토리', 2200: '까닥', 10625: '체형', 4481: '모델링', 3712: '뚱뚱하다', 8124: '옷맵시', 8114: '옴니버스', 6513: '수요', 4919: '밖에는', 3018: '단말기', 4693: '물르다', 1341: '게임중독', 11972: '한벜', 829: '가만', 1678: '광물', 1662: '관할', 12075: '해욥', 5195: '번트', 2895: '니콘', 11375: '튕기잖', 5924: '사정', 7340: '앞전', 1437: '계전', 6142: '샤랼랼', 5719: '빈약하다', 8677: '읙임', 8610: '은인', 549: 'ㅎㄹ', 8481: '유니콘', 8682: '이거지', 7578: '어째', 10695: '최곱니닼', 7831: '여타', 10786: '충만', 6457: '쇼저', 1465: '고동색', 8798: '이비', 8533: '유주', 9722: '제나', 7014: '쏠쏠', 12149: '허탈하다', 1825: '굴젬', 6943: '심신', 9774: '제출', 7449: '양식', 4542: '몬드', 4615: '무심', 2575: '낯설다', 11579: '퍼주더', 4846: '바깟는데', 6025: '상상력', 6176: '서여', 3559: '등교', 11856: '하굣길', 4644: '무진장', 11826: '피지', 11124: '클립', 10523: '채료', 10624: '체험판', 9075: '임자', 1998: '글세', 5574: '불루', 1558: '골랏', 475: 'ㅈㅐ', 6614: '스멀스멀', 2456: '나열', 12001: '한해', 1485: '고묘', 7308: '알아차리다', 8252: '요즈음', 5990: '삼가다', 3727: '띄어쓰기', 2005: '긁혔는데', 11612: '펫들', 4035: '리부', 5784: '빨림', 3878: '레전드', 10191: '지수함수', 6528: '수직', 7317: '앓다', 4042: '리아', 11187: '탑인', 1583: '공급', 4907: '박쥐', 5620: '붜뤄쥥', 4491: '모류곆쨰', 5622: '뷲씎생뀡', 11463: '파고', 5326: '보드게임', 7266: '안전', 3119: '대개', 7938: '영안', 122: 'jdhus', 8089: '온건', 9602: '절점', 2794: '뇝둡니', 305: 'ㄲㅋㄲㅋ', 3869: '레이디버드', 9922: '좋죠히힛', 10021: '죽지', 250: 'ᅮᅮᅲᅲᄏᄏᄏ', 11672: '포브스', 6223: '선정', 8882: '이진우', 4082: '마구마구', 7766: '엔진', 11134: '킬러', 3838: '러시아', 10497: '창남', 11025: '코트', 3137: '대들다', 4839: '밍밍', 7229: '악화', 8358: '울고불고', 569: 'ㅎㅔ', 6676: '스트로', 11650: '평정', 6091: '색인', 6735: '시계탑', 9857: '조항', 5122: '버근가', 12247: '호러', 6561: '순전', 1673: '광곸', 49: 'cute', 7965: '예상외', 2660: '넘침', 9853: '조커', 5213: '범위', 4263: '말리', 820: '가로서다', 1679: '광범위', 4951: '반전', 3292: '도니', 3554: '듬성듬성', 11802: '플레잉', 12253: '호불호', 9800: '조공', 1351: '겜플', 1850: '궈엽네용', 967: '감동', 9437: '잼잼쟁', 2080: '기반', 11935: '학습', 5060: '배경음', 10254: '진경', 2413: '나느늧늡', 2892: '니다', 769: 'ㅣㅣ', 8699: '이껨', 10537: '책점', 6694: '스프레이', 5004: '발처', 5006: '발해', 10238: '직거린', 8888: '이체', 11870: '하단', 11575: '퍼블', 7006: '썸넬', 6112: '생도', 3159: '대빵', 5123: '버네', 3118: '대강', 4562: '못생견네', 5572: '불량', 12305: '화분', 1400: '경이', 12254: '호선', 3199: '대하', 1550: '곧바로', 7437: '얇다', 3450: '되풀이', 6585: '슈듖', 159: 'pp', 9247: '잔재미', 6978: '싸가지', 1702: '괴담', 9790: '젬있음', 193: 'this', 117: 'is', 178: 'so', 25: 'amazing', 6606: '스럽지', 5155: '버추', 2624: '너무꿀르잼', 5179: '번앀', 2386: '끝장', 10532: '책상', 9791: '젭발젭발', 1164: '걔네', 2460: '나와욬', 4354: '먀너', 613: 'ㅓㅏ', 603: 'ㅓㅁ', 2822: '눈동자', 11728: '푸딩', 11189: '태그', 11860: '하나라', 11046: '쾌적', 4494: '모멘트', 11345: '투잡', 5243: '베트남', 2757: '놀이터', 1271: '건축물', 6390: '소의', 3407: '동물농장', 3373: '돋보이다', 821: '가로세로', 7657: '엄연하다', 6497: '수수료', 7468: '얘길', 9542: '전번', 1470: '고라', 4059: '리틀', 11665: '포니', 11896: '하수', 8833: '이애', 11270: '토도', 7414: '야발련', 2424: '나루', 8138: '와의', 5411: '본의', 8342: '욱했어', 2125: '기지', 7994: '오늘이', 2335: '꿀맛', 5578: '불만족', 11260: '템빨겜', 12523: '힘쓰다', 7915: '열차', 10128: '지각', 10950: '캬악퉤', 7455: '양지은', 4153: '마주', 2898: '닉넴', 12447: '휴가', 7021: '쓰개', 970: '감사용', 1426: '계석', 282: 'ㄱㅅ', 11507: '판단', 5679: '비속어', 4277: '말함', 6212: '선색', 5740: '빛삭', 4115: '마법사', 844: '가보', 738: 'ㅡㅌㅇ', 7610: '어탸', 606: 'ㅓㅇㅇㅓ', 9442: '쟈어어트', 11346: '투터', 3828: '러러러', 2657: '넘재밌쥬', 4531: '목말', 69: 'fhdyu', 9005: '일반도', 12512: '히트라', 269: 'ㄱㄱㅓ', 7830: '여캐', 11749: '품질', 7289: '알더', 3541: '들숙날숙', 7532: '어머', 12284: '홍홍', 7518: '어로', 8765: '이루', 11895: '하서', 11249: '테트리스', 4763: '미성년', 10763: '출근길', 2343: '꿀잼핵잼', 9436: '잼잼', 804: '가동', 9488: '저해', 9224: '작업복', 801: '가다듬다', 4310: '맞춤', 7133: '아슬아슬', 5341: '보삭', 570: 'ㅎㅡㅎ', 5173: '번드', 2615: '냉장고', 11095: '크리', 5194: '번치반', 2394: '끼포', 4320: '매달리다', 5390: '복수', 10686: '최강', 6310: '세이브', 2683: '녀석', 9194: '자질', 1316: '게만', 106: 'ha', 11053: '쿠리다', 11885: '하릴없다', 11842: '필요없다', 11106: '큰절', 11853: '하고야', 11125: '키도', 9773: '제천', 796: '가능도', 6970: '싯펄', 4419: '메이', 8854: '이용도', 3858: '레벤', 7677: '업보', 10957: '커뮤', 6799: '시점', 8532: '유제품', 9772: '제지', 5734: '빙볼', 5560: '불건전', 3237: '더테일', 9076: '임정', 2948: '다분하다', 7314: '알파', 2279: '꼬마', 3777: '라이벌', 265: 'ㄱㄱㄱ', 7947: '영통', 1862: '귀속', 6939: '심산', 1010: '강력하다', 8363: '울음', 1959: '그치다', 5291: '별쩜', 12015: '함부로', 4176: '막말', 11214: '터들', 7908: '열매', 7118: '아바', 1186: '거러', 10835: '치열하다', 313: 'ㄴㄷㄴㅌㅋㄷㄴㄷㄱ', 8: '22', 11714: '폴드입니', 93: 'gliches', 208: 'watted', 1379: '결함', 5985: '살찐', 1875: '귀욤귀욤해', 11139: '킹돔', 5647: '블리치', 1302: '겄민', 7353: '애도', 9509: '적자', 962: '감규리냠', 2670: '네미', 7139: '아심', 10269: '진위', 4868: '바람직하다', 12131: '허기', 6715: '습니', 8307: '우마', 4900: '박수만', 1657: '관성', 3176: '대의', 9351: '장함', 11886: '하마스', 2494: '낚였어', 5185: '번영', 4109: '마리오', 5624: '브라더스', 11811: '피노키오', 3990: '루이지', 3405: '동리', 6619: '스샷', 9213: '작도', 1089: '개석', 10387: '쫘증남', 6476: '수락', 6797: '시전', 2930: '다량', 1861: '귀사', 11688: '포춘', 6679: '스틱', 7374: '애플리케이션', 11315: '통보', 7611: '어텄', 1636: '과의', 12130: '향후', 4182: '막판', 5582: '불법', 10137: '지극히', 5483: '부인', 1913: '그래프', 12446: '휠씬', 988: '감흥', 9562: '전입', 8417: '원주고', 11947: '한구', 6628: '스캔', 9516: '적합', 4300: '망정', 8807: '이상인', 10575: '천장', 5148: '버셔', 3391: '돌파구', 8485: '유도로', 1005: '강곤', 312: 'ㄴㄷㄴㅅㄴㅅㄴㄷㅅㄴㅅㄴㅅ', 10681: '총기', 6396: '소지', 1284: '검문', 6482: '수류탄', 3162: '대상자', 518: 'ㅋㅋㅌ', 2348: '꿀쩸', 6287: '세금', 1013: '강매', 138: 'lv', 10: '30만', 10849: '친근하다', 9878: '졸리', 4622: '무용지물', 1499: '고스', 3076: '담기다', 9177: '자유로이', 12178: '헤임', 6637: '스퀵', 8408: '원인', 7632: '언짢다', 4332: '매출', 9179: '자율', 4944: '반송', 2543: '남겨지다', 1357: '겨를', 2534: '날림', 6072: '새롬', 9419: '재활', 9070: '임영웅', 11169: '탁칼', 7967: '예수님', 5497: '부처님', 7919: '염라대왕', 5962: '산호', 4779: '미용실', 8412: '원장', 1324: '게시', 2836: '눈치', 6638: '스크루', 8306: '우릴', 3278: '데체', 5300: '병약하다', 5299: '병약', 4784: '미처', 762: 'ㅢㅣ', 7358: '애쁜데', 7586: '어쩌고', 6666: '스토리텔링', 4439: '면도', 9443: '쟤밌', 3036: '단종', 2102: '기역', 1882: '규구', 6150: '섀퀴', 6004: '삼천', 2774: '농협카드', 5010: '밝키넹', 3887: '렉겜', 11216: '터뮤', 3030: '단자', 2180: '김준', 4217: '만으로도', 1124: '개쩌네', 508: 'ㅋㅋㄷㄷ', 12295: '화도', 7839: '여행지', 2959: '다야', 10426: '차려', 10183: '지문', 9028: '일어나지', 1201: '거미줄', 4660: '묶여서', 4467: '명절', 7138: '아시아', 7742: '에서만큼은', 9507: '적의', 7741: '에서만이', 4011: '리고동', 8179: '왜안', 1865: '귀여니', 3359: '독특하다', 7484: '어단', 1535: '고통스럽다', 11007: '켤레', 6443: '손절', 694: 'ㅜㅠㅡㅜ', 10956: '커마', 6388: '소유', 11493: '파장', 6339: '셨어', 10502: '창비', 11932: '학률좀', 11784: '프리티걸', 8626: '음성인식', 1605: '공정하다', 11552: '패배하다', 7047: '쓸쓸하다', 4732: '미국인', 9896: '종식', 3608: '딜레이', 11788: '프팝', 3967: '롤백', 34: 'bcz', 4576: '무과금러', 10168: '지동', 667: 'ㅛㅋㅋ', 319: 'ㄴㅈ', 12250: '호로로', 8050: '오오오', 2391: '끼어들다', 6089: '색선', 9515: '적지', 4805: '민아', 7343: '애교', 6759: '시리얼', 2185: '김태헌', 9346: '장터', 9313: '장바구니', 5936: '사탄', 10560: '척척', 12024: '합치', 6130: '생전', 4444: '면화', 3117: '대감', 4838: '밌읍니', 1748: '구더기', 11595: '펑팡', 10759: '축제', 3591: '디엠', 11893: '하산', 9342: '장조', 9407: '재직', 3790: '락됨', 12301: '화면비율', 5206: '벌이다', 8619: '을해', 9958: '주두', 8406: '원아', 9684: '정원사', 10350: '짱구', 5944: '사후', 9077: '임진', 1873: '귀욤', 8113: '옴눈', 11836: '필사', 7157: '아유', 3260: '덩치', 12166: '헣허', 10012: '주치', 9925: '좌절', 2722: '노옵', 10381: '쫄깃할', 800: '가다가', 79: 'gacacacacla', 1069: '개로', 11671: '포맷', 10725: '쵝악', 11532: '팔면', 9960: '주드', 11471: '파랑', 4177: '막무가내', 7934: '영상편집', 4885: '바이바이', 4098: '마땅하다', 9874: '졸귀', 318: 'ㄴㅇㅌㅇㅌ', 1727: '교장', 4016: '리나', 8988: '일괄', 11305: '토핑', 1410: '경치', 2177: '김용섭', 9172: '자운', 5058: '배겨', 439: 'ㅇㅇㅇㅜ', 1843: '궁금증', 6354: '소량', 11764: '프레', 10211: '지적', 3180: '대작', 2923: '다도', 2033: '급량', 8588: '으로의', 4877: '바바리', 12379: '회면', 8700: '이끌다', 5469: '부술', 10556: '처지', 10920: '캐릿', 10628: '첼린지', 7211: '악랄하다', 5686: '비열하다', 9671: '정선', 9452: '저급하다', 2844: '눌릴', 5419: '볼링', 10978: '컬랙티', 12387: '회신', 3059: '달려가다', 9304: '장도', 295: 'ㄱㅋㅋㄱㅋ', 1471: '고랑', 1556: '골드스타', 7090: '아따', 1047: '개개인', 9924: '좌우', 5210: '범벅', 8931: '인내', 11760: '프라이', 2471: '나이트', 11594: '펌킨', 9171: '자연히', 2161: '김보라', 5431: '봉제인형', 768: 'ㅣㅎ', 7056: '씨잘', 2060: '기념일', 8711: '이대로', 8510: '유승호', 6814: '시해', 706: 'ㅠㅊ', 11302: '토투러', 550: 'ㅎㄹㅎㅇㅎ', 646: 'ㅕㅕㅓㅜ', 205: 'uwu', 7784: '여권', 399: 'ㅅㄴㄷㅈㅅㅈㄷㅅㄴㅅㄷㅅ', 11683: '포유', 1313: '게똥', 6184: '서은', 11986: '한적', 3779: '라이어', 1277: '걸어가다', 946: '갈라지다', 6177: '서연', 12086: '해지니', 8038: '오븐', 5627: '브레이크', 784: '가껜', 7474: '어굴', 3493: '듀얼', 2397: '낑낑대다', 1064: '개돼지', 4403: '멍처', 10834: '치사하다', 4520: '모터', 6005: '삼촌', 6124: '생산량', 8737: '이라기보다는', 2362: '끈기', 8499: '유무', 8072: '오천', 11978: '한시', 3943: '로삥뽕', 1840: '궁그스', 5023: '밥버걸', 1689: '광축', 6052: '상품권', 6518: '수의', 3981: '루리웹', 11444: '틘틒킽', 2944: '다반사', 8387: '워용', 10990: '케로로', 10061: '중사', 1971: '극장판', 8364: '울트', 9570: '전진', 9439: '쟁이', 573: 'ㅏㄹㅎㅎㄷㅎㅇㅎ', 2255: '깨임', 4186: '만구', 6764: '시문', 5739: '빛나다', 5113: '뱃살', 1457: '고기', 3483: '뒤집어지다', 5584: '불시', 956: '갈아타다', 914: '각성', 3223: '더라', 4701: '물음', 1293: '겁내', 4917: '박히다', 3400: '동기부여', 4835: '밌어요브', 11160: '타이틀', 7430: '약정', 7328: '압수', 10163: '지당', 8581: '으로까지', 6337: '셧음좋겄', 1336: '게임기', 6326: '섹터', 8652: '의류', 3868: '레이드', 3304: '도루묵', 11568: '팽팽', 10657: '초봉', 5607: '불호', 4030: '리무', 6157: '서도', 7267: '안전하다', 6594: '스가있섯스', 6547: '숙제', 10024: '준서', 8799: '이비스', 7150: '아오', 5664: '비디오', 3786: '라임', 4817: '밀당', 11662: '폐허', 8335: '우체통', 1518: '고자', 4670: '문서', 2560: '남장', 9789: '젬있어', 2954: '다스리다', 1082: '개보', 7117: '아미', 4936: '반려동물', 7364: '애완', 11335: '퇴사', 5446: '부득이', 4797: '민감', 3233: '더블클릭', 9877: '졸렬하다', 2488: '낙하', 9121: '자기만족', 7176: '아인', 6821: '식도', 7444: '양말', 6504: '수압', 12470: '흐윽', 12458: '흐끅', 12469: '흐으윽', 12468: '흐으끅', 8526: '유일', 2487: '낙인', 3936: '로브군', 3123: '대광고', 12281: '홍조', 3172: '대원', 5381: '보행자', 12139: '허망', 12099: '핵꿀팁', 5241: '베타', 6976: '싱크', 39: 'by', 126: 'jung', 141: 'min', 10026: '줄거리', 2031: '급격하다', 8968: '인제', 7583: '어쨌건', 11830: '피파', 1236: '거진', 8871: '이정보', 7394: '앴날', 2120: '기절', 7085: '아두', 3284: '도고', 10954: '커녕', 5275: '별내', 2701: '노라고', 2506: '난립', 2976: '다이야', 5336: '보리', 10530: '채택', 2072: '기류', 6007: '상가', 4507: '모유', 11621: '편성', 5670: '비밀', 2553: '남성', 6261: '성용', 7235: '안구', 2614: '냉열', 5089: '배출', 12014: '함보', 11959: '한눈팔다', 11412: '트위터', 7349: '애니메', 5097: '배합', 11531: '팔리다', 3476: '뒤늦다', 3957: '로치', 749: 'ㅡㅠㅠ', 7891: '연패', 7776: '여가', 240: 'ᄏᄒᄏᄒ', 2313: '꽈리', 7822: '여제', 5269: '변호사', 8846: '이영우', 2640: '널리', 7323: '압구정', 4317: '매뉴얼', 1989: '근사하다', 11642: '평상시', 6716: '습득', 10349: '짱개', 1174: '거깜', 8176: '왜난', 8093: '온라인게임', 4415: '메리트', 8678: '이간', 7020: '쓔욱', 11717: '퐝퐝', 5654: '비극', 11551: '패배', 6275: '성해', 7768: '엘레', 9335: '장인', 8482: '유다', 3823: '랴려니까빡갬', 9798: '조경', 3041: '단판', 2747: '논현', 3538: '들러리', 3896: '렙이', 7390: '앱르', 10494: '찻았', 2111: '기원', 1433: '계심', 4668: '문법', 8317: '우씨', 2706: '노랫소리', 8218: '요구사항', 9881: '졸잼', 9244: '잔인함', 3750: '라니까', 3389: '돌이키다', 12363: '홨팅이', 7750: '에여', 4572: '무거워', 9506: '적응하다', 491: 'ㅋㄱㅋㄱㅋㅋ', 3961: '록시', 1215: '거에욤', 3320: '도안', 5629: '브로', 3773: '라이나', 596: 'ㅑㅋㅌㅌㅁㅁㅂㅁㅂㅂㅂ', 3253: '덜하다', 4266: '말썽', 12264: '혼나다', 8380: '웃프', 5815: '뿅뿅', 11956: '한나', 9485: '저하', 5271: '변환', 12097: '핵꿀겜', 6544: '숙련', 6114: '생동감', 392: 'ㅅㄱㅅ', 10617: '체인지', 4910: '박침', 6718: '습지', 12453: '휴먼', 6776: '시스', 4786: '미쳣듬', 7752: '에의', 5790: '빼꼼', 8078: '오프닝', 5795: '빼주', 4156: '마징', 11251: '텍스트', 9345: '장치', 2859: '느끼하다', 1226: '거저', 974: '감소', 10743: '추장', 3867: '레이', 9544: '전별', 3259: '덩이', 4965: '반항', 5335: '보름', 12503: '희한하다', 12495: '흩날리다', 12262: '호환', 6668: '스톨', 5051: '방탕', 9565: '전장', 533: 'ㅋㅎㅎㅋㅎㅋ', 1401: '경작', 12103: '핵심', 2016: '금비', 5913: '사이다', 5105: '백퍼', 11664: '포뇨', 326: 'ㄷㄱ', 283: 'ㄱㅅㄱ', 2153: '김광', 7605: '어처구니', 6840: '신규랴', 7332: '앙증맞다', 7145: '아악기', 10342: '짢아', 131: 'lg', 4738: '미끼', 3110: '당혹스럽다', 9481: '저주', 8994: '일람', 5249: '벨붕', 3585: '디벨럽', 10779: '출하', 8922: '인거', 2687: '년도', 7626: '언급', 11939: '한가득', 8031: '오만', 9962: '주륙', 9497: '적당량', 11347: '투툐', 6960: '심힙니', 2627: '너무도', 3539: '들르다', 910: '가혹하다', 11020: '코스프레', 4521: '모토', 1455: '고구마', 1833: '굿굿구숛', 5653: '비구', 3583: '디모', 2469: '나이스', 3327: '도우미', 10996: '케어', 6514: '수요일', 8404: '원숭이', 11081: '큐피드', 1101: '개운하다', 7588: '어쩌구쩌구', 10346: '짪았음', 3186: '대중교통', 7240: '안넝', 1258: '건립', 4861: '바득바득', 10457: '차피', 5511: '부합', 3605: '딘짜', 3701: '똥임', 6125: '생산품', 1562: '골짜기', 9287: '잡채', 2727: '노잉', 8018: '오렌지', 635: 'ㅔㅔㅔ', 10677: '초후', 10861: '친히', 5311: '보나', 8066: '오죽하다', 5637: '블랙아웃', 5189: '번임', 5906: '사우', 5304: '병행', 5576: '불리하다', 5871: '사례', 10872: '침침하다', 7998: '오도', 881: '가족게임', 5348: '보쇼', 8793: '이별', 1372: '결산', 1358: '겨속', 9912: '좋겄습니', 9494: '적능', 1829: '굼떠', 2351: '꿈속', 8867: '이재', 9749: '제시', 929: '간만', 2166: '김수연', 2165: '김수민', 8444: '웬만큼', 6721: '승률', 7568: '어정쩡하다', 7263: '안심', 5843: '사과글', 10292: '질겨', 6131: '생존', 2311: '꽂히다', 2246: '깨닭길', 5373: '보충', 3911: '렵네', 11975: '한수', 11927: '학과', 2831: '눈썰미', 6100: '생가', 1311: '게는', 12371: '황지원', 1154: '갸꿀잼', 5005: '발표', 2763: '농부', 11601: '페이도', 10748: '추첨', 5485: '부자연스럽다', 9096: '입하', 8121: '옶다', 10983: '컴백', 6596: '스네이크', 10903: '카펫', 3717: '뛰어다니다', 5178: '번식', 11450: '티마', 2939: '다면', 12033: '항성', 1137: '개통', 8640: '응대', 9676: '정식', 6467: '수긍', 1806: '국민', 12317: '화장지', 5462: '부부', 155: 'plsnt', 477: 'ㅉㄲ', 4581: '무기성', 3469: '둘러보다', 1251: '건너가다', 1707: '괴생명체', 6524: '수장', 567: 'ㅎㅎㅡ', 2894: '니요', 4394: '멈쳐져', 10288: '진향', 6465: '수고비', 2054: '기구', 8452: '위리', 1127: '개쪼렙', 5377: '보태', 12406: '효도', 6724: '승산', 3156: '대보다', 4808: '민족', 4256: '말기', 4974: '발광하다', 5892: '사생', 6048: '상쾌하다', 1206: '거스립니', 9024: '일쑤', 1338: '게임방', 10361: '쩌네', 7701: '엊그제', 5170: '번꼴', 9440: '쟁취', 992: '갑부', 11437: '틀림없다', 8633: '음표', 3945: '로션', 6701: '슬금슬금', 3549: '들이밀다', 8166: '왕개미', 12368: '황당', 12338: '확정', 7296: '알리', 285: 'ㄱㅅㄱㅈ', 1152: '갱신', 4180: '막연하다', 3857: '레베카', 4594: '무릎', 6621: '스와프', 5008: '밝기', 2477: '나췼는데', 10099: '쥼말', 5022: '밥됴둑', 6991: '쌀국수', 10663: '초월', 4686: '물감', 1831: '굽다', 1136: '개킹', 7808: '여요', 9348: '장판', 2519: '난하다', 3921: '로다', 3840: '러앙', 772: 'ㅣㅣㅣ', 8624: '음반', 12298: '화로', 7453: '양옆', 6549: '순간이동', 109: 'hhh', 4962: '반타작', 3625: '따블', 4905: '박제', 5298: '병아리', 8503: '유뷰트', 12410: '후규후규', 9936: '죙송', 3698: '똥똥', 7956: '예기', 6825: '식사', 3794: '람지', 9586: '절규', 4653: '무한대', 1306: '게걸', 1303: '겉보기', 10785: '충돌', 8429: '월급', 198: 'tsu', 225: 'zu', 4761: '미사', 4881: '바운스', 3196: '대판', 9415: '재탕하다', 12407: '효소', 1916: '그램', 134: 'love', 8025: '오르막', 12319: '화전', 10229: '지퍼', 8296: '우기다', 882: '가중', 5520: '분노조절', 9331: '장애자', 2719: '노약', 12219: '혈얍', 9403: '재작년', 9806: '조급', 10631: '쳐터첳텨탸', 6899: '실소', 4543: '몬스터', 515: 'ㅋㅋㅋㅎ', 1526: '고지', 2834: '눈앞', 11037: '콤비', 5133: '버물려', 6883: '실기', 2155: '김남일', 6441: '손자', 2168: '김수현', 6053: '상품숍', 1390: '경과', 5982: '살짝궁', 11409: '트림', 1962: '극대', 1319: '게색히', 11574: '퍼먹어', 5301: '병영', 6860: '신아', 6324: '섹시', 10845: '치질', 2991: '다차', 3759: '라리', 7425: '약도', 11127: '키로', 8192: '외관', 54: 'dd', 6630: '스커트', 8088: '온갖', 168: 'rrr', 11322: '통증', 10190: '지수', 3739: '라거', 9720: '제과점', 11164: '타자', 10420: '차근하다', 3752: '라다', 8572: '윤영', 1503: '고압', 9534: '전류', 5184: '번엽', 3177: '대인', 4970: '받아들이다', 2521: '난해하다', 5724: '빌드', 7177: '아일랜드', 1496: '고소', 1616: '공포증', 8511: '유시', 5857: '사다리', 1523: '고정관념', 5930: '사진첩', 7845: '역량', 3935: '로봇청소기', 2088: '기사', 10011: '주체', 9734: '제민', 7324: '압깝', 3624: '따분함', 6192: '서하', 12215: '현찰', 6506: '수억', 5920: '사임', 572: 'ㅏㄹ', 397: 'ㅅㄴ', 9358: '재난', 9252: '잘되지', 4116: '마블', 1083: '개봉', 8559: '유현준', 4989: '발목', 7804: '여실히', 7713: '에나', 4120: '마상', 8596: '으어', 5433: '뵬울', 3636: '딴판', 3977: '루딩', 6279: '성형수술', 1826: '굵다', 10959: '커밍', 6689: '스펙', 7325: '압니', 10379: '쫀득쫀득', 1902: '그녀', 2679: '네티즌', 2222: '깔아봤늠데', 5407: '본론', 5776: '빨강', 6298: '세민', 11172: '탄광', 9569: '전제', 4538: '목욕탕', 4704: '물이', 1191: '거르되', 419: 'ㅅㅎ', 9938: '죠코인', 7633: '얹다', 11812: '피니시', 5559: '불가하다', 3449: '되찾다', 4273: '말짱하다', 10879: '카드게임', 3480: '뒤젔', 9788: '젬있다', 5587: '불안', 8597: '으으', 7608: '어탕', 11720: '표임', 4788: '미칭', 7391: '앱삭', 10941: '캠코더', 186: 'stars', 4872: '바로잡다', 2245: '깨달음', 10508: '창조경제', 5550: '분해', 9338: '장장', 473: 'ㅈㅈㅣ', 9183: '자임', 32: 'ayy', 1387: '경개', 6206: '선도', 8234: '요망', 6889: '실리다', 10481: '참담하다', 11564: '팩폭', 1699: '괞잖고재미었어', 512: 'ㅋㅋㅋㄱ', 11869: '하다못해', 10214: '지정은', 4650: '무턱', 3122: '대고', 5965: '살길', 6670: '스톱모션', 2489: '낙하산', 11967: '한마음', 1547: '곡식', 7466: '얕다', 6491: '수법', 11845: '필히', 1192: '거르시길', 7684: '없셍주시', 6725: '승승장구', 4398: '멈칫', 9981: '주식', 6050: '상투', 1279: '걸음', 1273: '걷다', 6259: '성분', 2117: '기재', 9394: '재살', 8299: '우드', 360: 'ㄹㅔ', 12214: '현짗', 8187: '왰쳤다', 3915: '로건', 2500: '난국', 8091: '온도', 1517: '고잉', 10328: '짜릿', 449: 'ㅇㅈㅇㅈ', 4608: '무셔잉', 5015: '밤사이', 5224: '벗입', 8312: '우수', 6496: '수수', 11196: '태스킹', 1617: '공함', 11309: '톰앤프랜', 1046: '개개', 2330: '꿀꿀', 6693: '스폰', 10311: '집수', 9600: '절음', 5824: '뿌요', 11750: '풍경', 7028: '쓰레', 8632: '음청', 12002: '할듲', 6166: '서민', 4010: '리거', 5164: '벅스', 2762: '농무', 12020: '합산', 6591: '슈퍼마켓', 10268: '진열', 3166: '대여', 7771: '엘지', 4298: '망설잉니', 6938: '심사숙고', 983: '감지', 7140: '아싸', 5000: '발자국', 6922: '싥밝', 10632: '쳙낡오', 7059: '씱밠', 4404: '멍청이', 59: 'djabfuwv', 118: 'isbd', 219: 'you', 112: 'idbwi', 173: 'sidga', 2115: '기일', 8529: '유입', 7686: '없썻', 11613: '펫분', 5045: '방임', 1301: '것쫌', 8594: '으아', 9974: '주변인', 10053: '중도', 10538: '책정', 8775: '이마이', 11452: '티비', 7066: '아가서', 2965: '다우', 230: 'ᄅᄋᄌ', 11284: '토실', 1419: '계기', 2395: '끽해야', 5508: '부트', 5329: '보라돌이', 3344: '도크', 8748: '이래저래', 10384: '쫌아쉅', 2094: '기습', 523: 'ㅋㅋㅏ', 3524: '드사', 7305: '알아듣다', 6748: '시들다', 8928: '인과응보', 7679: '업자', 5002: '발진', 3098: '당당', 7105: '아리', 9737: '제밌습니', 2691: '녕히', 7007: '쎄다', 4613: '무식하다', 6012: '상근', 2767: '농산물', 4925: '반납', 1728: '교차', 6636: '스코어', 6965: '십중팔구', 6519: '수이', 5643: '블루', 6657: '스택', 2137: '긴급', 10100: '즇늏', 7446: '양보', 11618: '편리', 11278: '토머', 2896: '니트', 12063: '해뵬', 4799: '민네', 674: 'ㅛㅣ', 4022: '리듬', 11071: '퀄애', 4904: '박재근', 5368: '보정', 4834: '밌어', 12459: '흐려지다', 8615: '은행', 9937: '죠스', 9115: '자곡', 8958: '인어공주', 1084: '개비', 6737: '시급', 9932: '죄송', 4681: '문하', 6067: '새까맣다', 7135: '아싑다', 11298: '토킹톰', 9635: '정교하다', 8728: '이따금', 12065: '해상도', 3216: '더기', 6413: '속담', 4847: '바깥', 957: '갈퀴', 12370: '황재원', 9063: '임박', 9079: '임태경', 4532: '목사', 396: 'ㅅㄱㅎㄱ', 5998: '삼만', 4909: '박진', 5868: '사량', 6489: '수박', 227: 'ᄁᄏᄏ', 8809: '이상하', 8191: '외계인', 2639: '널다', 680: 'ㅜㅅㅜ', 8519: '유우', 3657: '땡큐', 6535: '수풀', 7650: '얽히다', 10418: '차곡하다', 4318: '매다', 12277: '홈스', 8935: '인대', 7542: '어사', 5602: '불평등하다', 4174: '막대기', 7018: '쑤시다', 9191: '자주자주', 10166: '지도자', 6542: '수확량', 7400: '야구', 11686: '포저', 752: 'ㅡㅡㄹ', 2154: '김남윤', 2316: '꾸르으으재에에', 7749: '에에엠', 8208: '외할머니', 3816: '램덤', 11859: '하나고', 6147: '샹놎잼장캐겜싀', 7423: '야호', 1706: '괴상하다', 5731: '빗자루', 1729: '교차로', 5976: '살아가다', 759: 'ㅢㄱ', 6065: '샇지', 6064: '샇으세', 778: '가금', 8076: '오토', 4337: '매틱', 9256: '잘모릊', 824: '가름', 5227: '베꼇', 7581: '어쨌', 7922: '염옷', 8227: '요딴', 4099: '마려', 9675: '정수정', 5255: '벽지', 11175: '탄생', 2621: '너그럽다', 3902: '려니', 10507: '창임', 10206: '지음', 656: 'ㅗㅋ', 9072: '임은재', 10253: '직후', 9659: '정밀', 5414: '본전', 1791: '구출', 1463: '고대로', 8095: '온몸', 2612: '냄비', 5180: '번안', 5518: '분기', 11156: '타이니팜', 11067: '쿼터', 3326: '도우', 11117: '클로버', 11747: '품앗이', 12355: '활발하다', 5877: '사림', 2017: '금새', 1538: '고학년', 3817: '램프', 794: '가난하다', 10367: '쩨쩨하', 6570: '술술', 2587: '내려놓다', 5948: '삭젱', 10333: '짜장', 3495: '드가', 6152: '서기', 5830: '뿜애', 10101: '즇아', 2453: '나안', 3621: '따른', 10233: '지해', 8876: '이종도', 1062: '개대', 1981: '극히', 9013: '일부인', 1972: '극찬', 3709: '뚦려있는', 9959: '주둥이', 2439: '나불대다', 3579: '디다', 10398: '찌찌', 826: '가리비', 9221: '작성자', 5363: '보이즈', 11791: '플래닛', 7880: '연습생', 7102: '아름다워지다', 3101: '당사자', 6397: '소지품', 8228: '요란하다', 8669: '의의', 6335: '셔플', 9393: '재산', 4617: '무어', 11913: '하주', 11018: '코스터', 11094: '크루즈', 8180: '왜업글', 8681: '이거', 2337: '꿀벌', 1625: '과꽃', 8718: '이동영', 6035: '상애', 2535: '날밥', 5549: '분할', 5040: '방송탑', 294: 'ㄱㅋㄱㄱ', 6389: '소율', 7354: '애매', 505: 'ㅋㅋㄱㅋㄱㄱ', 5100: '백배', 10565: '천배', 457: 'ㅇㅢ', 6056: '상한', 3793: '란녕', 11735: '푹빠', 5151: '버시려', 2910: '다고요', 9709: '정확', 2713: '노무', 1993: '글귀', 1849: '궈염', 7005: '썰다', 10683: '총아', 3728: '띄엄띄엄', 5716: '빈민', 12274: '홀언희', 4646: '무차벅', 10745: '추정', 7114: '아무르', 8917: '익킴', 1194: '거른다', 8489: '유량', 2680: '넥걸림', 10037: '줄줄', 7479: '어느덧다', 7217: '악순환', 3899: '렙입니', 239: 'ᄏᄒ', 9490: '적격', 5524: '분둘움', 12061: '해봔는데', 5065: '배그', 7639: '얼땡', 9385: '재밓', 5558: '불가피', 7762: '엑스트라', 11035: '콜라보', 6728: '승해', 2629: '너무쟀밌다', 5003: '발짝', 7407: '야마', 11955: '한기주', 12485: '흡사', 6896: '실상', 9951: '주년', 984: '감초', 2269: '껍질', 3982: '루미큐브', 10515: '찾아내다', 7310: '알음', 8340: '욱기', 6343: '소고기', 10818: '치가', 3672: '떨리다', 6864: '신용카드', 831: '가만있다', 10669: '초정', 3331: '도인', 7440: '얍삽하', 1690: '광툭', 1638: '과자', 10174: '지루', 2969: '다음가다', 11892: '하비', 10452: '차임', 4814: '밀가루', 4955: '반죽', 5432: '봉투', 7461: '양파', 1318: '게뭡', 870: '가인', 9658: '정민', 10433: '차류', 4568: '묘묘', 3933: '로보쳇', 6026: '상세', 8059: '오자', 9887: '좀취', 6236: '설비', 10926: '캐충', 3839: '러신', 194: 'tik', 196: 'tok', 10412: '찢다', 8618: '을지', 5689: '비우기', 3971: '롭습니', 9802: '조그마하다', 1214: '거었', 6242: '섬네일', 2646: '넘겨보다', 7419: '야외', 11246: '테크', 6509: '수염', 1196: '거마', 2408: '나노', 5441: '부단하다', 18: '88', 10929: '캔들', 6148: '섀도', 1193: '거르시나', 574: 'ㅏㅇㅇㅇㅏㅏ', 438: 'ㅇㅇㅇㅏㅏ', 7146: '아앙', 577: 'ㅏㅇㅇㅏㅏㅏ', 444: 'ㅇㅇㅏㅏㅇㅇㅏ', 576: 'ㅏㅇㅇㅏㅏ', 9553: '전신', 443: 'ㅇㅇㅏㅏ', 580: 'ㅏㅏㅇㅇㅏ', 4975: '발끝', 1002: '갓난', 6822: '식량', 2070: '기둥', 11679: '포어', 612: 'ㅓㅎㄹㅎㄷ', 10357: '째밋노', 754: 'ㅡㅡㅋㅋ', 873: '가작', 10855: '친선경기', 6327: '센스', 751: 'ㅡㅡㄱㄱㅣ', 771: 'ㅣㅣㅅㅅㅣ', 6974: '싱싱싱', 5889: '사사사', 3798: '랑랑', 12093: '해햍', 7196: '아톰', 11622: '편식', 5044: '방이', 2887: '늦둥이', 11468: '파라과이', 8573: '윤인데', 267: 'ㄱㄱㅇㅋ', 2358: '뀰젬', 7315: '알파벳', 10933: '캔슬', 12100: '핵노젬', 7636: '얼결', 5521: '분노하다', 5667: '비료', 1208: '거시', 2685: '년가챠', 12367: '황다해', 10295: '질라', 10552: '처신', 9869: '존잼존잼', 8501: '유미', 10601: '청년', 6652: '스타크래프트', 5094: '배틀넷', 4031: '리무버', 2712: '노모', 10898: '카테고리', 9173: '자원', 5075: '배부르다', 5738: '빚진', 11049: '쿠땡', 9712: '젖소', 108: 'hehe', 11129: '키시', 1071: '개마늠', 37: 'bts', 31: 'army', 7148: '아영', 3741: '라고는', 3615: '따라다니다', 4260: '말랑하다', 1688: '광추', 1687: '광주', 1841: '궁극', 8486: '유도인', 11514: '판자', 2003: '글판', 10662: '초야', 5014: '밤낮없이', 3780: '라이츠', 2059: '기념', 4648: '무책임하다', 10501: '창밖', 1733: '교활하다', 4088: '마누', 7760: '엑설런트', 6191: '서프라이즈', 10541: '챔피언', 11267: '토너', 11245: '테츠', 3239: '더하기', 5789: '빼기', 6967: '십초', 9201: '자킬', 6673: '스트', 9253: '잘리다', 12168: '헤드폰', 412: 'ㅅㅇㅅㄴㅅㄷㄴㅅ', 82: 'gae', 144: 'no', 121: 'jaemim', 7256: '안방', 9337: '장일', 5434: '부가', 1501: '고스트', 266: 'ㄱㄱㅅㄱㄱㄱㅑ', 321: 'ㄴㅌ', 607: 'ㅓㅊ', 652: 'ㅗㄹㄹ', 590: 'ㅐㅗ', 416: 'ㅅㅊ', 664: 'ㅛㄱㄹ', 592: 'ㅑㄱ', 354: 'ㄹㅊ', 665: 'ㅛㄱㅊ', 2996: '다투다', 6220: '선임', 292: 'ㄱㅊㄹㅊㅎ', 9606: '절호', 1747: '구닥다', 1604: '공정', 10373: '쪼끄', 1053: '개극혐', 320: 'ㄴㅊ', 712: 'ㅠㅑㅠㅊ', 658: 'ㅗㅑ', 3213: '댤듈', 9124: '자꾸나', 11113: '클레', 10953: '캬캬캬', 3697: '똥눌', 10325: '짙어지다', 10605: '청약', 10591: '철회', 7329: '압승', 8048: '오예', 476: 'ㅈㅕ', 306: 'ㄲㅏㅊㅣ', 2698: '노답', 12165: '헝산', 6932: '심듬', 5988: '살피', 2324: '꾸벅', 3211: '댔딩', 1168: '거강', 10424: '차도', 2196: '깉애', 4930: '반도', 2336: '꿀밤', 5945: '삭감', 243: 'ᅥᅥᅢ', 634: 'ㅔㅔ', 8898: '이풍', 11474: '파리', 11562: '팩토리', 8773: '이리저리', 7272: '안존', 8860: '이은하', 4978: '발도', 1219: '거워', 7883: '연어', 9001: '일리', 5801: '뻐용', 6747: '시동', 5410: '본색', 3511: '드러내다', 12157: '헌재', 7023: '쓰는덴', 8980: '인티', 5088: '배짱', 6169: '서브', 365: 'ㅁㅁㅝ', 11827: '피처', 4982: '발라', 2927: '다라', 1836: '굿바이', 2530: '날뛰다', 5163: '벅벅', 4680: '문젭니', 6678: '스티컨데', 3070: '달차', 6851: '신뢰', 2190: '김호진', 3274: '데이지', 12385: '회생', 2181: '김준수', 11572: '퍼뜨리', 4049: '리젠', 1355: '겨늘', 8651: '의료', 9839: '조이', 1011: '강렬하다', 11563: '팩트', 2688: '년생', 11628: '편중', 8215: '요괴', 7281: '안항', 8017: '오레', 1799: '구형', 9531: '전라고', 9130: '자녀', 7779: '여건', 4745: '미당', 10981: '컬뤼티', 10688: '최겜', 10993: '케미', 9380: '재밌땨', 5931: '사천성', 2846: '눌었는데', 2298: '꼴젬', 6280: '섵정', 1469: '고딩', 528: 'ㅋㅌ', 8575: '윤택', 2192: '깁다', 5320: '보다훨신제밋음', 195: 'tj', 12: '3563', 9100: '잆음', 3021: '단색', 2669: '네모', 12381: '회복하다', 11635: '펼치다', 5262: '변상', 5280: '별롭니', 10394: '쯃낿', 2542: '낣욞', 1672: '광곩', 9872: '졶낞', 2524: '낞옪넪', 11230: '턹짉많', 12012: '핡멶', 2525: '낞옮', 7060: '씲빪', 9908: '좇갉읂걿', 12013: '핡짉맗셇욟', 7415: '야생', 7890: '연출', 6349: '소담', 8178: '왜색', 10324: '짙다', 2677: '네코', 2830: '눈살', 10399: '찌푸리다', 5882: '사무라이', 7673: '업뎃전', 1241: '거치', 8653: '의리', 9352: '장해', 11310: '톰이', 1649: '관두', 3455: '두기', 6097: '샘솟다', 545: 'ㅍㅎㅎ', 6537: '수하', 3718: '뜌김님', 9714: '젛아', 7884: '연예인', 883: '가즈', 3736: '띵작', 2274: '껨응', 8071: '오징어', 11504: '판결', 2109: '기울다', 9686: '정은', 1356: '겨루다', 8725: '이든지', 12101: '핵똥', 9283: '잡아가다', 5129: '버려진', 1110: '개임됴', 445: 'ㅇㅇㅓ', 7025: '쓰다듬다', 12187: '헥헥거리', 11337: '투각', 8726: '이따', 1746: '구니', 8399: '원만하다', 3537: '들락날락', 9822: '조색', 9292: '장금', 6985: '싸이다', 9021: '일수록', 9778: '제풀이', 5865: '사랑받다', 8094: '온라인과', 4131: '마염', 8379: '웃음소리', 1249: '건곤', 968: '감리', 9212: '작대기', 4827: '밋엇', 1126: '개쩜', 6762: '시몽', 11083: '크겤', 9333: '장원', 3385: '돌아보다', 5840: '사고팔다', 5635: '블랙', 9110: '잏믕', 12029: '항공', 10245: '직원', 11580: '퍼줄', 6058: '상항', 6711: '슬쩍', 4163: '마켓', 288: 'ㄱㅈ', 1220: '거유', 6218: '선율', 11047: '쾌적하다', 3298: '도돌이표', 6730: '시간관리', 11227: '턴오버', 4549: '몰리다', 4453: '명료하다', 10789: '충성', 8981: '인하', 5592: '불이익', 4272: '말짱', 9284: '잡아넣다', 8287: '용용', 10136: '지그재그', 425: 'ㅇㄴㅋㅋ', 11698: '폭락', 503: 'ㅋㅋㄱㄱㄹㅇ', 415: 'ㅅㅈㅈㅁㅎㄴㄷㅉㅅㅇㅂㄱ', 767: 'ㅣㅍㅂ', 389: 'ㅃㅌㅈ', 10028: '줄기', 10309: '집들이', 11906: '하우', 3181: '대장', 8157: '완저제밌어', 1680: '광범위하다', 2773: '농촌', 5176: '번복', 6554: '순서도', 9137: '자라나다', 4464: '명일', 4445: '멵좋겄', 8525: '유인', 10753: '추핵', 9633: '정가', 3707: '뚠뚠뚠', 10216: '지증', 11244: '테이블', 6867: '신임', 7160: '아이라인', 11116: '클렌징', 9146: '자릿수', 806: '가두다', 7704: '에가', 3272: '데요', 11538: '팝류', 4990: '발버둥', 9116: '자괴', 5489: '부정행위', 9717: '제겐', 2880: '늡니', 8802: '이뿌다', 4454: '명목', 8367: '욿어', 2532: '날름', 169: 'rtr', 9537: '전망대', 8333: '우주인', 7541: '어분', 3265: '덯게해', 12226: '협소', 3069: '달인', 8189: '외게', 8190: '외계', 3330: '도웅', 9080: '임틳톡', 1158: '갸쟈', 12256: '호수', 5247: '벤치', 22: 'acc', 3664: '떠버리', 586: 'ㅐㅋ', 2562: '남쿠', 730: 'ㅡㅁ', 4811: '민트', 12374: '횃수', 1155: '갸쑬잼', 8416: '원주', 8400: '원말', 7914: '열중', 6959: '심호흡', 10969: '커플룩', 7273: '안좋다', 6870: '신중하다', 10435: '차마', 1704: '괴롭다', 3527: '드웨', 9865: '존슨', 4158: '마초', 11560: '패트', 4336: '매트', 11520: '판판이', 9493: '적기', 10546: '처가', 10553: '처우', 2513: '난이', 3333: '도입', 388: 'ㅃㅊ', 8165: '완화', 1297: '것땜시', 4053: '리카타', 10419: '차근차근', 9653: '정면', 8126: '옷소매', 4306: '맞은편', 495: 'ㅋㄷㅋㄹㅅ', 5427: '봉사활동', 5874: '사르다', 11732: '푸시', 1944: '그리스', 8823: '이슬', 8837: '이양', 404: 'ㅅㄹㅅㄱㄷㅅㄴㅎㄷ', 9309: '장모님', 2504: '난로', 3999: '룰루', 5324: '보도', 23: 'acca', 4800: '민들레', 4299: '망원경', 6143: '샤브', 3882: '레토', 2310: '꽂다', 6680: '스틱맨', 2839: '눌렀늣데', 9095: '입출금', 2328: '꾸중', 2103: '기염', 4629: '무장', 8350: '운석', 6436: '손보', 10912: '칼캐', 98: 'goog', 11276: '토마', 9968: '주목', 1362: '격려', 7719: '에드', 4662: '묶이다', 5986: '살펴보다', 3988: '루오', 9279: '잡념', 352: 'ㄹㅇㅋㅋ', 5539: '분의', 4651: '무하', 12349: '환색', 9662: '정부', 1847: '궈여워욤', 11118: '클로이', 5844: '사과나무', 7121: '아베베', 11481: '파스텔', 8909: '이화', 4107: '마르지', 7978: '예측', 2152: '긹로', 3103: '당싥', 6096: '샎맹', 9099: '잆니깞', 6964: '십자로', 7264: '안쓰럽다', 4487: '모래', 4769: '미술관', 10817: '층진', 2174: '김영웅', 323: 'ㄴㅍ', 608: 'ㅓㅋㄷ', 3232: '더블에이', 7664: '업계', 5281: '별명', 11974: '한서', 4931: '반들반들하다', 5413: '본적', 3692: '똘망', 1296: '것등', 8630: '음원', 9081: '임흙', 6525: '수저', 9399: '재애', 9769: '제제', 9767: '제재', 2885: '능사', 8311: '우상', 8821: '이스터', 11167: '타파', 7792: '여드름', 8979: '인트', 10082: '중학', 3417: '동양인', 7442: '양궁', 3081: '담장', 2989: '다집', 1927: '그럴듯하다', 11146: '타국', 11763: '프랑스어', 11342: '투우', 8887: '이참', 8221: '요기', 6952: '심즈', 7153: '아우디', 5749: '빠잉', 100: 'gooke', 4731: '미국어', 2754: '놀림', 6008: '상과', 9066: '임슴효', 2740: '녹수', 8047: '오어', 10693: '최곤', 9322: '장시', 10805: '취적', 10904: '카피', 1417: '곃료', 583: 'ㅏㅛ', 10564: '천막', 8291: '용지', 5676: '비빔밥', 400: 'ㅅㄷ', 9101: '잇닌미', 9217: '작별', 8986: '일과', 293: 'ㄱㅊㅇ', 4447: '몃칠', 3731: '띠기', 2259: '깽깽', 5853: '사냥', 6651: '스타카토', 2261: '꺄오', 8872: '이정욱', 1333: '게이트', 2163: '김선혜', 7625: '얶까', 10908: '칸예', 3964: '롤러', 1068: '개똥이', 5285: '별세', 7563: '어인', 9417: '재해', 4971: '받치다', 11674: '포상', 8582: '으로나', 2697: '노니', 10459: '착실하다', 2240: '깨끗하다', 4033: '리베로', 2497: '난간', 8423: '원한', 6645: '스킾', 11051: '쿠르', 7032: '쓰리다', 7247: '안닊', 7640: '얼렭웕욧', 1969: '극일', 6534: '수트렘슥', 2869: '늒힘', 4566: '뫄짂', 10383: '쫄리', 1478: '고를레', 8085: '옥상정원', 6364: '소무', 11587: '퍼트', 6291: '세도', 4054: '리코', 7195: '아테', 10085: '줕간', 1435: '계이', 1784: '구울', 10698: '최단', 8996: '일레븐', 995: '갑자', 4449: '명과', 6617: '스미다', 10483: '참말', 9438: '쟁시있네', 548: 'ㅎㄷㅅㄷㄱㅍ', 7079: '아니잟아', 4969: '받듨수', 9104: '있슭까', 7382: '액정', 10516: '찾아다니다', 4995: '발아', 2364: '끈적끈적하다', 5362: '보이시', 11472: '파랗다', 12233: '형편', 1114: '개조', 7747: '에야', 12268: '혼종', 5565: '불과하다', 3217: '더김', 1142: '개혼', 8676: '의향', 12261: '호호', 1405: '경쟁자', 2295: '꼴등일', 1349: '겜쟈', 10078: '중점', 7958: '예닐곱', 11716: '퐁퐁', 10058: '중만', 2550: '남동생', 9241: '잔인', 1102: '개원', 9909: '좇다', 277: 'ㄱㄷㄱㅈㄱ', 3603: '디티', 11475: '파먹다', 1542: '고화질', 5130: '버력', 2545: '남구', 5536: '분식', 10305: '짐작', 64: 'erk', 14: '590', 4349: '맹렬하다', 3659: '떠가다', 4752: '미로', 2400: '나가시', 3252: '덜덜', 8569: '윤기섭', 10410: '찡찡대다', 11076: '퀼톨', 3589: '디스플레이', 7101: '아르바이트', 6876: '신하', 1525: '고증', 10446: '차음', 7265: '안이', 2029: '금티', 4771: '미스터리', 3835: '러스터', 3886: '렉거림', 12280: '홍윤성', 5668: '비루하다', 3477: '뒤론', 2406: '나날', 10511: '창호', 9546: '전복', 9446: '저걸', 7629: '언사', 5245: '베티', 342: 'ㄷㅔ', 12440: '훨씬잼밌땨', 7678: '업슴', 4169: '마피아', 3220: '더데', 8108: '올트', 11168: '탁자', 959: '감각', 26: 'android', 11752: '풍도', 5640: '블럭', 2272: '께서는', 12209: '현장', 8861: '이의', 5078: '배수', 3825: '러더', 8107: '올인', 5757: '빡겜러', 10014: '주하', 8913: '익서스', 9920: '좋았슬거', 4643: '무진', 4094: '마데', 10259: '진미', 5478: '부업', 4599: '무배', 10050: '중국음식', 11979: '한식', 10654: '초밥', 10065: '중식', 6656: '스태프', 9539: '전무하다', 6663: '스텝', 11529: '팔레트', 2091: '기수', 480: 'ㅉㅉㄸㄲㄲㄲㅆㄷㅈ', 11828: '피취', 2818: '누트', 2817: '누카', 8613: '은하', 9363: '재단', 8349: '운빨똥망겜', 9617: '점질', 4588: '무대', 8552: '유튭각', 6805: '시청자', 10369: '쪼그마', 1643: '과학', 5345: '보상금', 3566: '등분', 5076: '배분', 3813: '랜섬', 8442: '웨어', 4351: '맹인', 6444: '손질', 5722: '빈틈', 5276: '별다르다', 224: 'zel', 6163: '서류', 11877: '하랍니다뭐', 8361: '울림', 2531: '날로', 2034: '급부', 8201: '외면', 526: 'ㅋㅋㅠㅠ', 10493: '찻길', 2271: '께서', 6189: '서터레써', 398: 'ㅅㄴㄷㄴ', 1788: '구조대', 2148: '길들다', 8497: '유머', 3970: '롭다', 10852: '친밀', 7490: '어두운색', 9469: '저명하다', 3572: '등장인물', 447: 'ㅇㅇㅛ', 3453: '두근', 279: 'ㄱㄹㄷㅇㅈ', 428: 'ㅇㄷㅇㄷ', 1345: '겜알못', 2985: '다중', 4279: '맘껏', 8842: '이엠', 1147: '갠츈함', 11968: '한몫', 2462: '나욥', 7089: '아디', 10503: '창옥', 2434: '나뭇가지', 7962: '예쁘겐', 7988: '오그', 5557: '불가라', 10948: '캣컵', 9157: '자부심', 116: 'ipoo', 4665: '문도', 4117: '마비', 414: 'ㅅㅈㅅ', 9946: '주괴', 3586: '디스', 8879: '이즈', 9655: '정뫌', 11052: '쿠르젬', 1711: '괴임', 3435: '돵장', 7900: '열기구', 3965: '롤러코스터', 6092: '색책', 11449: '티니', 8670: '의인화', 4529: '목례', 11787: '프티', 12255: '호소', 8587: '으로선', 11937: '학자', 9858: '조화', 10862: '칠만', 8402: '원본', 8605: '은발', 7921: '염색', 11326: '통통거리다', 5212: '범선', 5453: '부럽다', 1898: '그나저나', 4956: '반지', 7016: '쏭쏭쏭', 7793: '여든', 5366: '보자기', 645: 'ㅕㅕ', 2410: '나누어지다', 562: 'ㅎㅎㅎㅋㅋㅋ', 5053: '방패', 9681: '정어', 621: 'ㅓㅓㅇ', 68: 'feat', 192: 'thicc', 10755: '축구장', 11233: '테니스장', 105: 'gyacha', 6886: '실랑이', 4932: '반딧불', 2435: '나뭇잎', 8592: '으세요', 11385: '튜터', 10577: '천제', 10246: '직자', 10659: '초성', 11132: '키즈', 291: 'ㄱㅊㄹㅇㅍ', 6351: '소드', 4762: '미사일', 3506: '드라마틱하다', 6787: '시원시원', 9050: '일품', 386: 'ㅃㅃ', 692: 'ㅜㅠㅜ', 9567: '전적', 4104: '마렵다', 6562: '순전하다', 12058: '해변', 4889: '바캉스', 12424: '후학', 10355: '짱짱하다', 1051: '개그', 5991: '삼각', 8874: '이제껏', 12132: '허기지다', 7410: '야물다', 11718: '표기', 5526: '분량', 2971: '다이고', 9350: '장하나', 11104: '큰소리', 11314: '통반', 3461: '두둥실', 8470: '윌드워', 12508: '히어로즈', 2481: '나타남', 12509: '히죽', 2583: '내년', 10857: '친지', 1868: '귀염뽀작해', 7126: '아산', 2714: '노벨', 6188: '서커스', 3991: '루입니', 9888: '좀해', 2507: '난무', 6172: '서서히', 7433: '약해지다', 12487: '흡족하다', 11808: '피곤', 4837: '밌음', 11279: '토므', 146: 'nv', 12420: '후진', 8356: '운전', 906: '가파른', 7628: '언덕', 6632: '스케이트보드', 10251: '직진', 6733: '시경', 8749: '이랬는데', 2950: '다사', 339: 'ㄷㅈㅂ', 301: 'ㄱㅡㄱ', 793: '가난뱅이', 9640: '정나미', 7954: '옇어', 11431: '특효약', 8735: '이라고도', 11041: '쾅콸', 1490: '고비', 6865: '신은주', 2934: '다름없이', 3350: '도합', 9641: '정내', 4595: '무릎꿁', 6499: '수습', 4350: '맹세코', 6616: '스무디', 2758: '농구', 4416: '메모', 6411: '소환', 8870: '이정', 5308: '보궐', 2618: '냠냠', 362: 'ㅁㅁㄱ', 7165: '아이유', 8645: '응원봉', 8796: '이불', 5669: '비만', 2682: '녀넌', 9402: '재임', 3362: '돈벌레', 1845: '궁리', 9927: '좌표', 3854: '레모', 6099: '샛수', 4095: '마도', 1858: '권환', 11033: '콜라', 12429: '후후후', 10380: '쫄깃', 2854: '느긋', 8103: '올리브', 11608: '페이퍼', 6682: '스팀', 369: 'ㅁㅋㄷ', 9966: '주말특', 3015: '단도', 9388: '재밓었어', 5156: '버터', 8488: '유딩들', 8924: '인겜', 402: 'ㅅㄷㅂㄷㄴㅂㅌㄱㅂㄷ', 327: 'ㄷㄱㅂ', 9859: '조화롭다', 541: 'ㅍㄹㅅ', 11330: '통합', 859: '가오', 11517: '판치다', 5819: '뿌리', 4818: '밀려오다', 6446: '손흥민', 4371: '먹고다', 5547: '분통', 5941: '사해', 11065: '쿵후', 3309: '도모', 253: 'ᅲᄏᄏ', 12339: '확행', 5372: '보채다', 1144: '객관', 10949: '캬아아', 2042: '긍정', 10784: '충당', 3751: '라니깐', 8759: '이력', 810: '가득가득', 8439: '월치', 7871: '연명', 391: 'ㅅㄱㄷㄱㅅㄱㄷㄱㅈ', 460: 'ㅈㄱㄷㄱㄷㄱㅈㄱㄷ', 466: 'ㅈㅅㄱㅅㄱㅌㄱㄷㄱ', 755: 'ㅡㅡㅌ', 1363: '격주', 8062: '오점', 8266: '욕망', 5598: '불타', 12216: '현황', 12159: '헛간', 11308: '톰슨', 11581: '퍼줍니', 12434: '훈수', 2007: '금광', 8421: '원피스', 9691: '정장', 11235: '테라스', 9463: '저렙임', 9487: '저항', 834: '가맹', 3003: '다현', 3010: '단가', 9904: '종전', 11571: '퍼덕이다', 11495: '파친코', 10627: '첼린저', 4725: '뮤직비디오', 3131: '대다수', 1777: '구안', 2158: '김민정', 8900: '이프랑', 807: '가드', 8897: '이편', 5426: '봉사', 10737: '추세', 7548: '어시트필플', 5852: '사내', 2922: '다닥다닥', 8355: '운임', 263: 'ᅳᅳᅳ', 7476: '어기', 7257: '안보', 8637: '응가', 2826: '눈매', 273: 'ㄱㄴㅂㄴ', 1536: '고프다', 10074: '중일', 943: '갈구다', 555: 'ㅎㅇㅎ', 9274: '잠자리', 5710: '비현실적', 11822: '피시', 3332: '도일', 2383: '끝없다', 6815: '시행', 3138: '대뜸', 6754: '시로', 7874: '연산', 7412: '야바위', 5461: '부문', 10323: '짖다', 12501: '희망이', 3290: '도나', 10758: '축적', 8698: '이길여', 4555: '몸색', 3489: '뒷발', 10945: '캡슐', 5254: '벽장', 2994: '다치다', 4789: '미쿠', 9281: '잡다하다', 7535: '어멍', 9472: '저스', 4061: '리프트', 328: 'ㄷㄱㅅㅅㅛ', 12494: '흥행', 9811: '조르다', 10007: '주주', 8845: '이엽', 4748: '미디어', 10585: '철괴', 6674: '스트레', 348: 'ㄹㄹㄹㅊㅊㅊㅌㅊㅊㅎ', 3950: '로오', 9270: '잠시간', 1695: '괜챃', 11887: '하명', 6205: '선녀', 1001: '갓꼄', 2717: '노소', 1560: '골뱅이', 9092: '입원', 11225: '터트립시', 2249: '깨부수다', 5533: '분방', 5284: '별밤', 7536: '어메이징', 10893: '카차', 10732: '추락', 3629: '딱딱하다', 3303: '도록', 8368: '움긱', 4981: '발디겜', 8631: '음음', 2909: '다고', 8382: '워게임', 4075: '립니', 8934: '인니', 1696: '괜춘', 8432: '월등하다', 6912: '실질', 2176: '김용남', 4735: '미끄럼틀', 12360: '홧김', 11031: '콘테츠', 8362: '울산', 12204: '현대', 2286: '꼬아놓', 4948: '반응속도', 4850: '바꿜수', 2578: '낳을', 12092: '해해', 527: 'ㅋㅋㅡ', 8944: '인분', 6971: '싰겨주', 10006: '주조', 1231: '거죠버프', 10484: '참사', 107: 'hdosoisis', 3370: '돈질', 10140: '지긋지긋', 2491: '낚였', 1456: '고급', 2783: '놨길', 7216: '악성코드', 1100: '개운', 7213: '악명', 11108: '클래스', 9688: '정의', 3088: '답보', 11283: '토시', 11918: '하찮다', 10555: '처음처럼', 1203: '거셔', 8347: '운빨', 5845: '사과문', 2731: '노쟘', 7980: '옐날에유튜버', 12402: '횡포', 8542: '유쾌하다', 9387: '재밓어', 5697: '비잉', 7671: '업덷', 7789: '여담', 3182: '대적', 8209: '외형', 5435: '부각시키다', 11592: '펀치', 10002: '주전', 1685: '광역', 85: 'games', 167: 'room', 63: 'egg', 578: 'ㅏㅎ', 10366: '쩝쩝', 2652: '넘사벽', 11989: '한주', 3031: '단장', 10922: '캐링', 9568: '전전', 11730: '푸르르', 3291: '도넛', 2576: '낱개', 1781: '구역질', 8697: '이기용', 9154: '자본', 11380: '튕길까', 11378: '튕긴다', 7597: '어쩐', 5983: '살짝살짝', 6307: '세원', 8104: '올린다', 7866: '연두색', 4590: '무도', 1586: '공동', 1314: '게라', 3635: '딴지', 12430: '후훗', 11702: '폭언', 6023: '상사', 1795: '구한', 7930: '영구', 10326: '짜내다', 3019: '단물', 4181: '막장', 2170: '김슬기', 2816: '누추', 1210: '거쌀짝', 1282: '걸핏하면', 4343: '맧있', 210: 'wi', 70: 'fi', 4112: '마모', 6021: '상도', 3242: '덕이', 8083: '오해해', 10765: '출력', 11393: '트러', 12025: '합치기', 11521: '판판하다', 4527: '목덜미', 3178: '대인배', 5759: '빡도네', 1330: '게이머', 6658: '스터', 8965: '인적', 8604: '은로', 5595: '불추천', 11792: '플래퍼', 11700: '폭망겜', 10652: '초면', 942: '갈고', 11204: '택배', 11666: '포니테일', 7537: '어몽', 7547: '어스', 7694: '었스', 10208: '지자', 2207: '까웅', 10746: '추처닝용', 2756: '놀이동산', 10680: '촘촘하', 7658: '엄정하다', 10661: '초아', 10287: '진행형', 5961: '산타할아버지', 1949: '그립다', 12089: '해커', 4841: '바가지', 1819: '굴뚝', 5994: '삼겹살', 3947: '로안', 2901: '닐닐람', 5760: '빡돌', 7182: '아지', 11066: '쿼리', 6141: '샠캬', 12330: '확보', 9631: '젔습니', 9827: '조심조심', 4154: '마주치다', 7851: '연가시', 2305: '꼽등이', 1259: '건마', 1148: '갤러리', 1377: '결제럾', 1067: '개똥망겜', 11485: '파운데이션', 2746: '논스톱', 4456: '명상', 11180: '탈의', 1737: '구거', 6241: '설탕', 12433: '훈륭', 10119: '증도', 5680: '비스', 8825: '이시우', 3353: '독뜩', 9006: '일반인', 4118: '마사', 9701: '정착', 5591: '불운', 6461: '수거', 1700: '괞찬네용', 8434: '월말', 7488: '어데', 12151: '허허벌판', 2039: '급작', 3570: '등이셨던', 5968: '살라', 11374: '튕기면', 2346: '꿀젬이에염', 2518: '난지도', 2399: '나가떨어지다', 3604: '디피', 11318: '통역', 6755: '시르다', 7204: '아픔', 3561: '등내', 8617: '을러', 6858: '신세계', 4832: '밌는건', 4736: '미끄럽다', 9645: '정도껏해', 6979: '싸구려', 10306: '집게', 1269: '건초', 4050: '리조트', 7392: '앱스토어', 10182: '지모', 1653: '관련성', 4029: '리메이크', 11524: '팔굽혀펴기', 5639: '블러시', 10019: '죽음', 284: 'ㄱㅅㄱㅅ', 3429: '동주', 1701: '괭고', 6498: '수술', 764: 'ㅣㅆ', 8970: '인즉슨', 4091: '마니아', 10982: '컬트', 9695: '정정당당하다', 4755: '미만', 10428: '차렷', 11607: '페이트', 4935: '반려견', 4934: '반려', 5182: '번역가', 4676: '문장', 11005: '켜보', 5770: '빡처', 147: 'oc', 7555: '어용', 276: 'ㄱㄷㄱㄴ', 7970: '예약', 5303: '병합', 7644: '얼어붙다', 7661: '엄처', 1032: '강하나', 9406: '재즘', 8388: '워진', 9744: '제봘', 4495: '모면', 6569: '술래잡기', 9330: '장애인', 8184: '왜전', 9450: '저글링', 7225: '악평', 2634: '너비', 5590: '불우', 7439: '얌체', 8671: '의자', 3576: '디귿', 11295: '토킹롬', 8060: '오재미', 2501: '난데없이', 5702: '비축', 11757: '퓨터', 10455: '차체', 5628: '브레인', 5117: '뱡맛', 1734: '교회', 6156: '서당', 1145: '객주', 12291: '화내', 8145: '와카', 1373: '결성', 8537: '유출', 6685: '스팸전화', 11364: '튕겼네', 4729: '미고', 5662: '비됴', 9521: '전갸차', 11645: '평온', 860: '가온', 5785: '빨망겜', 11890: '하반기', 8923: '인게', 1975: '극한', 961: '감격', 5027: '방귀', 2696: '노노노', 3676: '떨치다', 2710: '노멀', 11783: '프리징', 2992: '다채로웠으', 11904: '하옵다', 2382: '끝넬', 5963: '살구', 10880: '카디건', 3316: '도서', 4987: '발리볼', 2468: '나이라', 11774: '프로모션', 3724: '뜯기다', 9656: '정무', 9161: '자상하다', 148: 'ocs', 5570: '불꽃', 6367: '소방대', 10619: '체중', 4792: '미해결', 9473: '저습', 2025: '금일', 10526: '채소', 7917: '열풍', 6695: '스플래시', 10548: '처럼은', 7635: '얻지', 7507: '어떻든', 9031: '일이오', 5408: '본보다', 617: 'ㅓㅑ', 3170: '대우', 1157: '갸어갸', 647: 'ㅕㅗ', 12127: '향기', 1233: '거즈', 12304: '화보', 10427: '차려입다', 7057: '씨티', 4571: '묘지', 12005: '할로', 6353: '소등', 12425: '후홰', 9170: '자연스레', 856: '가안', 3212: '댕용', 9616: '점줄', 2649: '넘꿀젬', 11841: '필요시', 7200: '아티스트', 12113: '햇주셧음', 10010: '주천', 5424: '봇차레', 11597: '페널티', 7538: '어미', 4468: '명접', 6717: '습연', 2673: '네요', 7402: '야금', 10033: '줄알', 931: '간사하다', 5747: '빠앙', 10909: '칸트', 6683: '스파이', 836: '가명', 1593: '공백기', 12199: '혁명', 7493: '어둠', 9435: '잼있슴', 5725: '빌딩', 4803: '민망하다', 6193: '서현', 5313: '보내오다', 6199: '석판', 9577: '전해', 1986: '근딩', 9775: '제취', 83: 'galaxy', 72: 'flip', 73: 'folder', 1553: '골대', 12190: '헬기장', 5805: '뻘쭘', 2206: '까셨스', 2786: '놨는데', 12272: '홀로', 735: 'ㅡㅈㅡ', 2990: '다짜고짜', 5106: '밴드', 4396: '멈취', 4397: '멈츔', 10675: '초코비', 9668: '정색', 7651: '엄격하다', 10222: '지질', 10584: '철거', 10282: '진찬', 5579: '불명', 9831: '조앙', 2823: '눈등', 3165: '대야', 3269: '데리다', 1527: '고질', 5109: '밸런타인', 6900: '실속', 12176: '헤이그', 6195: '서희', 681: 'ㅜㅇㄹㅇㅇ', 9187: '자정', 4414: '메루', 8325: '우울', 10114: '즐컴', 5993: '삼각형', 2672: '네오', 341: 'ㄷㅎㄷㅎ', 3297: '도돈', 4697: '물병', 12074: '해외여행', 10329: '짜릿짜릿', 4036: '리부트', 6197: '석권', 1584: '공기', 1007: '강다현', 2470: '나이키', 12441: '훨훨', 12403: '효가', 676: 'ㅜㄹ', 563: 'ㅎㅎㅎㅌ', 599: 'ㅓㄱㄱ', 11401: '트렌디', 11566: '팬드', 10864: '칠중', 6691: '스폐셜', 4620: '무엄하다', 8680: '이갸챠', 12008: '할스받겝', 3380: '돌리시', 11269: '토네이도', 11115: '클레오파트라', 3144: '대로의', 6276: '성행위', 401: 'ㅅㄷㄱㅇ', 8599: '은공', 3841: '러얌', 9042: '일종', 7012: '쏟아내다', 6831: '식해', 4287: '맛없다', 582: 'ㅏㅗㄹㅇㅌ', 451: 'ㅇㅍㅍ', 8517: '유오', 704: 'ㅠㅇㅍㅇㅍ', 8476: '유규', 3492: '듀듁', 3491: '듀더듀듀', 702: 'ㅠㅇㅇㅠㅠ', 450: 'ㅇㅍㅇㅍㅍㅇㅍㅇㅍㅍ', 710: 'ㅠㅍㅇㅍㅇㅍㅍㅇㅍㅇㅍㅍㅇㅍㅇㅍㅍㅇㅍㅇㅍㅍㅇㅍ', 7559: '어유', 2570: '낭포', 8521: '유육', 8522: '유융', 8520: '유유', 8054: '오육', 1883: '규듀어', 711: 'ㅠㅍㅇㅍㅍㅇㅍㅇㅍㅍㅇㅍㅇㅍㅍㅇㅍㅇㅍㅍㅇㅍㅍㅇㅍㅇㅍㄱㅍㅇㅍㄹㅅㅎ', 715: 'ㅠㅛㅎㄱ', 496: 'ㅋㄹ', 670: 'ㅛㅕ', 2684: '녀포', 627: 'ㅓㅠㅐㅗ', 11570: '퍇노퍄', 12198: '혀초', 619: 'ㅓㅑㅗㅕㅛ', 6458: '쇼투', 626: 'ㅓㅗㅑㅍㄹ', 639: 'ㅕㅊ', 557: 'ㅎㅊㅅㅇㅋㅇㅅㅋㄹ', 12285: '홏허초', 618: 'ㅓㅑㅓㅠㅏ', 713: 'ㅠㅓ', 684: 'ㅜㅏㅗ', 611: 'ㅓㅎㄴ', 657: 'ㅗㅍ', 714: 'ㅠㅓㅠ', 604: 'ㅓㅅㄱㅌㄹㅅㅌㅎ', 653: 'ㅗㅇㅅㅋㄹㄹㅎ', 486: 'ㅊㅎㅕ', 638: 'ㅕㅅㅇ', 651: 'ㅗㄹ', 625: 'ㅓㅗㅊ', 685: 'ㅜㅗㅇㅅㅋㅊㅎㅌㅌㄹㅊㅎㅎㅊ', 640: 'ㅕㅎㅌ', 11263: '텵혗', 12283: '홍파', 2420: '나라고', 5569: '불길하다', 10572: '천은', 10285: '진해', 11995: '한층', 8410: '원자재', 3079: '담당', 1117: '개종', 540: 'ㅌㅌㅗ', 2579: '내강', 3789: '라프', 7320: '암컷', 6533: '수컷', 8612: '은피', 3974: '료업', 6165: '서무', 9799: '조곤', 2661: '넜음', 3745: '라기보단', 12241: '호강', 8033: '오반', 7202: '아파해', 1645: '과함', 7501: '어땋', 28: 'apk', 2977: '다이어리', 1682: '광삭', 3257: '덩달아', 124: 'ji', 51: 'dao', 38: 'bu', 125: 'jiebi', 280: 'ㄱㅁ', 2768: '농어', 8969: '인종차별', 10362: '쩌넹', 3146: '대리점', 1985: '근들', 9232: '작전', 3953: '로움', 9913: '좋게었', 1003: '갔아옫', 3908: '려원', 11149: '타락', 11530: '팔로워', 6601: '스더', 7579: '어째던', 6452: '솟다', 8077: '오프', 3602: '디토', 8997: '일렛', 10883: '카메라맨', 4624: '무음', 5534: '분배', 8507: '유소', 5020: '밤잠', 10167: '지독하다', 7475: '어긋나다', 2223: '깔아얒', 2280: '꼬맹', 4983: '발랄', 9106: '잉꼬', 12242: '호갱', 9693: '정점', 6421: '속옷', 2728: '노자', 8734: '이라고는', 7254: '안드로이드폰', 9897: '종업원', 7082: '아담하다', 7120: '아버지', 1676: '광규', 7730: '에뮬레이터', 1568: '곰인형', 6953: '심취', 4425: '메이플스토리', 7937: '영악', 8991: '일기장', 2617: '냉혹하다', 12010: '할애', 3432: '동화', 5219: '법칙', 12148: '허탈', 9248: '잔혹하다', 1151: '갱생', 6503: '수십만', 9466: '저리다', 6500: '수시', 5873: '사르', 6770: '시보레', 10910: '칼날', 864: '가우', 1991: '근심', 1409: '경축', 9205: '자홍색', 4391: '멀티플레이', 2357: '뀨뀨꺄꺄', 4915: '박현진', 7881: '연습실', 7571: '어조', 3705: '뚜빵', 833: '가망', 1039: '같읃', 1793: '구태', 7485: '어달', 9885: '좀똥', 3479: '뒤었는데', 1718: '교모', 3423: '동이면', 4658: '묵묵', 6373: '소비자보호원', 358: 'ㄹㅎ', 7172: '아이튠', 8373: '움트', 1004: '강강추', 3680: '뗏목', 12114: '행고', 10931: '캔디바', 7245: '안뇽', 11316: '통신', 8024: '오르락내리락', 10671: '초지', 3684: '또또', 8106: '올스타', 5019: '밤샘', 5797: '뺐늡니', 4259: '말따', 4441: '면별', 8081: '오하', 9739: '제바', 345: 'ㄹㄹ', 11915: '하지시', 531: 'ㅋㅎㅋㅎㅋ', 343: 'ㄹㄱ', 12294: '화단', 2567: '낫질', 11961: '한뎃잠', 6720: '승급', 5259: '변명', 2293: '꼴다', 2114: '기인', 5215: '범죄', 6369: '소보', 8405: '원시', 10411: '찡하다', 7286: '않해밨', 12095: '핵꾸루잼', 6135: '생킴', 7154: '아우트라인', 7941: '영역', 2459: '나와라', 8459: '위저', 7077: '아니꼽다', 5239: '베이컨', 10646: '초딩', 504: 'ㅋㅋㄱㅋ', 1050: '개굴', 272: 'ㄱㄴㄱㅅㄷㄱ', 4867: '바람기', 9964: '주막', 9903: '종자', 4954: '반주', 11206: '탭조이', 4869: '바랑', 10013: '주택', 12179: '헤져', 12463: '흐릿하', 1524: '고정남', 2956: '다시금', 309: 'ㄴㄴㄴㅏ', 3173: '대유', 7837: '여행기', 4034: '리본', 5611: '붕대', 9196: '자채', 5476: '부실하다', 3025: '단숨', 4228: '만족감', 4038: '리비도', 4863: '바라보다', 161: 'qqq', 2045: '긔여워', 5141: '버벅거립니', 4255: '말귀', 6253: '성기', 226: 'سۇ', 114: 'in', 190: 'tantank', 152: 'pantastik', 24: 'am', 163: 'rax', 3890: '렉스', 12323: '화팅햐', 8161: '완젼', 9855: '조페', 1500: '고스톱', 8146: '와트', 1960: '그케', 3729: '띄엄띄엄할', 8463: '위함', 7193: '아탬', 6095: '샌즈', 792: '가나다', 3651: '때었', 10734: '추로스', 8289: '용이하다', 2425: '나루토', 2793: '뇌졸중', 6321: '섹멩', 5953: '산만하다', 7438: '얌전하다', 468: 'ㅈㅇㄱㅅ', 3457: '두께', 9715: '제각각', 8987: '일관', 11290: '토지', 7946: '영토', 1141: '개혁', 3323: '도옥', 4998: '발았니', 2438: '나볼', 310: 'ㄴㄴㅔ', 2013: '금메달', 6075: '새마을호', 10203: '지윤', 5903: '사요나라', 659: 'ㅗㅓ', 4002: '르겋어', 12506: '히든', 6653: '스타킹', 7702: '엎드리다', 898: '가챠히튼때문', 11271: '토도독', 9180: '자음', 4509: '모음', 4939: '반박', 4645: '무쪼', 11505: '판국', 11114: '클레오', 11499: '파트라', 2622: '너넨', 3633: '딴말', 1901: '그네', 12154: '허후', 459: 'ㅈㄱㄱ', 12175: '헤이', 9895: '종말', 6703: '슬라이딩', 11190: '태극', 2105: '기요', 1809: '국적', 9426: '잼밋슴', 4455: '명불허전', 9854: '조케써', 10935: '캔트', 10105: '즐감', 729: 'ㅡㄷㅂ', 47: 'cool', 869: '가이드', 7477: '어기다', 3396: '동권', 12390: '회임', 7531: '어말', 7295: '알료', 7227: '악플달다', 10750: '추파', 11287: '토이', 5756: '빡겜', 12439: '훤히', 11334: '퇴근길', 6963: '십십', 4005: '르르른르르', 11026: '코튼', 303: 'ㄲㄲㅡ', 5908: '사위', 7778: '여개', 3052: '달동', 10471: '찰떡', 5429: '봉쇄', 12150: '허탕', 10596: '첩어', 7004: '썩을', 6990: '싼값', 4767: '미숙', 11661: '폐해', 5392: '복스럽다', 7123: '아부', 2693: '노고', 9576: '전하', 5211: '범범', 903: '가치관', 1161: '갸차라이프을', 1076: '개박', 7376: '액땜', 9687: '정은영', 10590: '철컹철컹', 5891: '사색', 9336: '장인어른', 9412: '재치', 2145: '길드원', 9673: '정성껏', 8385: '워염', 11984: '한자리', 2354: '꿋케릭터', 3569: '등유', 10231: '지하', 1720: '교보', 4663: '문고', 11282: '토스', 188: 'suhw', 127: 'jzauis', 8593: '으스스', 9804: '조근', 6828: '식지', 521: 'ㅋㅋㅎㅋㅎ', 3913: '렿홏', 3955: '로제', 7924: '염캐릿터', 452: 'ㅇㅏㅎㅎ', 7551: '어업', 11256: '텔레콤', 9623: '접목', 3338: '도정', 8783: '이목구비', 2926: '다듬다', 19: '900', 6022: '상복', 2418: '나디아', 1278: '걸여', 10690: '최고급', 5917: '사이코', 2043: '긐닼', 9911: '좈앜욬', 3792: '락이겠', 1348: '겜일껄', 7206: '아현', 9198: '자쳬', 4597: '무리하다', 2119: '기전', 756: 'ㅡㅡㅗ', 11306: '톡톡', 2947: '다분', 11439: '틀어지다', 10561: '천구백', 3094: '당고', 8303: '우르', 11605: '페이커', 10724: '최후', 10069: '중요성', 145: 'nrdd', 3996: '루한', 6377: '소송', 6277: '성향', 232: 'ᄋᄉᄋ', 5645: '블루스', 8907: '이행', 4466: '명작', 2828: '눈빛', 12188: '헬급', 4271: '말재', 5655: '비꼬다', 10812: '측두엽', 9530: '전두엽', 10815: '측정', 11606: '페이크', 6897: '실성하다', 209: 'weww', 5237: '베이지색', 2928: '다락방', 10042: '줐어', 2503: '난동', 9432: '잼슴', 973: '감성', 10705: '최선일', 7219: '악용', 7655: '엄망하', 7567: '어절', 3695: '똥겜임', 9923: '좌뇌', 1261: '건무', 4822: '밀면', 4815: '밀고', 11390: '트라이앵글', 2658: '넘좋댜', 2847: '눌으', 3205: '대형', 1425: '계산법', 3244: '덕지덕지', 1115: '개조차', 8538: '유치', 10464: '찬란하다', 536: 'ㅌㅋ', 7799: '여보세요', 10083: '중학교', 6309: '세이', 8756: '이렇겐', 6625: '스치다', 11299: '토킹톰앤', 7384: '앤드', 805: '가돼길봘', 4324: '매부', 3255: '덧납', 4362: '머리털', 446: 'ㅇㅇㅗ', 11301: '토토', 1118: '개줄', 585: 'ㅐㅁ', 4614: '무신경', 7094: '아량', 5288: '별자리', 9634: '정거장', 9226: '작엊', 11392: '트램펄린', 11736: '푼돈', 10767: '출생', 2789: '놨습니', 11770: '프로그래밍', 4348: '맵재', 3334: '도자기', 6750: '시디', 12251: '호미', 8282: '용별', 7782: '여광', 10952: '캬캬', 5430: '봉수', 2651: '넘멈넘넘', 11480: '파스타', 58: 'dj', 2: '10', 5672: '비밀스럽다', 4074: '릴리스', 9916: '좋습니댱', 8057: '오일', 10482: '참마', 6608: '스레', 9295: '장기전', 1686: '광장', 7261: '안산', 6120: '생명체', 709: 'ㅠㅍ', 129: 'kkk', 67: 'facebook', 11934: '학수', 9267: '잠바', 1644: '과학자', 5888: '사복', 8348: '운빨겜', 9071: '임운', 5778: '빨겜', 7775: '엨휴', 10194: '지싯', 11258: '텔미', 11248: '테테', 3881: '레텔텔', 10972: '컨디션', 1782: '구영', 6803: '시진', 56: 'dhiska', 455: 'ㅇㅕ', 11177: '탈것', 324: 'ㄴㅏ', 4517: '모젬', 5537: '분야', 9866: '존엄', 6487: '수면제', 6273: '성취도', 1597: '공식', 1344: '겐친', 11398: '트레이드', 7074: '아날로그', 1631: '과분', 8339: '우헹헹', 2472: '나인', 7943: '영웅', 7812: '여유도', 3413: '동석', 9525: '전국', 6453: '송대관', 4001: '류작', 8411: '원작', 3245: '덕질', 7999: '오드아이', 5791: '빼놓다', 9206: '자회사', 8173: '왕정', 4368: '머쓱', 12019: '합니돵', 2141: '긴장도', 4450: '명당', 10894: '카챠', 6975: '싱잉', 12473: '흑백', 5290: '별점', 637: 'ㅕㄴㅎㄷ', 7643: '얼른얼른', 9730: '제때', 3735: '띤기해', 1240: '거처', 3008: '닦달', 1796: '구함', 5706: '비트', 3987: '루없구엽', 10382: '쫄려', 2184: '김치', 2479: '나침판', 2663: '넝쿨', 852: '가스통', 5370: '보존', 4207: '만만', 7201: '아파트', 7850: '역할극', 1473: '고런', 12152: '허허헣', 1125: '개쩔', 2790: '놨어', 270: 'ㄱㄱㅡ', 4898: '박성연', 1423: '계삭', 10087: '줗아', 9529: '전동칫솔', 5884: '사무직', 10129: '지갑', 9386: '재밓다', 8392: '원더풀', 4760: '미비', 2142: '긴지', 1217: '거용', 7810: '여운', 803: '가독성', 4605: '무색', 11942: '한개', 2247: '깨땐', 12375: '회고', 4857: '바다로', 12023: '합체', 1492: '고상', 12484: '흙탕물', 9666: '정상인', 9355: '재건', 1546: '곡물', 5527: '분류', 3929: '로로러', 602: 'ㅓㄹ', 6749: '시들하다', 6786: '시원스럽다', 12326: '화합', 10854: '친분', 231: 'ᄋᄃ', 355: 'ㄹㅌㄱㅌㄱㄷㄱㅌㄱ', 588: 'ㅐㅓㅓㅢ', 758: 'ㅡㅣㅢ', 7300: '알맹이', 11329: '통한', 3496: '드갈', 12483: '흘수', 6334: '셔틀', 2347: '꿀죔', 10470: '찰나', 1936: '그렉', 6358: '소린', 3470: '둘레', 3210: '댓좀', 201: 'tv', 103: 'gumball', 7359: '애사', 6224: '선지', 8181: '왜왜', 3776: '라이딩', 6320: '세한', 2288: '꼬이다', 8217: '요구르트', 7552: '어엉청쉬움', 5319: '보다야', 430: 'ㅇㅁㅇ', 1691: '광팬', 520: 'ㅋㅋㅌㅌㅋㅋ', 6174: '서양인', 12022: '합장', 10409: '찡찡거리다', 1990: '근성', 8543: '유태', 10684: '촣아', 2902: '님드', 6878: '신혼집', 3134: '대대', 6571: '술집', 12047: '해답', 12472: '흐휴', 2904: '닙니', 9585: '절교', 97: 'goof', 8450: '위도', 5677: '비사', 4406: '멍하니', 11170: '탁탁', 7465: '양호', 4465: '명임', 9768: '제정', 6866: '신인', 7748: '에어', 252: 'ᅮᅲᅲ', 5382: '보호', 10125: '증정', 11223: '터트린', 5758: '빡대', 12408: '효오', 11080: '큐트', 10549: '처렁', 4950: '반장', 9268: '잠수', 8688: '이구', 5396: '복잡', 1312: '게다', 1661: '관찮네', 336: 'ㄷㅂㄷ', 1504: '고야', 12027: '핫스폿', 8616: '은행나무', 6078: '새우', 7827: '여주시', 1308: '게나', 11998: '한트', 6592: '슈퍼점프', 12069: '해쓰몐', 5821: '뿌뿌', 3392: '돔황챠', 10587: '철봉', 11985: '한잔', 4890: '바퀴', 2968: '다운증후군', 11217: '터주', 3404: '동등', 2077: '기면', 12273: '홀수', 2285: '꼬아논', 298: 'ㄱㅐ', 3504: '드따위', 3648: '때마', 7375: '애호가', 6690: '스펜서', 8022: '오륜', 10858: '친척', 9408: '재질', 740: 'ㅡㅏ', 6117: '생리', 3795: '랍니', 4610: '무수', 7010: '쏘우', 6318: '세팅', 6233: '설립', 300: 'ㄱㅔ', 11226: '턴데', 7162: '아이몬드', 1474: '고렙', 9890: '종국', 3898: '렙일', 10376: '쪼렙', 2146: '길드원들', 10218: '지지난', 6593: '슉슉', 10472: '찰리', 9795: '조각상', 9238: '잔렉', 9476: '저음', 5436: '부계', 4208: '만만하다', 12030: '항구', 7976: '예조', 6624: '스위트', 2238: '깡그리', 6808: '시커멓다', 3703: '뚜뚜', 1044: '개갓', 5910: '사은', 6245: '섬유', 2218: '깔레', 2938: '다망하다', 11239: '테릭', 2322: '꾸민켉턴데', 9192: '자중', 7897: '열광', 3963: '론처', 1360: '겨자', 9445: '저건', 12102: '핵사', 9862: '존똑', 4833: '밌밌', 4825: '밋밋', 6037: '상용', 11195: '태산', 244: 'ᅥᅥᅥᅲ', 3171: '대우받다', 862: '가요제', 11257: '텔로니', 7777: '여간', 11473: '파렴치하다', 1133: '개츠비', 11349: '투튵', 11262: '텨티태트', 11348: '투투', 11166: '타타', 11304: '토티', 9492: '적금', 8390: '원님', 6456: '쇅멩입니꽈', 2260: '꺄아아', 6256: '성명', 12060: '해복', 4452: '명랑하다', 7434: '약혼', 10741: '추인', 4980: '발디', 11048: '쿄쿜', 6927: '심각', 1459: '고꾸라지다', 2194: '깅톰', 2226: '깜깜무소식', 12333: '확실', 1621: '곶밌', 10088: '줬으몃', 6940: '심술', 4101: '마려운', 10234: '지현', 434: 'ㅇㅇㄹㄹㄷㅈㅈ', 10378: '쪼잔', 4338: '매하', 5960: '산타', 5389: '복산', 7345: '애기', 3622: '따리', 6582: '쉽귄한데', 2189: '김혜림', 10842: '치장', 10578: '천조', 9107: '잉신', 7405: '야동', 10341: '짠하다', 1223: '거일', 4510: '모의', 9723: '제너', 4291: '망각', 7387: '앨리스', 4133: '마운틴', 4528: '목도리', 12443: '휘날리다', 5400: '복창', 393: 'ㅅㄱㅅㄱㅂㅂ', 5925: '사족', 5274: '별꼴', 2920: '다다닥', 8998: '일련', 12362: '홧수', 9228: '작위', 6877: '신호', 4988: '발린', 8720: '이동휘', 12451: '휴대폰결제', 12278: '홈페이지', 9219: '작살', 6151: '서고', 537: 'ㅌㅋㅋ', 8259: '요타', 3012: '단곈데', 441: 'ㅇㅇㅇㅣ', 6906: '실용', 2353: '꿈직', 55: 'dev', 9193: '자지', 3853: '레드', 11591: '퍼플', 3862: '레스트', 779: '가급적', 11224: '터트립니', 6819: '식껍', 7129: '아쉅네', 4308: '맞짱', 12350: '환수', 8123: '옷류', 10289: '진화', 12195: '헸갈려', 1929: '그렇겐', 1320: '게속', 2791: '놨었고', 10551: '처방', 3609: '딜리셔스', 3277: '데인', 1016: '강스', 11519: '판타지', 9148: '자만', 4774: '미심', 8175: '왜국', 7259: '안빠떠리', 7905: '열락', 1128: '개차', 10185: '지배', 10997: '케이블', 1184: '거란', 9512: '적절', 1611: '공터', 2203: '까마득하다', 10220: '지지리', 10985: '컴퓨터게임', 6785: '시원', 9349: '장하', 4363: '머리핀', 4197: '만드것', 7524: '어리둥절하다', 5967: '살대', 4138: '마음속', 456: 'ㅇㅗㅏ', 7244: '안녕하십니까', 11706: '폭파', 6574: '숨은그림찾기', 2867: '늑대', 2202: '까마귀', 4749: '미라', 1017: '강시', 12054: '해리포터', 7352: '애덤스', 11550: '패밀리', 9389: '재밓으면', 11620: '편법', 7904: '열등감', 8034: '오백', 5838: '사고력', 8298: '우도', 6947: '심야', 2116: '기자', 9064: '임산부', 6817: '식겁하다', 2128: '기초', 7953: '옆구리', 10290: '진흙탕', 1749: '구덩이', 4448: '명검', 2984: '다정하다', 8564: '육박', 3486: '뒤틀리다', 4600: '무분별', 8440: '웠을텐', 9830: '조아핑', 8496: '유매', 5190: '번잡', 8286: '용암', 12064: '해산물', 5251: '벹어용', 11165: '타키', 11680: '포오', 3573: '등짝', 10413: '찢어지다', 6332: '셋째', 5954: '산술', 1792: '구타', 2681: '넷째', 10070: '중요시', 6299: '세밀', 1212: '거액', 9111: '자가', 10907: '칸수', 8283: '용비', 2308: '꼽히다', 4056: '리터', 12358: '활스', 7368: '애잡업', 1228: '거제', 299: 'ㄱㅐㄹㅔ', 302: 'ㄱㅣ', 5111: '밸업좀', 5343: '보삼', 11905: '하와이', 1937: '그려지다', 6137: '생판', 261: 'ᅳᄃ', 296: 'ㄱㅎㄴㅇㅅㄱ', 2787: '놨다', 6484: '수립', 12197: '혀뎌햗혀턓톁노논', 9814: '조마조마하다', 6692: '스포츠', 1418: '계고', 2637: '넉넏', 2983: '다점', 10535: '책임자', 12225: '협상', 10756: '축복', 6972: '싱글', 11093: '크루', 5110: '밸런타인데이', 2551: '남매', 2373: '끌잼', 2549: '남다르다', 6564: '순진무구', 8570: '윤수', 8471: '윌리엄', 5625: '브라이언', 1: '04', 3536: '들들', 7720: '에듭니', 8784: '이문', 3095: '당구', 2515: '난잡하다', 12496: '흩어지다', 259: 'ᅲᅲᅲᅮᅲᅮᅲᅮᅲᅮᅮᅲᅮᅲᅲ', 12452: '휴댜촌', 10853: '친밀도', 10385: '쫓겨나다', 9456: '저딴', 3287: '도구로', 8454: '위반', 2814: '누우', 614: 'ㅓㅏㅡㅡ', 737: 'ㅡㅌ', 3979: '루루', 7156: '아웅', 3758: '라라라', 3831: '러루루츠츠르르', 3989: '루웅', 8302: '우루루', 3980: '루룰', 7659: '엄제', 7992: '오는', 8683: '이걸루', 5234: '베스트', 11193: '태문', 9813: '조리법', 11424: '특수문자', 9236: '잔디밭', 8989: '일구다', 815: '가라라', 2607: '내적', 11963: '한독', 2821: '눈뎅', 3577: '디금', 11790: '플래그', 11311: '통계', 4025: '리라는', 4757: '미묘하다', 3236: '더킹', 2304: '꼽껴', 12442: '훼방', 12296: '화띵', 5878: '사립', 11376: '튕기지', 3800: '랑합니댜', 3289: '도기', 4460: '명암', 7278: '안치', 9135: '자두', 9771: '제주도', 1385: '겹치', 3530: '득텍주시', 5417: '볼거리', 6027: '상수도', 2715: '노병', 7773: '엡짱', 12140: '허무', 234: 'ᄌᄀ', 10046: '중고', 591: 'ㅐㅗㅇ', 544: 'ㅍㅍㅛ', 12087: '해챠셔', 543: 'ㅍㅍ', 666: 'ㅛㅊ', 9752: '제어', 5043: '방울', 4173: '막대', 3866: '레오', 5314: '보냇더', 6495: '수성', 2019: '금성', 12309: '화성', 4533: '목성', 11281: '토성', 10570: '천왕성', 12072: '해왕성', 4461: '명왕성', 7727: '에리스', 8319: '우애', 4165: '마키', 6968: '십픈', 7903: '열도', 6895: '실버', 8070: '오진', 9189: '자존감', 181: 'sooo', 10057: '중력', 5665: '비례', 921: '간구', 3928: '로랑', 223: 'zakeh', 4342: '맥주', 7302: '알바인', 1404: '경쟁심', 4477: '모느겟음', 3574: '듵여사', 7171: '아이텡', 10153: '지남', 8606: '은별', 8719: '이동해', 940: '갇음니', 524: 'ㅋㅋㅐ', 2416: '나대다', 11535: '팔지마다', 9420: '재활용', 8475: '유관', 11476: '파묻히다', 5813: '뽜션적', 11405: '트리케라톱스', 2801: '누너', 2803: '누누', 4393: '멈무머너', 600: 'ㅓㄴ', 4356: '머누머', 9612: '점유', 5632: '브리지', 2529: '날듯', 568: 'ㅎㅓㅎㅎㅕ', 6649: '스타일북', 11142: '타격', 1502: '고심', 9870: '존젬', 7916: '열폭', 1085: '개빡', 11254: '텐츠', 629: 'ㅔㄷ', 698: 'ㅜㅣ', 2396: '낌스', 7543: '어살', 12320: '화제', 774: '가각', 5220: '벗겨지다', 7596: '어쩌잔', 2250: '깨알', 6888: '실리', 8859: '이은서', 4692: '물량', 9155: '자본금', 9153: '자발', 5048: '방출', 542: 'ㅍㅌㅊ', 10104: '즉닁긥긔', 11988: '한정시키다', 10442: '차악', 11213: '터득', 6113: '생돈', 10966: '커트', 5086: '배제', 7456: '양쪽', 9626: '접습', 435: 'ㅇㅇㅁㅁㅇㅇㅁㅇㅁㅁㅇ', 4026: '리리', 765: 'ㅣㅇ', 9411: '재취', 2074: '기리', 9128: '자낳괴', 7473: '어게뮌', 4198: '만드기', 10345: '짧아지다', 9327: '장싱물등', 9089: '입사', 5514: '북적', 1353: '겝니', 11089: '크로스', 10240: '직결', 1378: '결코', 507: 'ㅋㅋㄴㄴㅁㅁㅋㄴㅋㅇㄴㄹㄴㄹㄷㅇㅇㅇㄱㅌㄴㅋㅋ', 3116: '대각선', 10371: '쪼금씩', 4880: '바악', 2509: '난생', 6407: '소하', 2964: '다예', 2046: '기가바이트', 5978: '살의', 1480: '고릴라', 3941: '로블짭', 7517: '어령', 9425: '잼밋느개임', 9441: '쟈미댜', 2675: '네이션', 1468: '고딕체', 12164: '헝겊', 7697: '엉덩이', 6331: '셈임', 2905: '닝겐', 4722: '뮈쳐써', 4821: '밀림', 9821: '조상', 7472: '어게', 4341: '맥아', 3355: '독송', 12292: '화낼', 10832: '치밀다', 10580: '천차만별', 8225: '요도', 12202: '현기증', 11040: '콩콩', 4775: '미안', 8075: '오터뇨', 650: 'ㅗㄷ', 3203: '대항', 4096: '마동석', 1635: '과욕', 1497: '고소하다', 7058: '씩씩', 7246: '안눌런는데', 11670: '포르노', 11413: '트윗', 7565: '어자', 12313: '화용', 1563: '골치', 7681: '업종', 972: '감상', 2447: '나성', 10811: '츄쳔', 10266: '진실하다', 623: 'ㅓㅕㅍ', 672: 'ㅛㅛ', 2692: '노가리', 8443: '웨이브', 930: '간문제', 7743: '에서부터', 11064: '쿵쾅', 4796: '민가', 7539: '어버이날', 12116: '행벅', 12076: '해유', 3221: '더듬다', 7185: '아차', 203: 'uegehryhe', 11419: '특별판', 3366: '돈일', 3004: '닥치고', 12246: '호랑이', 8087: '옥수수', 6909: '실의', 3248: '던스', 7385: '앤절라', 6661: '스테이션', 10248: '직장인', 6706: '슬로', 8226: '요돈좀', 4501: '모스', 12510: '히터', 2877: '늘어서다', 12167: '헤갈', 9501: '적립금', 12080: '해전', 1871: '귀엽슴', 3634: '딴사람', 3640: '딸아', 4967: '반향', 4875: '바립니', 9182: '자인', 9823: '조선', 12123: '행정법', 8831: '이싱힌', 4716: '뭐좀', 6849: '신데렐라', 12044: '해놯네', 8309: '우물', 3271: '데스크', 3815: '랜치', 11512: '판이하다', 11941: '한강', 3038: '단체', 3014: '단단하다', 11123: '클린', 5761: '빡머', 1218: '거울', 3478: '뒤시', 3734: '띠워', 6540: '수호', 11610: '펜트', 8314: '우스', 6187: '서진', 21: 'aa', 4446: '몃일', 5035: '방방', 5108: '밸런싱', 519: 'ㅋㅋㅌㅋ', 6355: '소련', 1335: '게일', 11143: '타계', 11446: '틩기지', 6468: '수기', 8609: '은신', 10837: '치워지다', 6789: '시원찮다', 1035: '강화', 11362: '튕겨지네', 7823: '여좀', 4469: '명캐', 12314: '화이팅', 5935: '사칭', 6771: '시부', 3107: '당하', 3507: '드라이브', 7241: '안년', 10429: '차령', 7825: '여주', 5828: '뿔테', 5970: '살롱', 8731: '이딶', 12153: '허현준', 7208: '악당', 3960: '록스', 185: 'stan', 143: 'nct', 7815: '여의도', 9061: '임대', 4322: '매매', 9550: '전세', 8435: '월세', 6352: '소득공제', 1885: '규제', 471: 'ㅈㅈㅓ', 7549: '어야', 12456: '휴일', 489: 'ㅋㄱㄲ', 2632: '너묵옂', 10892: '카지노', 11692: '포포', 6510: '수영', 2292: '꼴같잖다', 11011: '코딩', 9582: '전화번호', 3679: '떼이다', 214: 'would', 164: 'recommend', 119: 'it', 74: 'for', 200: 'turks', 27: 'angerldhtkvjrmdlwjd', 43: 'cjr', 60: 'djr', 71: 'fjfmfkfjjfjfjjjfjjfkd', 135: 'ls', 61: 'dkflslslslslsls', 62: 'dmfnnfmnf', 90: 'ggjjgg', 669: 'ㅛㅍㅍㅗㅗㅓㅓㅎ', 668: 'ㅛㅍ', 8163: '완주', 8563: '유후', 3876: '레전', 513: 'ㅋㅋㅋㄱㄱㄱ', 3093: '답쫌주세', 9685: '정윤재', 3827: '러러랴', 4812: '민하', 1613: '공통점', 1049: '개국', 10722: '최하', 10731: '추도', 5929: '사진기', 8684: '이게랙떼문', 4563: '못해', 10093: '쥤음좋겠슾', 1086: '개빡칭', 3654: '땜질', 9905: '종점', 3525: '드소', 9607: '젊다', 3467: '두우', 7656: '엄여', 5289: '별장', 4457: '명색', 2908: '다가가다', 11068: '쿼티', 2052: '기괴', 3448: '되있슴', 12414: '후련', 3367: '돈임', 4413: '메롱이', 11336: '퇴화', 11057: '쿠큩', 11387: '튜튜', 2809: '누리', 11050: '쿠로', 12389: '회의', 12412: '후드', 4081: '마구간', 5816: '뿌까', 3518: '드뢉더', 2156: '김덕중', 11709: '폰임', 10773: '출입문', 11889: '하미', 9318: '장사꾼', 6094: '색퀴들', 11350: '투트', 7780: '여겨지다', 7932: '영산', 622: 'ㅓㅓㅏㅏㅠㅍㅍㅓㅓㅑㅑ', 7143: '아아탬', 7693: '었똑', 3732: '띠링띠링', 1088: '개새', 2389: '끼들', 4994: '발송', 5839: '사고뭉치', 12021: '합성', 2676: '네잎클로버', 4476: '모노', 10102: '즈므즈', 11296: '토킹마닝', 3678: '떼리', 560: 'ㅎㅎㅋㅋ', 6105: '생계', 12457: '휴지통', 1021: '강우', 10120: '증명', 2496: '낚임', 3667: '떠지다', 6743: '시니어', 4715: '뭐임뭐', 410: 'ㅅㅅㅛ', 4071: '린아', 7991: '오꿰잌', 593: 'ㅑㄹㄹㅡㅡㅜㅡㄹㄹ', 4213: '만우절', 3418: '동였', 8864: '이인', 11756: '풍족하다', 1059: '개뀰', 7860: '연긍', 699: 'ㅠㄱ', 6420: '속수', 679: 'ㅜㅅㅅㅜ', 4175: '막막하다', 3154: '대박나다', 4669: '문상', 701: 'ㅠㅅㅠ', 6: '20', 9785: '젤일', 8418: '원중', 6158: '서둘다', 1300: '것입', 3127: '대꾸', 8419: '원칙', 993: '갑옷', 10873: '침해', 11478: '파바팍', 3321: '도어즈', 7788: '여니', 7790: '여도', 5342: '보살', 5942: '사향', 3704: '뚜렷하다', 5823: '뿌옇다', 5138: '버벅거리긴', 6563: '순제', 4345: '맴돌다', 2825: '눈르', 9166: '자아', 5143: '버벅임', 11370: '튕기나', 10886: '카와이', 11411: '트믐', 10204: '지으니', 10825: '치도', 8990: '일그러지다', 8820: '이슈', 453: 'ㅇㅐ', 8397: '원리', 9597: '절약', 8763: '이롭다', 4100: '마려우', 2792: '뇌운', 3403: '동도', 11063: '쿨하다', 380: 'ㅂㅇㅂ', 6231: '설렁설렁', 3607: '딜레마', 4810: '민주주의', 1295: '것갇아', 6243: '섬망', 1592: '공백', 2686: '년대', 6269: '성지인', 9167: '자알', 2723: '노은', 8247: '요장', 2520: '난해', 7902: '열댓', 3818: '랩업', 6408: '소홀하다', 3836: '러스트', 916: '각형', 8848: '이온', 8290: '용인', 1079: '개밥', 3851: '레기', 2186: '김톰길', 7000: '써니', 6329: '센티', 9043: '일주', 1766: '구먼', 5522: '분당', 2993: '다채롭지', 5996: '삼국지', 4546: '몰랑몰랑하다', 10579: '천조국', 8528: '유임', 6375: '소셜게임', 7510: '어럽네', 12070: '해애', 6391: '소이다', 10988: '컵스', 5423: '봄옷', 2863: '느닷없다', 3903: '려다', 7863: '연대', 8479: '유년기', 9883: '좀너', 4295: '망라', 6237: '설인', 9097: '입핬', 8409: '원자력', 6292: '세라', 6285: '세광고', 91: 'gguljjam', 9235: '잒애', 1045: '개강', 3273: '데이', 2436: '나발', 8053: '오윈준', 4849: '바꿈', 1150: '갤럭시탭', 8275: '용광로', 720: 'ㅠㅠㅋ', 6394: '소정', 3578: '디네', 10173: '지뢰', 9149: '자매', 7088: '아등바등', 9356: '재결', 10095: '쥬아용', 3193: '대충대충', 9353: '장희수', 1052: '개그맨', 2160: '김병만', 12417: '후보', 10221: '지지율', 11460: '팅기다', 2999: '다합', 11344: '투자가', 11695: '포필', 236: 'ᄏᄃᄏᄃ', 2522: '난후', 4323: '매밌', 2592: '내리막', 6055: '상하이', 1674: '광광', 7030: '쓰레깁니', 7703: '엎져', 3526: '드어슴', 6612: '스맛폰', 431: 'ㅇㅅ', 346: 'ㄹㄹㄴ', 4655: '무한지대', 9055: '읽히다', 3369: '돈지럴', 4891: '바탕', 1346: '겜앱', 6507: '수업', 10359: '짹짹', 3322: '도예', 7136: '아싑어', 9696: '정주희', 5038: '방서', 5733: '빙글빙글', 7696: '었으', 9012: '일부분', 3393: '돕기', 1408: '경찰서', 171: 'shshsu', 10751: '추하', 827: '가리키다', 7370: '애지중지', 11002: '케임', 7564: '어있어', 9246: '잔재', 11914: '하주시', 8268: '욕설', 2590: '내려지다', 6435: '손발', 6988: '싹수', 5428: '봉삼', 3500: '드닙니', 11323: '통째', 10188: '지세', 10869: '침묵', 1874: '귀욤귀욤', 411: 'ㅅㅇㅅ', 11324: '통쾌', 6047: '상쾌', 8541: '유쾌', 1965: '극상', 3214: '댱머', 7409: '야매', 3832: '러마', 7095: '아러러매챠퍼업', 609: 'ㅓㅍ', 598: 'ㅑㅠㅑ', 11573: '퍼렇다', 7806: '여야챠', 10544: '챠챠랴야처', 601: 'ㅓㄷ', 12196: '혀갸갸랴갸대', 5080: '배아', 7189: '아캩가애태얒뱁', 3803: '래라러', 7192: '아타', 7100: '아루', 7362: '애애애', 3822: '랴러', 3905: '려러', 7091: '아라라', 10558: '처처', 2454: '나애애애', 3821: '랴랴', 3829: '러렁어', 605: 'ㅓㅇㅇㅑ', 11355: '퉃루', 7347: '애나', 595: 'ㅑㅊ', 10895: '카카', 11569: '퍄갸냐캬야먀나렁', 4355: '먀얌', 356: 'ㄹㅌㅋㅋㅓ', 1156: '갸어', 3907: '려오얀먀', 7509: '어랸', 3826: '러러', 10884: '카아', 1449: '고건', 4852: '바뀰수잇구', 2805: '누데', 636: 'ㅔㅔㅔㅠㅠㅠ', 472: 'ㅈㅈㅜ', 1014: '강민', 12106: '핸드', 4420: '메이드', 2187: '김하율', 4224: '만적', 10263: '진서', 8272: '욕합', 3243: '덕인', 3386: '돌아서다', 8816: '이송희', 6937: '심보', 6419: '속셈', 808: '가드닝', 5638: '블러', 11761: '프라임', 7255: '안라', 10029: '줄깨', 5869: '사레', 8003: '오락', 8005: '오락실', 6400: '소질', 5054: '방학', 11502: '파헤치다', 4191: '만남', 1612: '공통', 12136: '허덕이다', 5781: '빨랑빨랑', 6575: '숩니', 4239: '만큼씩', 5263: '변수', 8198: '외도', 9882: '좀괜춘임', 11758: '프나펌', 3983: '루브', 5875: '사르트', 6330: '셀레브', 4119: '마사지', 7672: '업뎁', 6090: '색연필', 12391: '회장', 11745: '품다', 3301: '도레이', 3126: '대기실', 2092: '기숙사', 7906: '열렙해', 9532: '전락', 5765: '빡센', 2838: '눈코입', 7106: '아리랑', 8555: '유트뷰유트뷰', 7096: '아려', 8260: '요트', 11805: '플브좀', 3552: '들판', 8788: '이민영', 12125: '행패', 5456: '부리', 7054: '씨불', 350: 'ㄹㅇㄹㅇ', 2252: '깨어지다', 11516: '판쩡', 6001: '삼유', 8776: '이마트', 3972: '롯데', 4168: '마트', 5464: '부산', 5650: '비겁하다', 11145: '타고나다', 6834: '신건', 5943: '사회생활', 10334: '짜장면', 2744: '논덜', 12217: '혇바닥', 5171: '번뇌', 8964: '인자', 12181: '헤퍼', 11400: '트레킹', 10097: '쥰낸많눼', 4145: '마이톰킹톰앰', 9294: '장기간', 532: 'ㅋㅎㅋㅎㅎㅋ', 379: 'ㅂㅂㅠ', 6903: '실신', 3288: '도굴', 11694: '포플레이', 5095: '배포', 304: 'ㄲㅈㄸ', 9422: '잼띵', 10847: '치트키', 420: 'ㅆㄱㄴ', 10360: '쨍해', 8086: '옥션', 2882: '능가', 893: '가챠덕후', 3246: '덕후', 9396: '재송', 2842: '눌렸어', 5066: '배급사', 10814: '측은', 6635: '스케줄', 11982: '한유주', 11357: '튀어', 246: 'ᅧᅧᅧ', 2356: '뀌었으', 1651: '관람', 8425: '원형질', 8762: '이롬', 9225: '작업장', 9692: '정적', 2159: '김민희', 207: 'virah', 101: 'great', 8761: '이론', 10172: '지로', 3433: '돝네', 1739: '구겐', 3861: '레뷰', 3721: '뜨드드', 6996: '쌔벼', 564: 'ㅎㅎㅎㅏ', 10937: '캔티', 2881: '늤음', 11846: '핑계', 4440: '면로', 9538: '전무', 7783: '여구', 2121: '기조', 1880: '귄위', 8666: '의연하다', 8196: '외근', 1343: '게저', 10774: '출장', 2915: '다녀오다', 12431: '훅훅', 11303: '토트', 9142: '자루', 7570: '어젯밤', 9404: '재작성', 1342: '게임화', 11079: '큐큨', 3184: '대접', 4766: '미소', 5233: '베베', 958: '갉아먹다', 2175: '김용', 10778: '출판사', 7807: '여염', 10598: '첫인상', 8811: '이상현', 2277: '꼬락서니', 2369: '끊음', 10496: '창고업', 11415: '특공대', 6076: '새미', 5422: '볼트', 3924: '로디', 1663: '관해', 11648: '평일', 6345: '소금', 5586: '불쑥', 11614: '펬을케우다', 4802: '민맀내', 2997: '다툼', 7601: '어쩨', 9056: '잀어', 682: 'ㅜㅇㅜ', 6322: '섹션', 7926: '엽니', 7357: '애벌레', 3445: '되돌아오다', 6281: '세간', 5633: '브터', 9724: '제니', 7097: '아련', 10915: '캐디', 5380: '보편', 9448: '저격있스', 8134: '와스', 1307: '게꿀잼', 1352: '겜핵', 5684: '비아', 4008: '를달', 3351: '독감', 10905: '칵퉤', 1758: '구류', 4560: '못너', 10936: '캔트사', 11639: '평면', 8261: '요플레', 2331: '꿀루잼입니', 2333: '꿀르르잼', 11199: '태윤', 6600: '스담스담', 2465: '나유', 11388: '튜퓨', 7952: '영화광', 4479: '모던', 8133: '와락', 4235: '만치', 29: 'app', 6868: '신입', 10798: '취득', 10777: '출퇴근길', 10647: '초라하다', 6784: '시온', 7692: '었는데', 4281: '맘에듬', 1670: '광고주', 11045: '쾌스트', 5225: '베가', 876: '가젤', 11945: '한결같이', 8627: '음속', 10602: '청량하다', 1837: '굿임', 12340: '확확', 6440: '손실', 6070: '새로이', 6949: '심일', 9150: '자명종', 10476: '찰퇴시', 8516: '유예', 3509: '드래그', 1977: '극헬', 10824: '치닫다', 7483: '어닝', 1204: '거수', 10687: '최게', 6880: '싢어짐', 9409: '재채기', 1495: '고센', 4654: '무한정', 5322: '보답', 6103: '생걱', 1724: '교시', 909: '가해자', 4178: '막바지', 1921: '그러엄', 10062: '중상', 11921: '하트뿅뿅', 3282: '뎄습', 1416: '경후', 3693: '똥개', 11184: '탐사', 842: '가벼워지다', 329: 'ㄷㄴㄴㄷ', 616: 'ㅓㅐ', 632: 'ㅔㅐ', 7411: '야므', 663: 'ㅙㄱㅁㄱ', 677: 'ㅜㅁ', 315: 'ㄴㅅ', 426: 'ㅇㄷ', 741: 'ㅡㅐㄷㅇㅁㄴ', 584: 'ㅐㄴ', 745: 'ㅡㅕㅑ', 633: 'ㅔㅐㅕ', 628: 'ㅔㄱㅁ', 551: 'ㅎㅁㄴㅅㅁ', 644: 'ㅕㅔㅁㄴ', 742: 'ㅡㅑㅇㅁㄴ', 337: 'ㄷㅅㅊ', 330: 'ㄷㄴㄴㅁ', 744: 'ㅡㅑㅜㅗㅁ', 589: 'ㅐㅔㅜㅑ', 678: 'ㅜㅁㅇㅁ', 4747: '미드', 274: 'ㄱㄷ', 743: 'ㅡㅑㅜ', 630: 'ㅔㄷㄹㄷㄱ', 10813: '측면', 10583: '천해', 11537: '팔콘', 9939: '죵내', 5152: '버입니', 514: 'ㅋㅋㅋㄹㅃㅃ', 4206: '만료', 6779: '시시콜콜하다', 1304: '겉옷', 10943: '캠핑', 6138: '생해', 6203: '선거', 3169: '대용'}\n"
          ]
        }
      ]
    },
    {
      "cell_type": "markdown",
      "source": [
        "## 2. 모델 학습"
      ],
      "metadata": {
        "id": "x3gTBt1f-QcN"
      }
    },
    {
      "cell_type": "code",
      "source": [
        "# 모형 적합과 예측\n",
        "lr = LogisticRegression(random_state = 0)\n",
        "lr.fit(X_train_tfidf, y_train) # 학습\n",
        "y_pred = lr.predict(X_test_tfidf) # 예측\n",
        "# 평가\n",
        "print(pd.DataFrame({'y':y_test, 'pred':y_pred})) # 실제 값과 예측값 비교\n",
        "lr.score(X_test_tfidf, y_test)"
      ],
      "metadata": {
        "colab": {
          "base_uri": "https://localhost:8080/"
        },
        "id": "fSx-wVNm9JlR",
        "outputId": "f7a3681c-d00c-4667-e409-0dc440c8a806"
      },
      "execution_count": null,
      "outputs": [
        {
          "output_type": "stream",
          "name": "stdout",
          "text": [
            "      y  pred\n",
            "0     1     1\n",
            "1     0     0\n",
            "2     0     1\n",
            "3     1     1\n",
            "4     0     0\n",
            "...  ..   ...\n",
            "7705  0     0\n",
            "7706  1     1\n",
            "7707  0     0\n",
            "7708  0     0\n",
            "7709  0     0\n",
            "\n",
            "[7710 rows x 2 columns]\n"
          ]
        },
        {
          "output_type": "execute_result",
          "data": {
            "text/plain": [
              "0.8804150453955901"
            ]
          },
          "metadata": {},
          "execution_count": 25
        }
      ]
    },
    {
      "cell_type": "markdown",
      "source": [
        "- 정확도 = 0.88"
      ],
      "metadata": {
        "id": "v5dlTfdp9pC2"
      }
    },
    {
      "cell_type": "markdown",
      "source": [
        "## 평가 지표 0.880"
      ],
      "metadata": {
        "id": "66-r-9jW-Udh"
      }
    },
    {
      "cell_type": "code",
      "source": [
        "# 정확도, 정밀도, 재현율, F1점수\n",
        "a = accuracy_score(y_test, y_pred)\n",
        "p = precision_score(y_test, y_pred)\n",
        "r =recall_score(y_test, y_pred)\n",
        "f1= f1_score(y_test, y_pred)\n",
        "print('Accuracy: %.3f' % a,', Precision: %.3f' % p, ', Recall: %.3f' % r, ', F1: %.3f' % f1 )"
      ],
      "metadata": {
        "colab": {
          "base_uri": "https://localhost:8080/"
        },
        "id": "IIPqXwn59yDr",
        "outputId": "15bc869f-de58-4f7c-bdb4-6bfd779ae198"
      },
      "execution_count": null,
      "outputs": [
        {
          "output_type": "stream",
          "name": "stdout",
          "text": [
            "Accuracy: 0.880 , Precision: 0.907 , Recall: 0.851 , F1: 0.878\n"
          ]
        }
      ]
    },
    {
      "cell_type": "code",
      "source": [
        "# 추정결과 confusion matrix\n",
        "c_mat = confusion_matrix(y_true = y_test, y_pred = y_pred)\n",
        "plt.figure(figsize=(4, 3))\n",
        "sns.heatmap(c_mat, annot=True, annot_kws={'size':15}, cmap='OrRd', fmt='.10g')\n",
        "plt.title('Confusion Matrix')\n",
        "plt.show()"
      ],
      "metadata": {
        "colab": {
          "base_uri": "https://localhost:8080/",
          "height": 312
        },
        "id": "7MTmjFPE9-N1",
        "outputId": "b1cea823-8dad-4ed5-bf86-2d38bbc05d4d"
      },
      "execution_count": null,
      "outputs": [
        {
          "output_type": "display_data",
          "data": {
            "text/plain": [
              "<Figure size 400x300 with 2 Axes>"
            ],
            "image/png": "[encoded data removed]"
          },
          "metadata": {}
        }
      ]
    },
    {
      "cell_type": "markdown",
      "source": [],
      "metadata": {
        "id": "xVvRMOhef36x"
      }
    },
    {
      "cell_type": "markdown",
      "source": [
        "# LSTM 모델링"
      ],
      "metadata": {
        "id": "jXJlEao3nMn2"
      }
    },
    {
      "cell_type": "code",
      "source": [
        "X_train = train['all'].values\n",
        "y_train = train['label'].values\n",
        "X_test= test['all'].values\n",
        "y_test = test['label'].values"
      ],
      "metadata": {
        "id": "0boO4eIT-KP0"
      },
      "execution_count": null,
      "outputs": []
    },
    {
      "cell_type": "markdown",
      "source": [
        "## 1. 정수 인코딩\n",
        "\n",
        "**진행 과정**\n",
        "- tokenizer = Tokenizer() # 토크나이저 객체 생성\n",
        "- tokenizer.fit_on_texts(학습데이터) # 단어 집합 생성 + 고유 정수 부여\n",
        "- tokenizer.word_index # {단어:고유정수}\n",
        "- tokenizer.word_counts # {단어:빈도수}\n",
        "- tokenizer = Tokenizer(num_words=단어 집합 크기, oov_token='인코딩 과정에서 지정한 단어집합크기를 넘어선 단어들에게 부여할 문자')\n",
        "- tokenizer.fit_on_texts(X_train)\n",
        "- tokenizer.text_to_sequences(학습데이터) # 정수 인코딩\n",
        "- tokenizer.text_to_sequences(평가데이터)\n"
      ],
      "metadata": {
        "id": "d-86yoeH-4TU"
      }
    },
    {
      "cell_type": "code",
      "source": [
        "tokenizer = Tokenizer()\n",
        "tokenizer.fit_on_texts(X_train) # 단어 집합이 생성되는 동시에 각 단어에 고유한 정수가 부여"
      ],
      "metadata": {
        "id": "Qe0UCk4P-lav"
      },
      "execution_count": null,
      "outputs": []
    },
    {
      "cell_type": "code",
      "source": [
        "tokenizer.word_index # .word_index :  생성된 {단어:고유번호} 확인"
      ],
      "metadata": {
        "id": "NXlOvbeY-lWO",
        "colab": {
          "base_uri": "https://localhost:8080/"
        },
        "outputId": "0f7678da-6b98-47bb-bcf1-e6e4a2f19723"
      },
      "execution_count": null,
      "outputs": [
        {
          "output_type": "execute_result",
          "data": {
            "text/plain": [
              "{'하다': 1,\n",
              " '광고': 2,\n",
              " '너무': 3,\n",
              " '좋다': 4,\n",
              " '재밌다': 5,\n",
              " '나오다': 6,\n",
              " '재미있다': 7,\n",
              " '없다': 8,\n",
              " '되다': 9,\n",
              " '보다': 10,\n",
              " '많다': 11,\n",
              " '많이': 12,\n",
              " '만들다': 13,\n",
              " '않다': 14,\n",
              " '깔다': 15,\n",
              " '돼다': 16,\n",
              " '아이템': 17,\n",
              " '레벨': 18,\n",
              " '현질': 19,\n",
              " '꾸미다': 20,\n",
              " '하고': 21,\n",
              " '주다': 22,\n",
              " '귀엽다': 23,\n",
              " '캐릭터': 24,\n",
              " '재미': 25,\n",
              " '자다': 26,\n",
              " '깨다': 27,\n",
              " '근데': 28,\n",
              " '업데이트': 29,\n",
              " '어렵다': 30,\n",
              " '가다': 31,\n",
              " '뜨다': 32,\n",
              " '싶다': 33,\n",
              " '안되다': 34,\n",
              " '인데': 35,\n",
              " '사람': 36,\n",
              " '모르다': 37,\n",
              " '받다': 38,\n",
              " 'ㅠㅠ': 39,\n",
              " '하트': 40,\n",
              " '짜증': 41,\n",
              " '걸리다': 42,\n",
              " '해주다': 43,\n",
              " '추천': 44,\n",
              " '쓰다': 45,\n",
              " '오다': 46,\n",
              " '말다': 47,\n",
              " '처음': 48,\n",
              " 'ㅋㅋ': 49,\n",
              " '나다': 50,\n",
              " '생각': 51,\n",
              " '이벤트': 52,\n",
              " '시작': 53,\n",
              " '삭제': 54,\n",
              " '지우다': 55,\n",
              " '마다': 56,\n",
              " '들다': 57,\n",
              " '플레이': 58,\n",
              " '줄다': 59,\n",
              " '해보다': 60,\n",
              " '포우': 61,\n",
              " '되어다': 62,\n",
              " '고치다': 63,\n",
              " '드리다': 64,\n",
              " '결제': 65,\n",
              " 'ㅎㅎ': 66,\n",
              " '바꾸다': 67,\n",
              " '유도': 68,\n",
              " '끄다': 69,\n",
              " '진행': 70,\n",
              " '들어가다': 71,\n",
              " '보상': 72,\n",
              " '좋아하다': 73,\n",
              " '건지다': 74,\n",
              " '모으다': 75,\n",
              " '중간': 76,\n",
              " '이에요': 77,\n",
              " '넘다': 78,\n",
              " '가챠': 79,\n",
              " '아쉽다': 80,\n",
              " '키우다': 81,\n",
              " '엄청': 82,\n",
              " '감사하다': 83,\n",
              " '단계': 84,\n",
              " '친구': 85,\n",
              " '난이도': 86,\n",
              " '사용': 87,\n",
              " '보고': 88,\n",
              " '써다': 89,\n",
              " '유저': 90,\n",
              " '미니게임': 91,\n",
              " '알다': 92,\n",
              " '힘들다': 93,\n",
              " '쉬다': 94,\n",
              " '아깝다': 95,\n",
              " '누르다': 96,\n",
              " '이나': 97,\n",
              " '스트레스': 98,\n",
              " '리뷰': 99,\n",
              " '오류': 100,\n",
              " '없이': 101,\n",
              " '설치': 102,\n",
              " '끝나다': 103,\n",
              " '화면': 104,\n",
              " '최고': 105,\n",
              " '빨리': 106,\n",
              " '별로': 107,\n",
              " '자꾸': 108,\n",
              " '코인': 109,\n",
              " '예요': 110,\n",
              " '괜찮다': 111,\n",
              " '심하다': 112,\n",
              " '중독': 113,\n",
              " '없어지다': 114,\n",
              " '이네': 115,\n",
              " '다양하다': 116,\n",
              " 'ㅡㅡ': 117,\n",
              " '사라지다': 118,\n",
              " '즐기다': 119,\n",
              " '가지': 120,\n",
              " '캐시': 121,\n",
              " '추가': 122,\n",
              " '안녕하다': 123,\n",
              " '넘어가다': 124,\n",
              " '빼다': 125,\n",
              " '단점': 126,\n",
              " '버그': 127,\n",
              " '예쁘다': 128,\n",
              " '퍼즐': 129,\n",
              " '이렇게': 130,\n",
              " '버리다': 131,\n",
              " '에는': 132,\n",
              " '이상하다': 133,\n",
              " '오래': 134,\n",
              " '니까': 135,\n",
              " '불편하다': 136,\n",
              " '적다': 137,\n",
              " '얻다': 138,\n",
              " '생기다': 139,\n",
              " 'ㅜㅜ': 140,\n",
              " '줄이다': 141,\n",
              " '이랑': 142,\n",
              " '라이프': 143,\n",
              " '보내다': 144,\n",
              " '도중': 145,\n",
              " '머리': 146,\n",
              " '올라가다': 147,\n",
              " '지다': 148,\n",
              " '그것': 149,\n",
              " '나서다': 150,\n",
              " '나가다': 151,\n",
              " '기다': 152,\n",
              " '제작자': 153,\n",
              " '부탁드리다': 154,\n",
              " '마이': 155,\n",
              " '라는': 156,\n",
              " '처럼': 157,\n",
              " '와이파이': 158,\n",
              " '기다리다': 159,\n",
              " '한국어': 160,\n",
              " '정원': 161,\n",
              " '토킹': 162,\n",
              " '안젤라': 163,\n",
              " '스테이지': 164,\n",
              " '문제': 165,\n",
              " '때우다': 166,\n",
              " '라고': 167,\n",
              " '수정': 168,\n",
              " '싫다': 169,\n",
              " '구매': 170,\n",
              " '이고': 171,\n",
              " '한판': 172,\n",
              " 'ㅋㅋㅋ': 173,\n",
              " '영어': 174,\n",
              " '재미나': 175,\n",
              " '들어오다': 176,\n",
              " '새롭다': 177,\n",
              " '다운로드': 178,\n",
              " '넣다': 179,\n",
              " '해결': 180,\n",
              " '저장': 181,\n",
              " '심심하다': 182,\n",
              " '터지다': 183,\n",
              " '밖에': 184,\n",
              " '필요하다': 185,\n",
              " '크다': 186,\n",
              " '없애다': 187,\n",
              " '기능': 188,\n",
              " '접속': 189,\n",
              " '인지': 190,\n",
              " '차다': 191,\n",
              " '상황': 192,\n",
              " '강추': 193,\n",
              " '에도': 194,\n",
              " '멈추다': 195,\n",
              " '이라': 196,\n",
              " '횟수': 197,\n",
              " '오늘': 198,\n",
              " '방법': 199,\n",
              " '이쁘다': 200,\n",
              " '하루': 201,\n",
              " '초기': 202,\n",
              " '미션': 203,\n",
              " '클럽': 204,\n",
              " '핸드폰': 205,\n",
              " '환불': 206,\n",
              " '먹다': 207,\n",
              " '클리어': 208,\n",
              " '보석': 209,\n",
              " '가능하다': 210,\n",
              " '재미없다': 211,\n",
              " '마을': 212,\n",
              " '지루하다': 213,\n",
              " '깨지다': 214,\n",
              " '확인': 215,\n",
              " '골드': 216,\n",
              " '마음': 217,\n",
              " '개다': 218,\n",
              " '똑같다': 219,\n",
              " '올리다': 220,\n",
              " '적당하다': 221,\n",
              " '다르다': 222,\n",
              " '느낌': 223,\n",
              " '과금': 224,\n",
              " '열심히': 225,\n",
              " '창고': 226,\n",
              " '기분': 227,\n",
              " '짜다': 228,\n",
              " '쓸다': 229,\n",
              " '버튼': 230,\n",
              " '장점': 231,\n",
              " '아직': 232,\n",
              " '맞다': 233,\n",
              " '스토리': 234,\n",
              " '어리다': 235,\n",
              " '캔디': 236,\n",
              " '소리': 237,\n",
              " '느리다': 238,\n",
              " '고양이': 239,\n",
              " '바뀌다': 240,\n",
              " '무료': 241,\n",
              " '보이다': 242,\n",
              " '부분': 243,\n",
              " '이유': 244,\n",
              " '놓다': 245,\n",
              " '실행': 246,\n",
              " '어려워지다': 247,\n",
              " '데이터': 248,\n",
              " '선택': 249,\n",
              " '계정': 250,\n",
              " '솔직하다': 251,\n",
              " '겁나다': 252,\n",
              " '경우': 253,\n",
              " '퍼즐게임': 254,\n",
              " '물건': 255,\n",
              " '오랜': 256,\n",
              " '즐겁다': 257,\n",
              " '반복': 258,\n",
              " '따르다': 259,\n",
              " '옛날': 260,\n",
              " '분들': 261,\n",
              " '쉽다': 262,\n",
              " '꺼지다': 263,\n",
              " '아기': 264,\n",
              " '부족하다': 265,\n",
              " '이동': 266,\n",
              " '영상': 267,\n",
              " '해봤다': 268,\n",
              " '빠르다': 269,\n",
              " '남다': 270,\n",
              " '화나다': 271,\n",
              " '날아가다': 272,\n",
              " '높다': 273,\n",
              " '떨어지다': 274,\n",
              " '사다': 275,\n",
              " '연결': 276,\n",
              " '비싸다': 277,\n",
              " '한테': 278,\n",
              " '이해': 279,\n",
              " '나요': 280,\n",
              " '맞추다': 281,\n",
              " '주시': 282,\n",
              " '터치': 283,\n",
              " '바라다': 284,\n",
              " '개선': 285,\n",
              " '이르다': 286,\n",
              " '개발자': 287,\n",
              " '사랑': 288,\n",
              " '움직이다': 289,\n",
              " '힘드다': 290,\n",
              " '되게': 291,\n",
              " '에요': 292,\n",
              " '찾다': 293,\n",
              " '켜다': 294,\n",
              " '공간': 295,\n",
              " '인증': 296,\n",
              " '초반': 297,\n",
              " '버전': 298,\n",
              " '두다': 299,\n",
              " '가요': 300,\n",
              " '취소': 301,\n",
              " '최악': 302,\n",
              " '접다': 303,\n",
              " '늘리다': 304,\n",
              " '복구': 305,\n",
              " '개도': 306,\n",
              " '그렇게': 307,\n",
              " '로딩': 308,\n",
              " '부스터': 309,\n",
              " '치다': 310,\n",
              " '말고': 311,\n",
              " '충전': 312,\n",
              " '남기다': 313,\n",
              " '유튜브': 314,\n",
              " '폭탄': 315,\n",
              " '기도': 316,\n",
              " '늘다': 317,\n",
              " '많아지다': 318,\n",
              " '그래픽': 319,\n",
              " '미치다': 320,\n",
              " '질리다': 321,\n",
              " '대박': 322,\n",
              " '건물': 323,\n",
              " '이라고': 324,\n",
              " '편하다': 325,\n",
              " '나쁘다': 326,\n",
              " '종료': 327,\n",
              " '설정': 328,\n",
              " '추억': 329,\n",
              " '개인': 330,\n",
              " '여서': 331,\n",
              " '인가요': 332,\n",
              " '인가': 333,\n",
              " '너무하다': 334,\n",
              " '번째': 335,\n",
              " '업그레이드': 336,\n",
              " '제거': 337,\n",
              " '단순하다': 338,\n",
              " '장난': 339,\n",
              " '연동': 340,\n",
              " '도움': 341,\n",
              " '이름': 342,\n",
              " '채우다': 343,\n",
              " '저만': 344,\n",
              " '무한': 345,\n",
              " '무제한': 346,\n",
              " '그림': 347,\n",
              " '풀다': 348,\n",
              " '한두': 349,\n",
              " '밉다': 350,\n",
              " '한글': 351,\n",
              " '지나다': 352,\n",
              " '대다': 353,\n",
              " '원하다': 354,\n",
              " '집중': 355,\n",
              " '재료': 356,\n",
              " '보기': 357,\n",
              " '요청': 358,\n",
              " '빠지다': 359,\n",
              " '놀다': 360,\n",
              " '노잼': 361,\n",
              " '특히': 362,\n",
              " '어려움': 363,\n",
              " '따다': 364,\n",
              " '아무리': 365,\n",
              " '벌다': 366,\n",
              " '카드': 367,\n",
              " '레가타': 368,\n",
              " '클릭': 369,\n",
              " '필요': 370,\n",
              " '느끼다': 371,\n",
              " '달라': 372,\n",
              " '꾸준하다': 373,\n",
              " '색깔': 374,\n",
              " '아이스크림': 375,\n",
              " '가면': 376,\n",
              " '비다': 377,\n",
              " '저금': 378,\n",
              " '답답하다': 379,\n",
              " '곳간': 380,\n",
              " '문의': 381,\n",
              " '대로': 382,\n",
              " '간단하다': 383,\n",
              " '쓰레기': 384,\n",
              " '이기다': 385,\n",
              " '비행기': 386,\n",
              " '블록': 387,\n",
              " '점수': 388,\n",
              " '흥미': 389,\n",
              " '주기': 390,\n",
              " '에서는': 391,\n",
              " '기차': 392,\n",
              " '짧다': 393,\n",
              " '돌리다': 394,\n",
              " '힐링': 395,\n",
              " '답변': 396,\n",
              " '갈다': 397,\n",
              " '퀄리티': 398,\n",
              " '자동': 399,\n",
              " '재다': 400,\n",
              " '상태': 401,\n",
              " '스타일': 402,\n",
              " '협동': 403,\n",
              " '로그인': 404,\n",
              " '주기도': 405,\n",
              " '찍다': 406,\n",
              " '상자': 407,\n",
              " '강제': 408,\n",
              " '음식': 409,\n",
              " '라서': 410,\n",
              " 'ᅲᅲ': 411,\n",
              " '화가': 412,\n",
              " '인터넷': 413,\n",
              " '공장': 414,\n",
              " '서다': 415,\n",
              " '내다': 416,\n",
              " '기본': 417,\n",
              " '입히다': 418,\n",
              " '돌아가다': 419,\n",
              " '읽다': 420,\n",
              " '현상': 421,\n",
              " '살다': 422,\n",
              " '조정': 423,\n",
              " '번역': 424,\n",
              " '유료': 425,\n",
              " '만에': 426,\n",
              " '더럽다': 427,\n",
              " '일이': 428,\n",
              " '거임': 429,\n",
              " '동생': 430,\n",
              " '끊기다': 431,\n",
              " '참고': 432,\n",
              " '길다': 433,\n",
              " '고요': 434,\n",
              " '마지막': 435,\n",
              " '적용': 436,\n",
              " '한국': 437,\n",
              " '디자인': 438,\n",
              " '이용': 439,\n",
              " '페이스북': 440,\n",
              " '표시': 441,\n",
              " '선물': 442,\n",
              " '순간': 443,\n",
              " '날리다': 444,\n",
              " '들이다': 445,\n",
              " '퀘스트': 446,\n",
              " '완료': 447,\n",
              " '풀리다': 448,\n",
              " '사진': 449,\n",
              " '만들기': 450,\n",
              " '으로도': 451,\n",
              " '변경': 452,\n",
              " 'ㅠㅠㅠ': 453,\n",
              " '매일': 454,\n",
              " '텐데': 455,\n",
              " '설명': 456,\n",
              " '조절': 457,\n",
              " '엄마': 458,\n",
              " '해주시': 459,\n",
              " '종류': 460,\n",
              " '작다': 461,\n",
              " '모자': 462,\n",
              " '사기': 463,\n",
              " '죽다': 464,\n",
              " '점도': 465,\n",
              " '실패하다': 466,\n",
              " '휴대폰': 467,\n",
              " '실수': 468,\n",
              " '모양': 469,\n",
              " '거야': 470,\n",
              " '야하다': 471,\n",
              " '실망': 472,\n",
              " '싫어지다': 473,\n",
              " '어이없다': 474,\n",
              " '동물': 475,\n",
              " '두뇌': 476,\n",
              " '충분하다': 477,\n",
              " '가차': 478,\n",
              " '라도': 479,\n",
              " '속도': 480,\n",
              " '부과금': 481,\n",
              " '만족하다': 482,\n",
              " '너무나': 483,\n",
              " '생산': 484,\n",
              " '크러시': 485,\n",
              " '먼저': 486,\n",
              " '완벽하다': 487,\n",
              " '심해': 488,\n",
              " '쌓이다': 489,\n",
              " '궁금하다': 490,\n",
              " '좋아지다': 491,\n",
              " '튕겨': 492,\n",
              " '내용': 493,\n",
              " '구글': 494,\n",
              " '멀다': 495,\n",
              " '용량': 496,\n",
              " '겁니다': 497,\n",
              " '시스템': 498,\n",
              " '배경': 499,\n",
              " '연속': 500,\n",
              " '계단': 501,\n",
              " '포즈': 502,\n",
              " '기존': 503,\n",
              " '부탁': 504,\n",
              " '줍다': 505,\n",
              " '비추다': 506,\n",
              " '달다': 507,\n",
              " '역시': 508,\n",
              " '만들어지다': 509,\n",
              " '막히다': 510,\n",
              " '과제': 511,\n",
              " '전체': 512,\n",
              " '시즌': 513,\n",
              " '참다': 514,\n",
              " '보너스': 515,\n",
              " '오버': 516,\n",
              " '맨날': 517,\n",
              " '방식': 518,\n",
              " '이딴': 519,\n",
              " '지겹다': 520,\n",
              " '그건': 521,\n",
              " '나중': 522,\n",
              " '짱짱': 523,\n",
              " '엄청나다': 524,\n",
              " '얼굴': 525,\n",
              " '어른': 526,\n",
              " '기기': 527,\n",
              " '높아지다': 528,\n",
              " '수준': 529,\n",
              " '직접': 530,\n",
              " '여행': 531,\n",
              " '꾸다': 532,\n",
              " '이라도': 533,\n",
              " '에너지': 534,\n",
              " '중이': 535,\n",
              " '생기': 536,\n",
              " '돌려주다': 537,\n",
              " '열리다': 538,\n",
              " '거리': 539,\n",
              " '에러': 540,\n",
              " '사용자': 541,\n",
              " '팡팡': 542,\n",
              " '인하다': 543,\n",
              " '겠다': 544,\n",
              " 'ㅎㅎㅎ': 545,\n",
              " '아직도': 546,\n",
              " '실제': 547,\n",
              " '머리카락': 548,\n",
              " '성공하다': 549,\n",
              " '제한': 550,\n",
              " '채다': 551,\n",
              " '판이': 552,\n",
              " '리셋': 553,\n",
              " '까진': 554,\n",
              " '벗기다': 555,\n",
              " '현금': 556,\n",
              " '보통': 557,\n",
              " '강하다': 558,\n",
              " '이미': 559,\n",
              " '평가': 560,\n",
              " '인테리어': 561,\n",
              " '틱톡': 562,\n",
              " '포인트': 563,\n",
              " '스킵': 564,\n",
              " '질리': 565,\n",
              " '시도': 566,\n",
              " '확장': 567,\n",
              " '프렌즈': 568,\n",
              " '귀찮다': 569,\n",
              " '그만하다': 570,\n",
              " '플레이어': 571,\n",
              " '가스': 572,\n",
              " '걸다': 573,\n",
              " '아무튼': 574,\n",
              " '님들': 575,\n",
              " '아아': 576,\n",
              " '해오다': 577,\n",
              " '다운': 578,\n",
              " '완성': 579,\n",
              " '개수': 580,\n",
              " '생각나다': 581,\n",
              " '표정': 582,\n",
              " '스킨': 583,\n",
              " '살짝': 584,\n",
              " '굉장하다': 585,\n",
              " '알림': 586,\n",
              " '아기자기하다': 587,\n",
              " '확실하다': 588,\n",
              " '넘기다': 589,\n",
              " '추하다': 590,\n",
              " '오스틴': 591,\n",
              " '레이스': 592,\n",
              " '까지는': 593,\n",
              " '그걸': 594,\n",
              " '아프다': 595,\n",
              " '티켓': 596,\n",
              " '동작': 597,\n",
              " '결재': 598,\n",
              " '정말로': 599,\n",
              " '웃기다': 600,\n",
              " '누가': 601,\n",
              " '웬만하다': 602,\n",
              " '대한': 603,\n",
              " '패치': 604,\n",
              " '진심': 605,\n",
              " '종일': 606,\n",
              " '커지다': 607,\n",
              " '요구': 608,\n",
              " '암튼': 609,\n",
              " '따로': 610,\n",
              " '다시다': 611,\n",
              " '쏠쏠하다': 612,\n",
              " '다이아': 613,\n",
              " '취향': 614,\n",
              " '개임': 615,\n",
              " '끊다': 616,\n",
              " '튕기': 617,\n",
              " '완전하다': 618,\n",
              " '어린이': 619,\n",
              " '파다': 620,\n",
              " '째다': 621,\n",
              " '보라': 622,\n",
              " '고치': 623,\n",
              " '느껴지다': 624,\n",
              " '발생': 625,\n",
              " '대체': 626,\n",
              " '킬링타임': 627,\n",
              " '변하다': 628,\n",
              " '어쩔': 629,\n",
              " '기회': 630,\n",
              " '라면': 631,\n",
              " '그리다': 632,\n",
              " '갤럭시': 633,\n",
              " '페북': 634,\n",
              " '복잡하다': 635,\n",
              " '도전': 636,\n",
              " '파이팅': 637,\n",
              " '때리다': 638,\n",
              " '부족': 639,\n",
              " '고르다': 640,\n",
              " '니깐': 641,\n",
              " '에서도': 642,\n",
              " '미니': 643,\n",
              " '액세서리': 644,\n",
              " '만의': 645,\n",
              " '짓다': 646,\n",
              " '조치': 647,\n",
              " '포기': 648,\n",
              " '가격': 649,\n",
              " '모습': 650,\n",
              " '이면': 651,\n",
              " '오지': 652,\n",
              " '당연하다': 653,\n",
              " '싫어하다': 654,\n",
              " '건설': 655,\n",
              " '일주일': 656,\n",
              " '찌다': 657,\n",
              " '돼지': 658,\n",
              " '조금씩': 659,\n",
              " '지급': 660,\n",
              " '라운드': 661,\n",
              " '어쩌': 662,\n",
              " '외국': 663,\n",
              " '불만': 664,\n",
              " '메이크': 665,\n",
              " '랜덤': 666,\n",
              " '감사': 667,\n",
              " '구입': 668,\n",
              " '보단': 669,\n",
              " '오랫동안': 670,\n",
              " '고민': 671,\n",
              " '위치': 672,\n",
              " '늦다': 673,\n",
              " '기르다': 674,\n",
              " '처리': 675,\n",
              " '운발': 676,\n",
              " '후회': 677,\n",
              " '만이': 678,\n",
              " '여자': 679,\n",
              " '기억': 680,\n",
              " '개발': 681,\n",
              " '보여주다': 682,\n",
              " '먹통': 683,\n",
              " '죄송하다': 684,\n",
              " '메일': 685,\n",
              " '순위': 686,\n",
              " '조작': 687,\n",
              " '아이폰': 688,\n",
              " '상극': 689,\n",
              " '남자': 690,\n",
              " '열다': 691,\n",
              " '어쨌든': 692,\n",
              " '불다': 693,\n",
              " '연승': 694,\n",
              " '번만': 695,\n",
              " '이라는': 696,\n",
              " '고맙다': 697,\n",
              " '끝내다': 698,\n",
              " '돌아오다': 699,\n",
              " '강아지': 700,\n",
              " '망하다': 701,\n",
              " '동영상': 702,\n",
              " '모드': 703,\n",
              " '아이디': 704,\n",
              " '신경': 705,\n",
              " '멋지다': 706,\n",
              " '상관없다': 707,\n",
              " '늘어나다': 708,\n",
              " '뭐라다': 709,\n",
              " '신나다': 710,\n",
              " '가입': 711,\n",
              " '신기하다': 712,\n",
              " '혜택': 713,\n",
              " '사랑스럽다': 714,\n",
              " '보시': 715,\n",
              " '낮다': 716,\n",
              " '맘대로': 717,\n",
              " '도와주다': 718,\n",
              " '풀이': 719,\n",
              " '심심': 720,\n",
              " '극도': 721,\n",
              " '잃다': 722,\n",
              " '또는': 723,\n",
              " '금액': 724,\n",
              " '노래': 725,\n",
              " '밸런스': 726,\n",
              " '뛰다': 727,\n",
              " '회사': 728,\n",
              " '옮기다': 729,\n",
              " '개월': 730,\n",
              " '장식': 731,\n",
              " '애니팡': 732,\n",
              " '통과': 733,\n",
              " '하자': 734,\n",
              " '비용': 735,\n",
              " '행복하다': 736,\n",
              " '우와': 737,\n",
              " '중복': 738,\n",
              " '상품': 739,\n",
              " '이야': 740,\n",
              " '의견': 741,\n",
              " '일부러': 742,\n",
              " '나무': 743,\n",
              " '주사위': 744,\n",
              " '메시지': 745,\n",
              " '인기': 746,\n",
              " '지치다': 747,\n",
              " '스럽다': 748,\n",
              " '실패': 749,\n",
              " '싸다': 750,\n",
              " '건너': 751,\n",
              " '이라서': 752,\n",
              " '황금': 753,\n",
              " '이야기': 754,\n",
              " '앵무새': 755,\n",
              " '잠자다': 756,\n",
              " '요소': 757,\n",
              " '댓글': 758,\n",
              " '크게': 759,\n",
              " '제공': 760,\n",
              " '농장': 761,\n",
              " '연령': 762,\n",
              " '줄어들다': 763,\n",
              " '딱하다': 764,\n",
              " '굳다': 765,\n",
              " '최애': 766,\n",
              " '차이': 767,\n",
              " '흐름': 768,\n",
              " '노력': 769,\n",
              " '더욱': 770,\n",
              " '제작': 771,\n",
              " '그만': 772,\n",
              " '메이크업': 773,\n",
              " '보물': 774,\n",
              " '에선': 775,\n",
              " '와우': 776,\n",
              " '에만': 777,\n",
              " '시리즈': 778,\n",
              " 'ᄒᄒ': 779,\n",
              " '소소하다': 780,\n",
              " '막다': 781,\n",
              " '가꾸다': 782,\n",
              " '이만': 783,\n",
              " 'ᄏᄏ': 784,\n",
              " '로는': 785,\n",
              " '물품': 786,\n",
              " '돌보다': 787,\n",
              " '검다': 788,\n",
              " '으로는': 789,\n",
              " '자리': 790,\n",
              " '히트': 791,\n",
              " '그렇다고': 792,\n",
              " '기록': 793,\n",
              " '망겜': 794,\n",
              " '얘기': 795,\n",
              " '드네': 796,\n",
              " '여전하다': 797,\n",
              " '평점': 798,\n",
              " '콘텐츠': 799,\n",
              " '달라지다': 800,\n",
              " '이지': 801,\n",
              " '미기': 802,\n",
              " '운영': 803,\n",
              " '유지': 804,\n",
              " '지르다': 805,\n",
              " '이리': 806,\n",
              " '가구': 807,\n",
              " '거만': 808,\n",
              " '활동': 809,\n",
              " 'ㄹㅇ': 810,\n",
              " '보다는': 811,\n",
              " '이니': 812,\n",
              " '팝업': 813,\n",
              " '잇다': 814,\n",
              " '나라': 815,\n",
              " '허다': 816,\n",
              " '시청': 817,\n",
              " '공짜': 818,\n",
              " '덕분': 819,\n",
              " '마찬가지': 820,\n",
              " '그런': 821,\n",
              " '낮추다': 822,\n",
              " '방금': 823,\n",
              " '과일': 824,\n",
              " '헤어': 825,\n",
              " '악플': 826,\n",
              " '기대하다': 827,\n",
              " '모션': 828,\n",
              " '실력': 829,\n",
              " '모자라다': 830,\n",
              " '천천히': 831,\n",
              " '타일': 832,\n",
              " '심해지다': 833,\n",
              " '거도': 834,\n",
              " '관리': 835,\n",
              " '그만두다': 836,\n",
              " '개입': 837,\n",
              " '불가능하다': 838,\n",
              " '정신': 839,\n",
              " '깔끔하다': 840,\n",
              " '절대로': 841,\n",
              " '한다는': 842,\n",
              " '쓸데없다': 843,\n",
              " '상점': 844,\n",
              " '전이': 845,\n",
              " '타운': 846,\n",
              " '추다': 847,\n",
              " '관심': 848,\n",
              " '한지': 849,\n",
              " '정보': 850,\n",
              " '방해': 851,\n",
              " '가능': 852,\n",
              " '언어': 853,\n",
              " '색상': 854,\n",
              " '끼다': 855,\n",
              " '고장': 856,\n",
              " '일반': 857,\n",
              " '화장': 858,\n",
              " '나이': 859,\n",
              " '린지': 860,\n",
              " '와도': 861,\n",
              " '안경': 862,\n",
              " '연결하다': 863,\n",
              " '작물': 864,\n",
              " '검은색': 865,\n",
              " '그럭저럭': 866,\n",
              " '투자': 867,\n",
              " '입다': 868,\n",
              " '사항': 869,\n",
              " '만나다': 870,\n",
              " '해소': 871,\n",
              " '상당하다': 872,\n",
              " '토끼': 873,\n",
              " '개꿀': 874,\n",
              " '타임': 875,\n",
              " '만해': 876,\n",
              " '어떻': 877,\n",
              " '편이': 878,\n",
              " '현실': 879,\n",
              " '허위': 880,\n",
              " '운영자': 881,\n",
              " '성취': 882,\n",
              " '업다': 883,\n",
              " '달성': 884,\n",
              " '음악': 885,\n",
              " '이점': 886,\n",
              " '발전': 887,\n",
              " '갖다': 888,\n",
              " '숫자': 889,\n",
              " '죽이다': 890,\n",
              " '인내심': 891,\n",
              " '수확': 892,\n",
              " '본인': 893,\n",
              " '대기': 894,\n",
              " '중요하다': 895,\n",
              " '획득': 896,\n",
              " '치매': 897,\n",
              " '강력': 898,\n",
              " '공부': 899,\n",
              " '의상': 900,\n",
              " '사라': 901,\n",
              " '대부분': 902,\n",
              " '트로피': 903,\n",
              " '의미': 904,\n",
              " '끌다': 905,\n",
              " '언니': 906,\n",
              " '무섭다': 907,\n",
              " '다가': 908,\n",
              " '똑같이': 909,\n",
              " '띄우다': 910,\n",
              " '하고는': 911,\n",
              " '저번': 912,\n",
              " '자재': 913,\n",
              " '치고': 914,\n",
              " '지폐': 915,\n",
              " '개화': 916,\n",
              " '바쁘다': 917,\n",
              " '사탕': 918,\n",
              " '크기': 919,\n",
              " '아빠': 920,\n",
              " '스토어': 921,\n",
              " '벌리다': 922,\n",
              " '떠나다': 923,\n",
              " '비우다': 924,\n",
              " '낭비': 925,\n",
              " '대신': 926,\n",
              " '튜토리얼': 927,\n",
              " '한게임': 928,\n",
              " '분명': 929,\n",
              " '놀이': 930,\n",
              " '나머지': 931,\n",
              " '시원하다': 932,\n",
              " '수리': 933,\n",
              " '자고': 934,\n",
              " '출시': 935,\n",
              " '무지개': 936,\n",
              " '사고': 937,\n",
              " '동물원': 938,\n",
              " '기간': 939,\n",
              " '로만': 940,\n",
              " '부턴': 941,\n",
              " '불가': 942,\n",
              " '점주': 943,\n",
              " '초대': 944,\n",
              " '믿다': 945,\n",
              " '신발': 946,\n",
              " '서로': 947,\n",
              " '뿌듯하다': 948,\n",
              " '아바타': 949,\n",
              " '과정': 950,\n",
              " '더하다': 951,\n",
              " '난도': 952,\n",
              " '막노동': 953,\n",
              " '속상하다': 954,\n",
              " '보관': 955,\n",
              " '만점': 956,\n",
              " '이기': 957,\n",
              " '인정': 958,\n",
              " '쓰이다': 959,\n",
              " '그나마': 960,\n",
              " '일어나다': 961,\n",
              " '활성화': 962,\n",
              " '경쟁': 963,\n",
              " '지워지다': 964,\n",
              " '배치': 965,\n",
              " '지는': 966,\n",
              " '검색': 967,\n",
              " '움직': 968,\n",
              " '가까이': 969,\n",
              " '참여': 970,\n",
              " '양심': 971,\n",
              " 'ㅜㅠ': 972,\n",
              " '저가': 973,\n",
              " '아래': 974,\n",
              " '행동': 975,\n",
              " '알람': 976,\n",
              " '대해': 977,\n",
              " '이냐': 978,\n",
              " 'ᅮᅮ': 979,\n",
              " '모바일': 980,\n",
              " '찾기': 981,\n",
              " '무니': 982,\n",
              " '닫다': 983,\n",
              " '덥다': 984,\n",
              " '심각하다': 985,\n",
              " '헬기': 986,\n",
              " '한국인': 987,\n",
              " '유일하다': 988,\n",
              " '캡처': 989,\n",
              " '무시': 990,\n",
              " '들어서다': 991,\n",
              " '찾아보다': 992,\n",
              " '날다': 993,\n",
              " '블루베리': 994,\n",
              " '젤리': 995,\n",
              " '부터는': 996,\n",
              " '회전': 997,\n",
              " '나르다': 998,\n",
              " '가득': 999,\n",
              " '그만큼': 1000,\n",
              " ...}"
            ]
          },
          "metadata": {},
          "execution_count": 62
        }
      ]
    },
    {
      "cell_type": "code",
      "source": [
        "threshold = 2\n",
        "total_cnt = len(tokenizer.word_index) # 단어의 수\n",
        "rare_cnt = 0 # 등장 빈도수가 threshold보다 작은 단어의 개수를 카운트\n",
        "total_freq = 0 # 훈련 데이터의 전체 단어 빈도수 총 합\n",
        "rare_freq = 0 # 등장 빈도수가 threshold보다 작은 단어의 등장 빈도수의 총 합\n",
        "\n",
        "for key, value in tokenizer.word_counts.items():\n",
        "    total_freq = total_freq + value\n",
        "\n",
        "    # 단어의 등장 빈도수가 threshold보다 작으면\n",
        "    if(value < threshold):\n",
        "        rare_cnt = rare_cnt + 1\n",
        "        rare_freq = rare_freq + value\n",
        "\n",
        "print('단어 집합(vocabulary)의 크기 :',total_cnt)\n",
        "print('등장 빈도가 %s번 이하인 희귀 단어의 수: %s'%(threshold - 1, rare_cnt))\n",
        "print(\"단어 집합에서 희귀 단어의 비율:\", (rare_cnt / total_cnt)*100)\n",
        "print(\"전체 등장 빈도에서 희귀 단어 등장 빈도 비율:\", (rare_freq / total_freq)*100)"
      ],
      "metadata": {
        "colab": {
          "base_uri": "https://localhost:8080/"
        },
        "id": "0MbaQbgF-lTA",
        "outputId": "d072eb66-d235-4dd8-fb34-0572af7836cb"
      },
      "execution_count": null,
      "outputs": [
        {
          "output_type": "stream",
          "name": "stdout",
          "text": [
            "단어 집합(vocabulary)의 크기 : 12483\n",
            "등장 빈도가 1번 이하인 희귀 단어의 수: 6082\n",
            "단어 집합에서 희귀 단어의 비율: 48.722262276696306\n",
            "전체 등장 빈도에서 희귀 단어 등장 빈도 비율: 1.8956607384412072\n"
          ]
        }
      ]
    },
    {
      "cell_type": "code",
      "source": [
        "# 빈도수가 1인 단어들의 수를 제외한 단어의 개수를 단어 집합의 최대 크기로 제한\n",
        "vocab_size = total_cnt - rare_cnt + 2  # 0번 패딩 토큰과 1번 OOV 토큰을 고려하여 +2\n",
        "print('단어 집합의 크기 :',vocab_size)"
      ],
      "metadata": {
        "colab": {
          "base_uri": "https://localhost:8080/"
        },
        "id": "lOUzoX37-lP5",
        "outputId": "30923eef-ffaf-45a7-f04f-697e97232b6e"
      },
      "execution_count": null,
      "outputs": [
        {
          "output_type": "stream",
          "name": "stdout",
          "text": [
            "단어 집합의 크기 : 6403\n"
          ]
        }
      ]
    },
    {
      "cell_type": "code",
      "source": [
        "# 단어 집합의 크기를 토크나이저의 인자로 넘겨주면, 토크나이저는 텍스트 시퀀스를 숫자 시퀀스로 변환\n",
        "# 이러한 정수 인코딩 과정에서 이보다 큰 숫자가 부여된 단어들은 OOV로 변환\n",
        "tokenizer = Tokenizer(vocab_size, oov_token = 'OOV')\n",
        "tokenizer.fit_on_texts(X_train)\n",
        "\n",
        "X_train = tokenizer.texts_to_sequences(X_train)\n",
        "X_test = tokenizer.texts_to_sequences(X_test)"
      ],
      "metadata": {
        "id": "D--m7B8U-lMb"
      },
      "execution_count": null,
      "outputs": []
    },
    {
      "cell_type": "code",
      "source": [
        "import pickle\n",
        "\n",
        "# Tokenizer 저장\n",
        "with open('/content/drive/MyDrive/Colab Notebooks/SW캠프 데이터 비즈니스 과정/Re:Source/tokenizer/tokenizer.pickle', 'wb') as handle:\n",
        "    pickle.dump(tokenizer, handle, protocol=pickle.HIGHEST_PROTOCOL)"
      ],
      "metadata": {
        "id": "QPUk_yNyenOp"
      },
      "execution_count": null,
      "outputs": []
    },
    {
      "cell_type": "markdown",
      "source": [
        "## 2. 패딩"
      ],
      "metadata": {
        "id": "OluIUuWUDGWT"
      }
    },
    {
      "cell_type": "code",
      "source": [
        "# X_train_seq에 있는 내부 리스트의 개수(시퀀스 길이)를 반환하여 리스트에 저장\n",
        "X_train_len = [len(doc) for doc in X_train]\n",
        "\n",
        "print(\"최대값:\", max(X_train_len))\n",
        "print(\"최소값:\", min(X_train_len))\n",
        "print(\"평균값:\", np.mean(X_train_len))\n",
        "print(\"중앙값:\", np.median(X_train_len))\n",
        "\n",
        "# 히스토그램으로 리뷰 길이의 분포를 확인해보자!\n",
        "plt.hist(X_train_len, bins=20)\n",
        "plt.xlabel('review_len')\n",
        "plt.ylabel('review_count')\n",
        "plt.show()"
      ],
      "metadata": {
        "colab": {
          "base_uri": "https://localhost:8080/",
          "height": 518
        },
        "id": "faM7VbwX-lJ0",
        "outputId": "31e995ff-5d5c-4bc6-d37e-a8aad5b7856a"
      },
      "execution_count": null,
      "outputs": [
        {
          "output_type": "stream",
          "name": "stdout",
          "text": [
            "최대값: 150\n",
            "최소값: 0\n",
            "평균값: 10.433077523413111\n",
            "중앙값: 7.0\n"
          ]
        },
        {
          "output_type": "display_data",
          "data": {
            "text/plain": [
              "<Figure size 640x480 with 1 Axes>"
            ],
            "image/png": "[encoded data removed]"
          },
          "metadata": {}
        }
      ]
    },
    {
      "cell_type": "code",
      "source": [
        "# max_len으로 패딩할 경우, 완전히 보전할 수 있는지의 비율\n",
        "def below_threshold_len(max_len, nested_list):\n",
        "  '''매개변수 : max_len(패딩할 최대 길이), nested_list(학습 시퀀스 데이터)'''\n",
        "  count = 0\n",
        "  for sentence in nested_list:\n",
        "    if(len(sentence) <= max_len):\n",
        "        count = count + 1\n",
        "  print('전체 샘플 중 길이가 %s 이하인 샘플의 비율: %s'%(max_len, (count / len(nested_list))*100))"
      ],
      "metadata": {
        "id": "Q9TPAMouDGEW"
      },
      "execution_count": null,
      "outputs": []
    },
    {
      "cell_type": "code",
      "source": [
        "max_len = 110\n",
        "below_threshold_len(max_len, X_train)"
      ],
      "metadata": {
        "colab": {
          "base_uri": "https://localhost:8080/"
        },
        "id": "qrW8slFjDixP",
        "outputId": "e5156120-941c-416d-908f-d0ace7d3703f"
      },
      "execution_count": null,
      "outputs": [
        {
          "output_type": "stream",
          "name": "stdout",
          "text": [
            "전체 샘플 중 길이가 110 이하인 샘플의 비율: 99.98048907388137\n"
          ]
        }
      ]
    },
    {
      "cell_type": "markdown",
      "source": [
        "- 99.98%가 120이하의 길이를 가지므로, 120로 패딩"
      ],
      "metadata": {
        "id": "gZCJ1RmeEIE6"
      }
    },
    {
      "cell_type": "code",
      "source": [
        "X_train = pad_sequences(X_train, maxlen=110)\n",
        "X_test = pad_sequences(X_test, maxlen=110)\n",
        "print(X_train.shape, X_test.shape)"
      ],
      "metadata": {
        "colab": {
          "base_uri": "https://localhost:8080/"
        },
        "id": "fNHXGWU6EPDH",
        "outputId": "44c9b64a-6cbd-4ef4-a48f-4b077c0ef8fc"
      },
      "execution_count": null,
      "outputs": [
        {
          "output_type": "stream",
          "name": "stdout",
          "text": [
            "(30752, 110) (7688, 110)\n"
          ]
        }
      ]
    },
    {
      "cell_type": "markdown",
      "source": [
        "## 3. 모델 학습 Embedding + LSTM"
      ],
      "metadata": {
        "id": "13EbJ0fpE5H2"
      }
    },
    {
      "cell_type": "code",
      "source": [
        "save_path = '/content/drive/MyDrive/Colab Notebooks/SW캠프 데이터 비즈니스 과정/Re:Source/model/lstm2_{epoch:03d}_{val_acc:.4f}.hdf5'\n",
        "\n",
        "f_mckp = ModelCheckpoint(filepath = save_path,  # 파일 경로\n",
        "                         monitor = 'val_acc',   # 파일을 저장할지 결정하는 기준\n",
        "                         save_best_only = True, # monitor값이 가장 최고점 혹은 최저점을 갱신했을 경우 모델을 저장 여부\n",
        "                         mode = 'max',          # save_best_only가 True일 경우, 갱신 값의 최대,최소를 결정(디폴드가 max)\n",
        "                         verbose = 1            # 모델 개선 및 저장 메시지를 출력방식(0,1,2)\n",
        "                         )\n",
        "f_early = EarlyStopping(monitor = 'val_acc',\n",
        "                        patience = 5 # monitor의 값 개선을 몇 번이나 기다려줄지를 결정\n",
        "                        )\n",
        "\n",
        "# 신경망 모델 구조 설계\n",
        "embedding_dim = 100\n",
        "\n",
        "model = Sequential()\n",
        "model.add(Embedding(input_dim=vocab_size, output_dim=embedding_dim))\n",
        "  # Embedding의 매개변수 설명\n",
        "  # model.add(Embedding(input_dim=vocab_size, output_dim=embedding_dim, input_length=max_sequence_length))\n",
        "    # input_dim : 단어사전 크기 (=유일한 단어의 수)\n",
        "    # output_dim : 임베딩 차원, (각 단어를 나타내는 벡터의 크기)\n",
        "    # input_length : 입력 시퀀스의 길이 (->모든 시퀀스를 동일한 길이로 패딩)\n",
        "model.add(LSTM(128, input_shape=(120,embedding_dim), return_sequences=True))\n",
        "  # 첫번째 LSTM의 매개변수 설명\n",
        "  # model.add(LSTM(히든 유닛 수, input_shape=(max_sequence_length, embedding_dim)))\n",
        "    # input_shape : (입력 시퀀스의 길이=tiemstemps=반복수, 각 시퀀스 요소의 특성 수=input_dim)\n",
        "    # return_sequences=True : LSTM을 여러 층 할 경우, 출력을 시퀀스로 반환\n",
        "model.add(LSTM(256))\n",
        "  # 일반적으로 첫 번째 LSTM 층의 hidden units 수는 상대적으로 적게 설정하고, 이후의 층에서는 점차 증가시키는 것이 일반적인 방법\n",
        "model.add(Dense(1, activation='sigmoid'))\n",
        "\n",
        "model.compile(loss='binary_crossentropy',\n",
        "              optimizer='Adam',\n",
        "              metrics=['acc'])\n",
        "\n",
        "h = model.fit(X_train, y_train,\n",
        "              validation_split=0.2,\n",
        "              batch_size=128,\n",
        "              epochs=100,\n",
        "              callbacks = [f_mckp, f_early])"
      ],
      "metadata": {
        "colab": {
          "base_uri": "https://localhost:8080/"
        },
        "id": "3QhxxuHVE7Cs",
        "outputId": "0c49c998-072c-46f8-a915-11b7ac0ae8d0"
      },
      "execution_count": null,
      "outputs": [
        {
          "output_type": "stream",
          "name": "stdout",
          "text": [
            "Epoch 1/100\n",
            "193/193 [==============================] - ETA: 0s - loss: 0.4025 - acc: 0.8152\n",
            "Epoch 1: val_acc improved from -inf to 0.88116, saving model to /content/drive/MyDrive/Colab Notebooks/SW캠프 데이터 비즈니스 과정/Re:Source/model/lstm2_001_0.8812.hdf5\n"
          ]
        },
        {
          "output_type": "stream",
          "name": "stderr",
          "text": [
            "/usr/local/lib/python3.10/dist-packages/keras/src/engine/training.py:3000: UserWarning: You are saving your model as an HDF5 file via `model.save()`. This file format is considered legacy. We recommend using instead the native Keras format, e.g. `model.save('my_model.keras')`.\n",
            "  saving_api.save_model(\n"
          ]
        },
        {
          "output_type": "stream",
          "name": "stdout",
          "text": [
            "\b\b\b\b\b\b\b\b\b\b\b\b\b\b\b\b\b\b\b\b\b\b\b\b\b\b\b\b\b\b\b\b\b\b\b\b\b\b\b\b\b\b\b\b\b\b\b\b\b\b\b\b\b\b\b\b\b\b\b\b\b\b\b\b\b\b\b\b\b\b\b\b\b\b\b\b\b\b\b\r193/193 [==============================] - 323s 2s/step - loss: 0.4025 - acc: 0.8152 - val_loss: 0.3031 - val_acc: 0.8812\n",
            "Epoch 2/100\n",
            "193/193 [==============================] - ETA: 0s - loss: 0.3833 - acc: 0.8391\n",
            "Epoch 2: val_acc did not improve from 0.88116\n",
            "193/193 [==============================] - 284s 1s/step - loss: 0.3833 - acc: 0.8391 - val_loss: 0.3057 - val_acc: 0.8766\n",
            "Epoch 3/100\n",
            "193/193 [==============================] - ETA: 0s - loss: 0.2470 - acc: 0.9031\n",
            "Epoch 3: val_acc did not improve from 0.88116\n",
            "193/193 [==============================] - 303s 2s/step - loss: 0.2470 - acc: 0.9031 - val_loss: 0.3139 - val_acc: 0.8760\n",
            "Epoch 4/100\n",
            "193/193 [==============================] - ETA: 0s - loss: 0.2237 - acc: 0.9146\n",
            "Epoch 4: val_acc did not improve from 0.88116\n",
            "193/193 [==============================] - 304s 2s/step - loss: 0.2237 - acc: 0.9146 - val_loss: 0.3113 - val_acc: 0.8771\n",
            "Epoch 5/100\n",
            "193/193 [==============================] - ETA: 0s - loss: 0.2042 - acc: 0.9228\n",
            "Epoch 5: val_acc did not improve from 0.88116\n",
            "193/193 [==============================] - 304s 2s/step - loss: 0.2042 - acc: 0.9228 - val_loss: 0.3259 - val_acc: 0.8784\n",
            "Epoch 6/100\n",
            "193/193 [==============================] - ETA: 0s - loss: 0.1901 - acc: 0.9291\n",
            "Epoch 6: val_acc did not improve from 0.88116\n",
            "193/193 [==============================] - 304s 2s/step - loss: 0.1901 - acc: 0.9291 - val_loss: 0.3491 - val_acc: 0.8744\n"
          ]
        }
      ]
    },
    {
      "cell_type": "code",
      "source": [
        "#################### lstm3 : 데이터 전처리 과정 추가\n",
        "save_path = '/content/drive/MyDrive/Colab Notebooks/SW캠프 데이터 비즈니스 과정/Re:Source/model/lstm3_{epoch:03d}_{val_acc:.4f}.hdf5'\n",
        "\n",
        "f_mckp = ModelCheckpoint(filepath = save_path,  # 파일 경로\n",
        "                         monitor = 'val_acc',   # 파일을 저장할지 결정하는 기준\n",
        "                         save_best_only = True, # monitor값이 가장 최고점 혹은 최저점을 갱신했을 경우 모델을 저장 여부\n",
        "                         mode = 'max',          # save_best_only가 True일 경우, 갱신 값의 최대,최소를 결정(디폴드가 max)\n",
        "                         verbose = 1            # 모델 개선 및 저장 메시지를 출력방식(0,1,2)\n",
        "                         )\n",
        "f_early = EarlyStopping(monitor = 'val_acc',\n",
        "                        patience = 5 # monitor의 값 개선을 몇 번이나 기다려줄지를 결정\n",
        "                        )\n",
        "\n",
        "# 신경망 모델 구조 설계\n",
        "embedding_dim = 100\n",
        "\n",
        "model = Sequential()\n",
        "model.add(Embedding(input_dim=vocab_size, output_dim=embedding_dim))\n",
        "model.add(LSTM(128, input_shape=(120,embedding_dim), return_sequences=True))\n",
        "model.add(LSTM(256))\n",
        "model.add(Dense(1, activation='sigmoid'))\n",
        "\n",
        "model.compile(loss='binary_crossentropy',\n",
        "              optimizer='Adam',\n",
        "              metrics=['acc'])\n",
        "\n",
        "h = model.fit(X_train, y_train,\n",
        "              validation_split=0.2,\n",
        "              batch_size=128,\n",
        "              epochs=100,\n",
        "              callbacks = [f_mckp, f_early])"
      ],
      "metadata": {
        "id": "E4QeuJbWxx0x",
        "colab": {
          "base_uri": "https://localhost:8080/"
        },
        "outputId": "21ec9331-4457-4df9-c99f-a9d732a75c7b"
      },
      "execution_count": null,
      "outputs": [
        {
          "output_type": "stream",
          "name": "stdout",
          "text": [
            "Epoch 1/100\n",
            "193/193 [==============================] - ETA: 0s - loss: 0.3738 - acc: 0.8324\n",
            "Epoch 1: val_acc improved from -inf to 0.88716, saving model to /content/drive/MyDrive/Colab Notebooks/SW캠프 데이터 비즈니스 과정/Re:Source/model/lstm3_001_0.8872.hdf5\n",
            "193/193 [==============================] - 342s 2s/step - loss: 0.3738 - acc: 0.8324 - val_loss: 0.2771 - val_acc: 0.8872\n",
            "Epoch 2/100\n"
          ]
        },
        {
          "output_type": "stream",
          "name": "stderr",
          "text": [
            "/usr/local/lib/python3.10/dist-packages/keras/src/engine/training.py:3079: UserWarning: You are saving your model as an HDF5 file via `model.save()`. This file format is considered legacy. We recommend using instead the native Keras format, e.g. `model.save('my_model.keras')`.\n",
            "  saving_api.save_model(\n"
          ]
        },
        {
          "output_type": "stream",
          "name": "stdout",
          "text": [
            "193/193 [==============================] - ETA: 0s - loss: 0.2318 - acc: 0.9109\n",
            "Epoch 2: val_acc improved from 0.88716 to 0.88878, saving model to /content/drive/MyDrive/Colab Notebooks/SW캠프 데이터 비즈니스 과정/Re:Source/model/lstm3_002_0.8888.hdf5\n",
            "193/193 [==============================] - 324s 2s/step - loss: 0.2318 - acc: 0.9109 - val_loss: 0.2786 - val_acc: 0.8888\n",
            "Epoch 3/100\n",
            "193/193 [==============================] - ETA: 0s - loss: 0.2100 - acc: 0.9212\n",
            "Epoch 3: val_acc did not improve from 0.88878\n",
            "193/193 [==============================] - 325s 2s/step - loss: 0.2100 - acc: 0.9212 - val_loss: 0.2868 - val_acc: 0.8875\n",
            "Epoch 4/100\n",
            "193/193 [==============================] - ETA: 0s - loss: 0.1816 - acc: 0.9341\n",
            "Epoch 4: val_acc did not improve from 0.88878\n",
            "193/193 [==============================] - 324s 2s/step - loss: 0.1816 - acc: 0.9341 - val_loss: 0.3181 - val_acc: 0.8849\n",
            "Epoch 5/100\n",
            "193/193 [==============================] - ETA: 0s - loss: 0.1676 - acc: 0.9374\n",
            "Epoch 5: val_acc did not improve from 0.88878\n",
            "193/193 [==============================] - 325s 2s/step - loss: 0.1676 - acc: 0.9374 - val_loss: 0.3107 - val_acc: 0.8802\n",
            "Epoch 6/100\n",
            "193/193 [==============================] - ETA: 0s - loss: 0.1516 - acc: 0.9452\n",
            "Epoch 6: val_acc did not improve from 0.88878\n",
            "193/193 [==============================] - 325s 2s/step - loss: 0.1516 - acc: 0.9452 - val_loss: 0.3425 - val_acc: 0.8781\n",
            "Epoch 7/100\n",
            "193/193 [==============================] - ETA: 0s - loss: 0.1402 - acc: 0.9499\n",
            "Epoch 7: val_acc did not improve from 0.88878\n",
            "193/193 [==============================] - 323s 2s/step - loss: 0.1402 - acc: 0.9499 - val_loss: 0.3987 - val_acc: 0.8816\n"
          ]
        }
      ]
    },
    {
      "cell_type": "code",
      "source": [
        "plt.figure(figsize=(15,5))\n",
        "\n",
        "plt.plot(h.history['acc'], label='acc', color='pink')\n",
        "plt.plot(h.history['val_acc'], label='val_acc', color='yellow')\n",
        "\n",
        "plt.legend()\n",
        "plt.show()"
      ],
      "metadata": {
        "colab": {
          "base_uri": "https://localhost:8080/",
          "height": 369
        },
        "id": "hKVxjNvpOnfn",
        "outputId": "8715666c-db14-4223-e705-0a9af4c6a271"
      },
      "execution_count": null,
      "outputs": [
        {
          "output_type": "display_data",
          "data": {
            "text/plain": [
              "<Figure size 1500x500 with 1 Axes>"
            ],
            "image/png": "[encoded data removed]"
          },
          "metadata": {}
        }
      ]
    },
    {
      "cell_type": "markdown",
      "source": [
        "## 평가 0.8938"
      ],
      "metadata": {
        "id": "97lwNuqJgyxy"
      }
    },
    {
      "cell_type": "code",
      "source": [
        "best_model = load_model('/content/drive/MyDrive/Colab Notebooks/SW캠프 데이터 비즈니스 과정/Re:Source/model/lstm3_002_0.8888.hdf5')\n",
        "\n",
        "pre = best_model.predict(X_test)   # 예측값 구하기 (각 클래스에 대한 확률)\n",
        "y_pred = (best_model.predict(X_test) > 0.5).astype(int) # 0.5보다 크면 1, 아니면 0\n",
        "\n",
        "print(classification_report(y_test, y_pred))"
      ],
      "metadata": {
        "colab": {
          "base_uri": "https://localhost:8080/"
        },
        "outputId": "5952ef55-4611-45e1-af83-73d84715ec29",
        "id": "CN2yPF-rgxwn"
      },
      "execution_count": null,
      "outputs": [
        {
          "output_type": "stream",
          "name": "stdout",
          "text": [
            "241/241 [==============================] - 51s 207ms/step\n",
            "241/241 [==============================] - 45s 188ms/step\n",
            "              precision    recall  f1-score   support\n",
            "\n",
            "           0       0.88      0.92      0.89      3810\n",
            "           1       0.91      0.87      0.89      3900\n",
            "\n",
            "    accuracy                           0.89      7710\n",
            "   macro avg       0.89      0.89      0.89      7710\n",
            "weighted avg       0.89      0.89      0.89      7710\n",
            "\n"
          ]
        }
      ]
    },
    {
      "cell_type": "code",
      "source": [
        "print(\"테스트 정확도: %.4f\" % (best_model.evaluate(X_test, y_test)[1]))"
      ],
      "metadata": {
        "colab": {
          "base_uri": "https://localhost:8080/"
        },
        "outputId": "5b5ea73a-3554-42a3-ae68-5cbfee9997aa",
        "id": "25W_o81Ugxwn"
      },
      "execution_count": null,
      "outputs": [
        {
          "output_type": "stream",
          "name": "stdout",
          "text": [
            "241/241 [==============================] - 47s 190ms/step - loss: 0.2722 - acc: 0.8938\n",
            "테스트 정확도: 0.8938\n"
          ]
        }
      ]
    },
    {
      "cell_type": "code",
      "source": [
        "# 추정결과 confusion matrix\n",
        "c_mat = confusion_matrix(y_true = y_test, y_pred = y_pred)\n",
        "plt.figure(figsize=(4, 3))\n",
        "sns.heatmap(c_mat, annot=True, annot_kws={'size':15}, cmap='OrRd', fmt='.10g')\n",
        "plt.title('Confusion Matrix')\n",
        "plt.show()"
      ],
      "metadata": {
        "colab": {
          "base_uri": "https://localhost:8080/",
          "height": 312
        },
        "outputId": "d1146c6b-4f60-4c01-cb84-ddc3f4df161f",
        "id": "dUdeRyIKgxwo"
      },
      "execution_count": null,
      "outputs": [
        {
          "output_type": "display_data",
          "data": {
            "text/plain": [
              "<Figure size 400x300 with 2 Axes>"
            ],
            "image/png": "[encoded data removed]"
          },
          "metadata": {}
        }
      ]
    },
    {
      "cell_type": "markdown",
      "source": [
        "# BiLSTM 모델링\n",
        "- 양방향 LSTM 모델링\n",
        "- LSTM 모델링 시 정수인코딩 작업 다시 한 후, 모델링하기"
      ],
      "metadata": {
        "id": "-PJ5Bpn7LBuD"
      }
    },
    {
      "cell_type": "markdown",
      "source": [
        "## 모델 학습 Embedding + BiLSTM"
      ],
      "metadata": {
        "id": "8MZiyo6bZS5w"
      }
    },
    {
      "cell_type": "code",
      "source": [
        "save_path = '/content/drive/MyDrive/Colab Notebooks/SW캠프 데이터 비즈니스 과정/Re:Source/model/bilstm7_{epoch:03d}_{val_acc:.4f}.hdf5'\n",
        "\n",
        "f_mckp = ModelCheckpoint(filepath = save_path,  # 파일 경로\n",
        "                         monitor = 'val_acc',   # 파일을 저장할지 결정하는 기준\n",
        "                         save_best_only = True, # monitor값이 가장 최고점 혹은 최저점을 갱신했을 경우 모델을 저장 여부\n",
        "                         mode = 'max',          # save_best_only가 True일 경우, 갱신 값의 최대,최소를 결정(디폴드가 max)\n",
        "                         verbose = 1            # 모델 개선 및 저장 메시지를 출력방식(0,1,2)\n",
        "                         )\n",
        "f_early = EarlyStopping(monitor = 'val_acc',\n",
        "                        patience = 5 # monitor의 값 개선을 몇 번이나 기다려줄지를 결정\n",
        "                        )\n",
        "\n",
        "embedding_dim = 100\n",
        "hidden_units = 128\n",
        "\n",
        "model = Sequential()\n",
        "model.add(Embedding(vocab_size, embedding_dim))\n",
        "model.add(Bidirectional(LSTM(hidden_units))) # Bidirectional LSTM을 사용\n",
        "model.add(Dense(1, activation='sigmoid'))\n",
        "\n",
        "model.compile(optimizer='rmsprop', loss='binary_crossentropy', metrics=['acc'])\n",
        "history = model.fit(X_train, y_train, epochs=30, callbacks=[f_early, f_mckp], batch_size=256, validation_split=0.2)\n"
      ],
      "metadata": {
        "colab": {
          "base_uri": "https://localhost:8080/"
        },
        "id": "VhCi29kCNXDu",
        "outputId": "858325e2-00bf-431e-bf05-4692e1797252"
      },
      "execution_count": null,
      "outputs": [
        {
          "output_type": "stream",
          "name": "stdout",
          "text": [
            "Epoch 1/30\n",
            "97/97 [==============================] - ETA: 0s - loss: 0.5537 - acc: 0.7394\n",
            "Epoch 1: val_acc improved from -inf to 0.86132, saving model to /content/drive/MyDrive/Colab Notebooks/SW캠프 데이터 비즈니스 과정/Re:Source/model/bilstm7_001_0.8613.hdf5\n"
          ]
        },
        {
          "output_type": "stream",
          "name": "stderr",
          "text": [
            "/usr/local/lib/python3.10/dist-packages/keras/src/engine/training.py:3079: UserWarning: You are saving your model as an HDF5 file via `model.save()`. This file format is considered legacy. We recommend using instead the native Keras format, e.g. `model.save('my_model.keras')`.\n",
            "  saving_api.save_model(\n"
          ]
        },
        {
          "output_type": "stream",
          "name": "stdout",
          "text": [
            "\b\b\b\b\b\b\b\b\b\b\b\b\b\b\b\b\b\b\b\b\b\b\b\b\b\b\b\b\b\b\b\b\b\b\b\b\b\b\b\b\b\b\b\b\b\b\b\b\b\b\b\b\b\b\b\b\b\b\b\b\b\b\b\b\b\b\b\b\b\b\b\b\b\b\b\b\b\r97/97 [==============================] - 127s 1s/step - loss: 0.5537 - acc: 0.7394 - val_loss: 0.3789 - val_acc: 0.8613\n",
            "Epoch 2/30\n",
            "97/97 [==============================] - ETA: 0s - loss: 0.3005 - acc: 0.8841\n",
            "Epoch 2: val_acc did not improve from 0.86132\n",
            "97/97 [==============================] - 119s 1s/step - loss: 0.3005 - acc: 0.8841 - val_loss: 0.3843 - val_acc: 0.8111\n",
            "Epoch 3/30\n",
            "97/97 [==============================] - ETA: 0s - loss: 0.2483 - acc: 0.9033\n",
            "Epoch 3: val_acc improved from 0.86132 to 0.89709, saving model to /content/drive/MyDrive/Colab Notebooks/SW캠프 데이터 비즈니스 과정/Re:Source/model/bilstm7_003_0.8971.hdf5\n",
            "97/97 [==============================] - 120s 1s/step - loss: 0.2483 - acc: 0.9033 - val_loss: 0.2706 - val_acc: 0.8971\n",
            "Epoch 4/30\n",
            "97/97 [==============================] - ETA: 0s - loss: 0.2243 - acc: 0.9127\n",
            "Epoch 4: val_acc did not improve from 0.89709\n",
            "97/97 [==============================] - 129s 1s/step - loss: 0.2243 - acc: 0.9127 - val_loss: 0.2676 - val_acc: 0.8937\n",
            "Epoch 5/30\n",
            "97/97 [==============================] - ETA: 0s - loss: 0.2109 - acc: 0.9190\n",
            "Epoch 5: val_acc improved from 0.89709 to 0.90327, saving model to /content/drive/MyDrive/Colab Notebooks/SW캠프 데이터 비즈니스 과정/Re:Source/model/bilstm7_005_0.9033.hdf5\n",
            "97/97 [==============================] - 120s 1s/step - loss: 0.2109 - acc: 0.9190 - val_loss: 0.2462 - val_acc: 0.9033\n",
            "Epoch 6/30\n",
            "97/97 [==============================] - ETA: 0s - loss: 0.1941 - acc: 0.9272\n",
            "Epoch 6: val_acc did not improve from 0.90327\n",
            "97/97 [==============================] - 130s 1s/step - loss: 0.1941 - acc: 0.9272 - val_loss: 0.2773 - val_acc: 0.8990\n",
            "Epoch 7/30\n",
            "97/97 [==============================] - ETA: 0s - loss: 0.1848 - acc: 0.9306\n",
            "Epoch 7: val_acc improved from 0.90327 to 0.90392, saving model to /content/drive/MyDrive/Colab Notebooks/SW캠프 데이터 비즈니스 과정/Re:Source/model/bilstm7_007_0.9039.hdf5\n",
            "97/97 [==============================] - 128s 1s/step - loss: 0.1848 - acc: 0.9306 - val_loss: 0.2465 - val_acc: 0.9039\n",
            "Epoch 8/30\n",
            "97/97 [==============================] - ETA: 0s - loss: 0.1785 - acc: 0.9337\n",
            "Epoch 8: val_acc improved from 0.90392 to 0.90749, saving model to /content/drive/MyDrive/Colab Notebooks/SW캠프 데이터 비즈니스 과정/Re:Source/model/bilstm7_008_0.9075.hdf5\n",
            "97/97 [==============================] - 129s 1s/step - loss: 0.1785 - acc: 0.9337 - val_loss: 0.2481 - val_acc: 0.9075\n",
            "Epoch 9/30\n",
            "97/97 [==============================] - ETA: 0s - loss: 0.1719 - acc: 0.9369\n",
            "Epoch 9: val_acc improved from 0.90749 to 0.90863, saving model to /content/drive/MyDrive/Colab Notebooks/SW캠프 데이터 비즈니스 과정/Re:Source/model/bilstm7_009_0.9086.hdf5\n",
            "97/97 [==============================] - 120s 1s/step - loss: 0.1719 - acc: 0.9369 - val_loss: 0.2594 - val_acc: 0.9086\n",
            "Epoch 10/30\n",
            "97/97 [==============================] - ETA: 0s - loss: 0.1666 - acc: 0.9382\n",
            "Epoch 10: val_acc improved from 0.90863 to 0.90896, saving model to /content/drive/MyDrive/Colab Notebooks/SW캠프 데이터 비즈니스 과정/Re:Source/model/bilstm7_010_0.9090.hdf5\n",
            "97/97 [==============================] - 129s 1s/step - loss: 0.1666 - acc: 0.9382 - val_loss: 0.2560 - val_acc: 0.9090\n",
            "Epoch 11/30\n",
            "97/97 [==============================] - ETA: 0s - loss: 0.1605 - acc: 0.9411\n",
            "Epoch 11: val_acc did not improve from 0.90896\n",
            "97/97 [==============================] - 119s 1s/step - loss: 0.1605 - acc: 0.9411 - val_loss: 0.3002 - val_acc: 0.9046\n",
            "Epoch 12/30\n",
            "97/97 [==============================] - ETA: 0s - loss: 0.1580 - acc: 0.9425\n",
            "Epoch 12: val_acc did not improve from 0.90896\n",
            "97/97 [==============================] - 130s 1s/step - loss: 0.1580 - acc: 0.9425 - val_loss: 0.2614 - val_acc: 0.9059\n",
            "Epoch 13/30\n",
            "97/97 [==============================] - ETA: 0s - loss: 0.1515 - acc: 0.9445\n",
            "Epoch 13: val_acc did not improve from 0.90896\n",
            "97/97 [==============================] - 120s 1s/step - loss: 0.1515 - acc: 0.9445 - val_loss: 0.2849 - val_acc: 0.8958\n",
            "Epoch 14/30\n",
            "97/97 [==============================] - ETA: 0s - loss: 0.1480 - acc: 0.9457\n",
            "Epoch 14: val_acc did not improve from 0.90896\n",
            "97/97 [==============================] - 128s 1s/step - loss: 0.1480 - acc: 0.9457 - val_loss: 0.2771 - val_acc: 0.8943\n",
            "Epoch 15/30\n",
            "97/97 [==============================] - ETA: 0s - loss: 0.1442 - acc: 0.9485\n",
            "Epoch 15: val_acc did not improve from 0.90896\n",
            "97/97 [==============================] - 118s 1s/step - loss: 0.1442 - acc: 0.9485 - val_loss: 0.2769 - val_acc: 0.9010\n"
          ]
        }
      ]
    },
    {
      "cell_type": "markdown",
      "source": [
        "## 평가 0.904"
      ],
      "metadata": {
        "id": "qTEgqFN9VA85"
      }
    },
    {
      "cell_type": "code",
      "source": [
        "###########################\n",
        "best_model = load_model('/content/drive/MyDrive/Colab Notebooks/SW캠프 데이터 비즈니스 과정/Re:Source/model/bilstm7_010_0.9090.hdf5')\n",
        "\n",
        "pre = best_model.predict(X_test)   # 예측값 구하기 (각 클래스에 대한 확률)\n",
        "y_pred = (pre > 0.5).astype(int) # 0.5보다 크면 1, 아니면 0\n",
        "\n",
        "print(classification_report(y_test, y_pred))"
      ],
      "metadata": {
        "colab": {
          "base_uri": "https://localhost:8080/"
        },
        "outputId": "92bd2bb1-3a36-4f06-86ca-33b120d5cf9f",
        "id": "yzAgZuDaVEvO"
      },
      "execution_count": null,
      "outputs": [
        {
          "output_type": "stream",
          "name": "stdout",
          "text": [
            "241/241 [==============================] - 24s 94ms/step\n",
            "              precision    recall  f1-score   support\n",
            "\n",
            "           0       0.90      0.91      0.90      3832\n",
            "           1       0.91      0.90      0.90      3856\n",
            "\n",
            "    accuracy                           0.90      7688\n",
            "   macro avg       0.90      0.90      0.90      7688\n",
            "weighted avg       0.90      0.90      0.90      7688\n",
            "\n"
          ]
        }
      ]
    },
    {
      "cell_type": "code",
      "source": [
        "print(\"테스트 정확도: %.4f\" % (best_model.evaluate(X_test, y_test)[1]))"
      ],
      "metadata": {
        "colab": {
          "base_uri": "https://localhost:8080/"
        },
        "outputId": "e825c2cf-73d3-486f-8b1a-1d3754e3302d",
        "id": "_AFX2CQdVEvP"
      },
      "execution_count": null,
      "outputs": [
        {
          "output_type": "stream",
          "name": "stdout",
          "text": [
            "241/241 [==============================] - 24s 93ms/step - loss: 0.2654 - acc: 0.9036\n",
            "테스트 정확도: 0.9036\n"
          ]
        }
      ]
    },
    {
      "cell_type": "code",
      "source": [
        "# 추정결과 confusion matrix\n",
        "c_mat = confusion_matrix(y_true = y_test, y_pred = y_pred)\n",
        "plt.figure(figsize=(4, 3))\n",
        "sns.heatmap(c_mat, annot=True, annot_kws={'size':15}, cmap='OrRd', fmt='.10g')\n",
        "plt.title('Confusion Matrix')\n",
        "plt.show()"
      ],
      "metadata": {
        "colab": {
          "base_uri": "https://localhost:8080/",
          "height": 312
        },
        "outputId": "e0cec513-9986-4b4a-e651-c9ca28916c4f",
        "id": "KS8aojnAVEvP"
      },
      "execution_count": null,
      "outputs": [
        {
          "output_type": "display_data",
          "data": {
            "text/plain": [
              "<Figure size 400x300 with 2 Axes>"
            ],
            "image/png": "[encoded data removed]"
          },
          "metadata": {}
        }
      ]
    },
    {
      "cell_type": "markdown",
      "source": [
        "# LSTM + GRU"
      ],
      "metadata": {
        "id": "PvgI-Yk7aT1X"
      }
    },
    {
      "cell_type": "code",
      "source": [
        "save_path = '/content/drive/MyDrive/Colab Notebooks/SW캠프 데이터 비즈니스 과정/Re:Source/model/lstm_gru3_{epoch:03d}_{val_acc:.4f}.hdf5'\n",
        "\n",
        "f_mckp = ModelCheckpoint(filepath = save_path,  # 파일 경로\n",
        "                         monitor = 'val_acc',   # 파일을 저장할지 결정하는 기준\n",
        "                         save_best_only = True, # monitor값이 가장 최고점 혹은 최저점을 갱신했을 경우 모델을 저장 여부\n",
        "                         mode = 'max',          # save_best_only가 True일 경우, 갱신 값의 최대,최소를 결정(디폴드가 max)\n",
        "                         verbose = 1            # 모델 개선 및 저장 메시지를 출력방식(0,1,2)\n",
        "                         )\n",
        "f_early = EarlyStopping(monitor = 'val_acc',\n",
        "                        patience = 5 # monitor의 값 개선을 몇 번이나 기다려줄지를 결정\n",
        "                        )\n",
        "\n",
        "# 신경망 모델 구조 설계\n",
        "embedding_dim = 100\n",
        "\n",
        "model = Sequential()\n",
        "model.add(Embedding(input_dim=vocab_size, output_dim=embedding_dim))\n",
        "\n",
        "model.add(LSTM(128, input_shape=(120,embedding_dim), return_sequences=True))\n",
        "model.add(GRU(128, return_sequences=True)) # GRU 층 추가\n",
        "\n",
        "model.add(LSTM(256))\n",
        "model.add(Dense(1, activation='sigmoid'))\n",
        "\n",
        "model.compile(loss='binary_crossentropy',\n",
        "              optimizer='Adam',\n",
        "              metrics=['acc'])\n",
        "\n",
        "h = model.fit(X_train, y_train,\n",
        "              validation_split=0.2,\n",
        "              batch_size=128,\n",
        "              epochs=100,\n",
        "              callbacks = [f_mckp, f_early])"
      ],
      "metadata": {
        "colab": {
          "base_uri": "https://localhost:8080/"
        },
        "id": "-Y4vPZQbrV0E",
        "outputId": "1553d4da-09f2-4600-80d2-31ccd320f3bd"
      },
      "execution_count": null,
      "outputs": [
        {
          "output_type": "stream",
          "name": "stdout",
          "text": [
            "Epoch 1/100\n",
            "193/193 [==============================] - ETA: 0s - loss: 0.3785 - acc: 0.8269\n",
            "Epoch 1: val_acc improved from -inf to 0.88846, saving model to /content/drive/MyDrive/Colab Notebooks/SW캠프 데이터 비즈니스 과정/Re:Source/model/lstm_gru3_001_0.8885.hdf5\n",
            "193/193 [==============================] - 404s 2s/step - loss: 0.3785 - acc: 0.8269 - val_loss: 0.2845 - val_acc: 0.8885\n",
            "Epoch 2/100\n"
          ]
        },
        {
          "output_type": "stream",
          "name": "stderr",
          "text": [
            "/usr/local/lib/python3.10/dist-packages/keras/src/engine/training.py:3079: UserWarning: You are saving your model as an HDF5 file via `model.save()`. This file format is considered legacy. We recommend using instead the native Keras format, e.g. `model.save('my_model.keras')`.\n",
            "  saving_api.save_model(\n"
          ]
        },
        {
          "output_type": "stream",
          "name": "stdout",
          "text": [
            "193/193 [==============================] - ETA: 0s - loss: 0.2336 - acc: 0.9111\n",
            "Epoch 2: val_acc improved from 0.88846 to 0.89202, saving model to /content/drive/MyDrive/Colab Notebooks/SW캠프 데이터 비즈니스 과정/Re:Source/model/lstm_gru3_002_0.8920.hdf5\n",
            "193/193 [==============================] - 400s 2s/step - loss: 0.2336 - acc: 0.9111 - val_loss: 0.2824 - val_acc: 0.8920\n",
            "Epoch 3/100\n",
            "193/193 [==============================] - ETA: 0s - loss: 0.1975 - acc: 0.9245\n",
            "Epoch 3: val_acc did not improve from 0.89202\n",
            "193/193 [==============================] - 401s 2s/step - loss: 0.1975 - acc: 0.9245 - val_loss: 0.2897 - val_acc: 0.8865\n",
            "Epoch 4/100\n",
            "193/193 [==============================] - ETA: 0s - loss: 0.1752 - acc: 0.9340\n",
            "Epoch 4: val_acc did not improve from 0.89202\n",
            "193/193 [==============================] - 397s 2s/step - loss: 0.1752 - acc: 0.9340 - val_loss: 0.2946 - val_acc: 0.8873\n",
            "Epoch 5/100\n",
            "193/193 [==============================] - ETA: 0s - loss: 0.1569 - acc: 0.9432\n",
            "Epoch 5: val_acc did not improve from 0.89202\n",
            "193/193 [==============================] - 401s 2s/step - loss: 0.1569 - acc: 0.9432 - val_loss: 0.3214 - val_acc: 0.8839\n",
            "Epoch 6/100\n",
            "193/193 [==============================] - ETA: 0s - loss: 0.1388 - acc: 0.9512\n",
            "Epoch 6: val_acc did not improve from 0.89202\n",
            "193/193 [==============================] - 398s 2s/step - loss: 0.1388 - acc: 0.9512 - val_loss: 0.3841 - val_acc: 0.8779\n",
            "Epoch 7/100\n",
            "193/193 [==============================] - ETA: 0s - loss: 0.1251 - acc: 0.9559\n",
            "Epoch 7: val_acc did not improve from 0.89202\n",
            "193/193 [==============================] - 398s 2s/step - loss: 0.1251 - acc: 0.9559 - val_loss: 0.4015 - val_acc: 0.8807\n"
          ]
        }
      ]
    },
    {
      "cell_type": "code",
      "source": [
        "plt.figure(figsize=(15,5))\n",
        "\n",
        "plt.plot(h.history['acc'], label='acc', color='pink')\n",
        "plt.plot(h.history['val_acc'], label='val_acc', color='yellow')\n",
        "\n",
        "plt.legend()\n",
        "plt.show()"
      ],
      "metadata": {
        "colab": {
          "base_uri": "https://localhost:8080/",
          "height": 369
        },
        "id": "e3pwEFWYp3JV",
        "outputId": "6359d17d-d653-4bf5-f9b1-b0a55dd93373"
      },
      "execution_count": null,
      "outputs": [
        {
          "output_type": "display_data",
          "data": {
            "text/plain": [
              "<Figure size 1500x500 with 1 Axes>"
            ],
            "image/png": "[encoded data removed]"
          },
          "metadata": {}
        }
      ]
    },
    {
      "cell_type": "markdown",
      "source": [
        "## 평가 0.887"
      ],
      "metadata": {
        "id": "drLE1dCY2KTn"
      }
    },
    {
      "cell_type": "code",
      "source": [
        "best_model = load_model('/content/drive/MyDrive/Colab Notebooks/SW캠프 데이터 비즈니스 과정/Re:Source/model/lstm_gru2_002_0.8818.hdf5')\n",
        "\n",
        "pre = best_model.predict(X_test)   # 예측값 구하기 (각 클래스에 대한 확률)\n",
        "y_pred = (pre > 0.5).astype(int) # 0.5보다 크면 1, 아니면 0\n",
        "\n",
        "print(classification_report(y_test, y_pred))"
      ],
      "metadata": {
        "colab": {
          "base_uri": "https://localhost:8080/"
        },
        "outputId": "355eefe0-edb3-4256-ba8d-6cbcdb82e7b1",
        "id": "Lv9EaSUc2MyK"
      },
      "execution_count": null,
      "outputs": [
        {
          "output_type": "stream",
          "name": "stdout",
          "text": [
            "241/241 [==============================] - 67s 271ms/step\n",
            "              precision    recall  f1-score   support\n",
            "\n",
            "           0       0.86      0.92      0.89      3811\n",
            "           1       0.92      0.85      0.88      3899\n",
            "\n",
            "    accuracy                           0.89      7710\n",
            "   macro avg       0.89      0.89      0.89      7710\n",
            "weighted avg       0.89      0.89      0.89      7710\n",
            "\n"
          ]
        }
      ]
    },
    {
      "cell_type": "code",
      "source": [
        "print(\"테스트 정확도: %.4f\" % (best_model.evaluate(X_test, y_test)[1]))"
      ],
      "metadata": {
        "colab": {
          "base_uri": "https://localhost:8080/"
        },
        "outputId": "259cdc77-dd92-4e10-e29b-feaf1d00e952",
        "id": "CM6ugK_v2MyQ"
      },
      "execution_count": null,
      "outputs": [
        {
          "output_type": "stream",
          "name": "stdout",
          "text": [
            "241/241 [==============================] - 65s 266ms/step - loss: 0.3011 - acc: 0.8866\n",
            "테스트 정확도: 0.8866\n"
          ]
        }
      ]
    },
    {
      "cell_type": "code",
      "source": [
        "# 추정결과 confusion matrix\n",
        "c_mat = confusion_matrix(y_true = y_test, y_pred = y_pred)\n",
        "plt.figure(figsize=(4, 3))\n",
        "sns.heatmap(c_mat, annot=True, annot_kws={'size':15}, cmap='OrRd', fmt='.10g')\n",
        "plt.title('Confusion Matrix')\n",
        "plt.show()"
      ],
      "metadata": {
        "colab": {
          "base_uri": "https://localhost:8080/",
          "height": 312
        },
        "outputId": "c4338fbe-d223-4662-afc8-dd0d4f9198ec",
        "id": "S0fKR7s12MyR"
      },
      "execution_count": null,
      "outputs": [
        {
          "output_type": "display_data",
          "data": {
            "text/plain": [
              "<Figure size 400x300 with 2 Axes>"
            ],
            "image/png": "[encoded data removed]"
          },
          "metadata": {}
        }
      ]
    },
    {
      "cell_type": "markdown",
      "source": [
        "# BiLSTM + GRU"
      ],
      "metadata": {
        "id": "pbNBYdVzrA_9"
      }
    },
    {
      "cell_type": "code",
      "source": [
        "save_path = '/content/drive/MyDrive/Colab Notebooks/SW캠프 데이터 비즈니스 과정/Re:Source/model/bilstm_gru3_{epoch:03d}_{val_acc:.4f}.hdf5'\n",
        "\n",
        "f_mckp = ModelCheckpoint(filepath = save_path,  # 파일 경로\n",
        "                         monitor = 'val_acc',   # 파일을 저장할지 결정하는 기준\n",
        "                         save_best_only = True, # monitor값이 가장 최고점 혹은 최저점을 갱신했을 경우 모델을 저장 여부\n",
        "                         mode = 'max',          # save_best_only가 True일 경우, 갱신 값의 최대,최소를 결정(디폴드가 max)\n",
        "                         verbose = 1            # 모델 개선 및 저장 메시지를 출력방식(0,1,2)\n",
        "                         )\n",
        "f_early = EarlyStopping(monitor = 'val_acc',\n",
        "                        patience = 5 # monitor의 값 개선을 몇 번이나 기다려줄지를 결정\n",
        "                        )\n",
        "\n",
        "embedding_dim = 100\n",
        "hidden_units = 128\n",
        "\n",
        "model = Sequential()\n",
        "model.add(Embedding(vocab_size, embedding_dim))\n",
        "model.add(Bidirectional(LSTM(hidden_units, return_sequences=True))) # Bidirectional LSTM을 사용\n",
        "model.add(GRU(128))  # GRU 층\n",
        "model.add(Dense(1, activation='sigmoid'))\n",
        "\n",
        "model.compile(optimizer='rmsprop', loss='binary_crossentropy', metrics=['acc'])\n",
        "history = model.fit(X_train, y_train, epochs=100, callbacks=[f_early, f_mckp], batch_size=256, validation_split=0.2)\n"
      ],
      "metadata": {
        "colab": {
          "base_uri": "https://localhost:8080/"
        },
        "id": "-6WrBm-U4Xrl",
        "outputId": "478ea4c3-0aae-440e-ffb5-005dc9ca5255"
      },
      "execution_count": null,
      "outputs": [
        {
          "output_type": "stream",
          "name": "stdout",
          "text": [
            "Epoch 1/100\n",
            "97/97 [==============================] - ETA: 0s - loss: 0.4579 - acc: 0.7749\n",
            "Epoch 1: val_acc improved from -inf to 0.86641, saving model to /content/drive/MyDrive/Colab Notebooks/SW캠프 데이터 비즈니스 과정/Re:Source/model/bilstm_gru3_001_0.8664.hdf5\n",
            "97/97 [==============================] - 247s 2s/step - loss: 0.4579 - acc: 0.7749 - val_loss: 0.3236 - val_acc: 0.8664\n",
            "Epoch 2/100\n"
          ]
        },
        {
          "output_type": "stream",
          "name": "stderr",
          "text": [
            "/usr/local/lib/python3.10/dist-packages/keras/src/engine/training.py:3079: UserWarning: You are saving your model as an HDF5 file via `model.save()`. This file format is considered legacy. We recommend using instead the native Keras format, e.g. `model.save('my_model.keras')`.\n",
            "  saving_api.save_model(\n"
          ]
        },
        {
          "output_type": "stream",
          "name": "stdout",
          "text": [
            "97/97 [==============================] - ETA: 0s - loss: 0.2975 - acc: 0.8807\n",
            "Epoch 2: val_acc improved from 0.86641 to 0.88359, saving model to /content/drive/MyDrive/Colab Notebooks/SW캠프 데이터 비즈니스 과정/Re:Source/model/bilstm_gru3_002_0.8836.hdf5\n",
            "97/97 [==============================] - 233s 2s/step - loss: 0.2975 - acc: 0.8807 - val_loss: 0.3022 - val_acc: 0.8836\n",
            "Epoch 3/100\n",
            "97/97 [==============================] - ETA: 0s - loss: 0.2597 - acc: 0.8989\n",
            "Epoch 3: val_acc improved from 0.88359 to 0.89640, saving model to /content/drive/MyDrive/Colab Notebooks/SW캠프 데이터 비즈니스 과정/Re:Source/model/bilstm_gru3_003_0.8964.hdf5\n",
            "97/97 [==============================] - 233s 2s/step - loss: 0.2597 - acc: 0.8989 - val_loss: 0.2744 - val_acc: 0.8964\n",
            "Epoch 4/100\n",
            "97/97 [==============================] - ETA: 0s - loss: 0.2635 - acc: 0.9008\n",
            "Epoch 4: val_acc did not improve from 0.89640\n",
            "97/97 [==============================] - 233s 2s/step - loss: 0.2635 - acc: 0.9008 - val_loss: 0.3064 - val_acc: 0.8792\n",
            "Epoch 5/100\n",
            "97/97 [==============================] - ETA: 0s - loss: 0.2189 - acc: 0.9177\n",
            "Epoch 5: val_acc did not improve from 0.89640\n",
            "97/97 [==============================] - 240s 2s/step - loss: 0.2189 - acc: 0.9177 - val_loss: 0.2943 - val_acc: 0.8881\n",
            "Epoch 6/100\n",
            "97/97 [==============================] - ETA: 0s - loss: 0.2057 - acc: 0.9233\n",
            "Epoch 6: val_acc did not improve from 0.89640\n",
            "97/97 [==============================] - 231s 2s/step - loss: 0.2057 - acc: 0.9233 - val_loss: 0.2903 - val_acc: 0.8902\n",
            "Epoch 7/100\n",
            "97/97 [==============================] - ETA: 0s - loss: 0.1949 - acc: 0.9294\n",
            "Epoch 7: val_acc did not improve from 0.89640\n",
            "97/97 [==============================] - 233s 2s/step - loss: 0.1949 - acc: 0.9294 - val_loss: 0.2837 - val_acc: 0.8906\n",
            "Epoch 8/100\n",
            "97/97 [==============================] - ETA: 0s - loss: 0.1857 - acc: 0.9314\n",
            "Epoch 8: val_acc did not improve from 0.89640\n",
            "97/97 [==============================] - 234s 2s/step - loss: 0.1857 - acc: 0.9314 - val_loss: 0.2906 - val_acc: 0.8888\n"
          ]
        }
      ]
    },
    {
      "cell_type": "code",
      "source": [
        "plt.figure(figsize=(15,5))\n",
        "\n",
        "plt.plot(h.history['acc'], label='acc', color='pink')\n",
        "plt.plot(h.history['val_acc'], label='val_acc', color='yellow')\n",
        "\n",
        "plt.legend()\n",
        "plt.show()"
      ],
      "metadata": {
        "colab": {
          "base_uri": "https://localhost:8080/",
          "height": 369
        },
        "id": "jCbRtBDvro8e",
        "outputId": "12c39db7-b22e-4b56-f135-a532b44ca591"
      },
      "execution_count": null,
      "outputs": [
        {
          "output_type": "display_data",
          "data": {
            "text/plain": [
              "<Figure size 1500x500 with 1 Axes>"
            ],
            "image/png": "[encoded data removed]"
          },
          "metadata": {}
        }
      ]
    },
    {
      "cell_type": "markdown",
      "source": [
        "## 평가 0.892"
      ],
      "metadata": {
        "id": "GDEJ87S7ITIq"
      }
    },
    {
      "cell_type": "code",
      "source": [
        "best_model = load_model('/content/drive/MyDrive/Colab Notebooks/SW캠프 데이터 비즈니스 과정/Re:Source/model/bilstm_gru3_003_0.8964.hdf5')\n",
        "\n",
        "pre = best_model.predict(X_test)   # 예측값 구하기 (각 클래스에 대한 확률)\n",
        "y_pred = (pre > 0.5).astype(int) # 0.5보다 크면 1, 아니면 0\n",
        "\n",
        "print(classification_report(y_test, y_pred))"
      ],
      "metadata": {
        "colab": {
          "base_uri": "https://localhost:8080/"
        },
        "outputId": "da7a3a41-a302-4096-c48a-1076b1162c49",
        "id": "0CLNofwkIVTS"
      },
      "execution_count": null,
      "outputs": [
        {
          "output_type": "stream",
          "name": "stdout",
          "text": [
            "241/241 [==============================] - 46s 186ms/step\n",
            "              precision    recall  f1-score   support\n",
            "\n",
            "           0       0.87      0.92      0.89      3810\n",
            "           1       0.92      0.87      0.89      3900\n",
            "\n",
            "    accuracy                           0.89      7710\n",
            "   macro avg       0.89      0.89      0.89      7710\n",
            "weighted avg       0.89      0.89      0.89      7710\n",
            "\n"
          ]
        }
      ]
    },
    {
      "cell_type": "code",
      "source": [
        "print(\"테스트 정확도: %.4f\" % (best_model.evaluate(X_test, y_test)[1]))"
      ],
      "metadata": {
        "colab": {
          "base_uri": "https://localhost:8080/"
        },
        "outputId": "abd11a9f-5990-4b54-f6ce-fe2c9e3daf4c",
        "id": "2G_IYBXWIVTS"
      },
      "execution_count": null,
      "outputs": [
        {
          "output_type": "stream",
          "name": "stdout",
          "text": [
            "241/241 [==============================] - 46s 184ms/step - loss: 0.2702 - acc: 0.8921\n",
            "테스트 정확도: 0.8921\n"
          ]
        }
      ]
    },
    {
      "cell_type": "code",
      "source": [
        "# 추정결과 confusion matrix\n",
        "c_mat = confusion_matrix(y_true = y_test, y_pred = y_pred)\n",
        "plt.figure(figsize=(4, 3))\n",
        "sns.heatmap(c_mat, annot=True, annot_kws={'size':15}, cmap='OrRd', fmt='.10g')\n",
        "plt.title('Confusion Matrix')\n",
        "plt.show()"
      ],
      "metadata": {
        "colab": {
          "base_uri": "https://localhost:8080/",
          "height": 312
        },
        "outputId": "b5cb77ac-f802-4d10-a1a4-9cf04c13c361",
        "id": "SKrlslQhIVTS"
      },
      "execution_count": null,
      "outputs": [
        {
          "output_type": "display_data",
          "data": {
            "text/plain": [
              "<Figure size 400x300 with 2 Axes>"
            ],
            "image/png": "[encoded data removed]"
          },
          "metadata": {}
        }
      ]
    },
    {
      "cell_type": "markdown",
      "source": [
        "# 모델링 정확도 비교\n",
        "- 로지스틱 회귀 : 0.880\n",
        "- LSTM : 0.894\n",
        "- BiLSTM : 0.904\n",
        "- LSTM + GRU : 0.887\n",
        "- BiLSTM + GRU : 0.892\n",
        "<br><br>\n",
        "\n",
        "**BiLSTM > LSTM > BiLSTM+GRU > LSTM+GRU > 로지스틱회귀**\n",
        "<br><br>\n",
        "=> BiLSTM 모델 선택!"
      ],
      "metadata": {
        "id": "c0Xsp8a0hd9l"
      }
    }
  ]
}